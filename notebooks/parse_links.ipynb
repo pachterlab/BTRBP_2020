{
  "nbformat": 4,
  "nbformat_minor": 0,
  "metadata": {
    "colab": {
      "name": "parse_links",
      "provenance": [],
      "collapsed_sections": [],
      "authorship_tag": "ABX9TyPtWthruP+Kizh5GsQSr9UH",
      "include_colab_link": true
    },
    "kernelspec": {
      "name": "python3",
      "display_name": "Python 3"
    }
  },
  "cells": [
    {
      "cell_type": "markdown",
      "metadata": {
        "id": "view-in-github",
        "colab_type": "text"
      },
      "source": [
        "<a href=\"https://colab.research.google.com/github/pachterlab/COVID-19-testing-database/blob/master/notebooks/parse_links.ipynb\" target=\"_parent\"><img src=\"https://colab.research.google.com/assets/colab-badge.svg\" alt=\"Open In Colab\"/></a>"
      ]
    },
    {
      "cell_type": "code",
      "metadata": {
        "id": "wSw5SdtvH8t6",
        "colab_type": "code",
        "colab": {}
      },
      "source": [
        "!wget --output-file=\"logs.csv\" \"https://docs.google.com/spreadsheets/d/10I8bVkLzvrmXJsb5N-8JSFpWw5vBwDKYzyOVAI4viKo/export?format=csv&gid=1514440859\" -O \"sheet.csv\""
      ],
      "execution_count": 1,
      "outputs": []
    },
    {
      "cell_type": "code",
      "metadata": {
        "id": "ta9Ds8btII6x",
        "colab_type": "code",
        "colab": {}
      },
      "source": [
        "!awk 'NR>4' sheet.csv > data.csv"
      ],
      "execution_count": 2,
      "outputs": []
    },
    {
      "cell_type": "code",
      "metadata": {
        "id": "SJnhI5hkINGB",
        "colab_type": "code",
        "colab": {}
      },
      "source": [
        "import pandas as pd\n",
        "import numpy as np\n",
        "import matplotlib.pyplot as plt\n",
        "import matplotlib as mpl\n",
        "\n",
        "from urllib.request import urlretrieve \n",
        "from bs4 import BeautifulSoup \n",
        "from urllib.request import urlopen\n",
        "import re\n",
        "\n",
        "def nd(arr):\n",
        "  return np.asarray(arr).reshape(-1)\n",
        "\n",
        "def yex(ax):\n",
        "    lims = [\n",
        "        np.min([ax.get_xlim(), ax.get_ylim()]),  # min of both axes\n",
        "        np.max([ax.get_xlim(), ax.get_ylim()]),  # max of both axes\n",
        "    ]\n",
        "    \n",
        "    # now plot both limits against eachother\n",
        "    ax.plot(lims, lims, 'k-', alpha=0.75, zorder=0)\n",
        "    ax.set_aspect('equal')\n",
        "    ax.set_xlim(lims)\n",
        "    ax.set_ylim(lims)\n",
        "    return ax\n",
        "\n",
        "fsize=20\n",
        "\n",
        "plt.rcParams.update({'font.size': fsize})\n",
        "%config InlineBackend.figure_format = 'retina'"
      ],
      "execution_count": 46,
      "outputs": []
    },
    {
      "cell_type": "code",
      "metadata": {
        "id": "UMsYtSCMIrpO",
        "colab_type": "code",
        "colab": {}
      },
      "source": [
        "df = pd.read_csv(\"data.csv\")\n",
        "df.index = df.institution.values\n",
        "df[\"testing_num\"] = df.testing.map(lambda x: {\"FALSE\": 0, \"TRUE\": 1}.get(x, 0))"
      ],
      "execution_count": 4,
      "outputs": []
    },
    {
      "cell_type": "code",
      "metadata": {
        "id": "07CIHTkx9JWa",
        "colab_type": "code",
        "colab": {
          "base_uri": "https://localhost:8080/",
          "height": 585
        },
        "outputId": "fa571d1f-e1f9-4ee1-d9ea-d4526f1b9413"
      },
      "source": [
        "df.head()"
      ],
      "execution_count": 5,
      "outputs": [
        {
          "output_type": "execute_result",
          "data": {
            "text/html": [
              "<div>\n",
              "<style scoped>\n",
              "    .dataframe tbody tr th:only-of-type {\n",
              "        vertical-align: middle;\n",
              "    }\n",
              "\n",
              "    .dataframe tbody tr th {\n",
              "        vertical-align: top;\n",
              "    }\n",
              "\n",
              "    .dataframe thead th {\n",
              "        text-align: right;\n",
              "    }\n",
              "</style>\n",
              "<table border=\"1\" class=\"dataframe\">\n",
              "  <thead>\n",
              "    <tr style=\"text-align: right;\">\n",
              "      <th></th>\n",
              "      <th>institution</th>\n",
              "      <th>type</th>\n",
              "      <th>state</th>\n",
              "      <th>testing_info_link</th>\n",
              "      <th>rtc_model</th>\n",
              "      <th>last_updated</th>\n",
              "      <th>testing</th>\n",
              "      <th>testing_type</th>\n",
              "      <th>test_initial (True/False)</th>\n",
              "      <th>test_recurring</th>\n",
              "      <th>test_freq (times/week)</th>\n",
              "      <th>test_vendor</th>\n",
              "      <th>test_pool</th>\n",
              "      <th>comments</th>\n",
              "      <th>testing_num</th>\n",
              "    </tr>\n",
              "  </thead>\n",
              "  <tbody>\n",
              "    <tr>\n",
              "      <th>Abilene Christian University</th>\n",
              "      <td>Abilene Christian University</td>\n",
              "      <td>Private</td>\n",
              "      <td>TX</td>\n",
              "      <td>https://www.acu.edu/coronavirus/july-17-2020-c...</td>\n",
              "      <td>Planning for in-person</td>\n",
              "      <td>7/22/2020</td>\n",
              "      <td>TRUE</td>\n",
              "      <td>Both asymptomatic and symptomatic</td>\n",
              "      <td>FALSE</td>\n",
              "      <td>FALSE</td>\n",
              "      <td>0.00</td>\n",
              "      <td>NaN</td>\n",
              "      <td>NaN</td>\n",
              "      <td>Our plan includes testing any faculty, staff a...</td>\n",
              "      <td>1</td>\n",
              "    </tr>\n",
              "    <tr>\n",
              "      <th>Academy of Art University</th>\n",
              "      <td>Academy of Art University</td>\n",
              "      <td>Private</td>\n",
              "      <td>CA</td>\n",
              "      <td>https://www.academyart.edu/academy-of-art-univ...</td>\n",
              "      <td>Proposing a hybrid model</td>\n",
              "      <td>7/27/2020</td>\n",
              "      <td>Unknown</td>\n",
              "      <td>Unknown</td>\n",
              "      <td>Unknown</td>\n",
              "      <td>Unknown</td>\n",
              "      <td>NaN</td>\n",
              "      <td>NaN</td>\n",
              "      <td>NaN</td>\n",
              "      <td>NaN</td>\n",
              "      <td>0</td>\n",
              "    </tr>\n",
              "    <tr>\n",
              "      <th>Adelphi University</th>\n",
              "      <td>Adelphi University</td>\n",
              "      <td>Private</td>\n",
              "      <td>NY</td>\n",
              "      <td>https://www.adelphi.edu/restart/wp-content/upl...</td>\n",
              "      <td>Proposing a hybrid model</td>\n",
              "      <td>7/27/2020</td>\n",
              "      <td>TRUE</td>\n",
              "      <td>Symptomatic</td>\n",
              "      <td>TRUE</td>\n",
              "      <td>TRUE</td>\n",
              "      <td>0.33</td>\n",
              "      <td>Vault Health</td>\n",
              "      <td>NaN</td>\n",
              "      <td>Re-entry testing of residential students, inte...</td>\n",
              "      <td>1</td>\n",
              "    </tr>\n",
              "    <tr>\n",
              "      <th>Adrian College</th>\n",
              "      <td>Adrian College</td>\n",
              "      <td>Private</td>\n",
              "      <td>MI</td>\n",
              "      <td>http://adrian.edu/news/ac-president-docking-sa...</td>\n",
              "      <td>Planning for in-person</td>\n",
              "      <td>7/27/2020</td>\n",
              "      <td>FALSE</td>\n",
              "      <td>No voluntary testing</td>\n",
              "      <td>FALSE</td>\n",
              "      <td>FALSE</td>\n",
              "      <td>0.00</td>\n",
              "      <td>NaN</td>\n",
              "      <td>NaN</td>\n",
              "      <td>Students are required to have a negative test ...</td>\n",
              "      <td>0</td>\n",
              "    </tr>\n",
              "    <tr>\n",
              "      <th>Agnes Scott College</th>\n",
              "      <td>Agnes Scott College</td>\n",
              "      <td>Private</td>\n",
              "      <td>GA</td>\n",
              "      <td>https://www.agnesscott.edu/coronavirus/updates...</td>\n",
              "      <td>Planning for in-person</td>\n",
              "      <td>7/22/2020</td>\n",
              "      <td>TRUE</td>\n",
              "      <td>Unknown</td>\n",
              "      <td>TRUE</td>\n",
              "      <td>Unknown</td>\n",
              "      <td>0.00</td>\n",
              "      <td>Unknown</td>\n",
              "      <td>NaN</td>\n",
              "      <td>Athletes will be tested upon arrival, students...</td>\n",
              "      <td>1</td>\n",
              "    </tr>\n",
              "  </tbody>\n",
              "</table>\n",
              "</div>"
            ],
            "text/plain": [
              "                                               institution  ... testing_num\n",
              "Abilene Christian University  Abilene Christian University  ...           1\n",
              "Academy of Art University        Academy of Art University  ...           0\n",
              "Adelphi University                      Adelphi University  ...           1\n",
              "Adrian College                              Adrian College  ...           0\n",
              "Agnes Scott College                    Agnes Scott College  ...           1\n",
              "\n",
              "[5 rows x 15 columns]"
            ]
          },
          "metadata": {
            "tags": []
          },
          "execution_count": 5
        }
      ]
    },
    {
      "cell_type": "code",
      "metadata": {
        "id": "dN4Q177myJgz",
        "colab_type": "code",
        "colab": {}
      },
      "source": [
        "def find_text(url, text=\"CDC\"):\n",
        "  try:\n",
        "    html= urlopen(url)\n",
        "  except:\n",
        "    return False\n",
        "  soup = BeautifulSoup(html)\n",
        "  ret = soup.findAll(text=re.compile(text))\n",
        "  return ret"
      ],
      "execution_count": 56,
      "outputs": []
    },
    {
      "cell_type": "code",
      "metadata": {
        "id": "dX7GUGFoJvuZ",
        "colab_type": "code",
        "colab": {
          "base_uri": "https://localhost:8080/",
          "height": 692
        },
        "outputId": "481052fa-ba88-4213-e3cf-f245d074dc13"
      },
      "source": [
        "urls = df.testing_info_link.values\n",
        "n = 50\n",
        "word = \"CDC\"\n",
        "\n",
        "for uidx, u in enumerate(urls):\n",
        "  if u:\n",
        "    v = find_text(u, word)\n",
        "    if v: \n",
        "      for s in v:\n",
        "        sentences = s.split(\".\")\n",
        "        for t in sentences:\n",
        "          if word in t:\n",
        "            print(f\"{uidx}: {t.strip()}.\")\n",
        "      #print(v)\n",
        "  if uidx==n: break;"
      ],
      "execution_count": 61,
      "outputs": [
        {
          "output_type": "stream",
          "text": [
            "0: To meet CDC guidelines or local health department instructions, ACU will require quarantine for those who have been exposed to COVID-19 and isolation for those who test positive.\n",
            "1: Based on our assessment of current CDC recommendations, we are writing to let you know that our onsite classes will remain online through Saturday, May 23, 2020 at 8AM which is the end of the semester.\n",
            "1: CDC website.\n",
            "1: The World Health Organization (WHO) and the Center for Disease Control (CDC) recommend the following to prevent further infection: regular hand washing, covering mouth and nose when coughing and sneezing, thoroughly cooking meat and eggs.\n",
            "1: CDC Coronavirus symptoms.\n",
            "1: CDC website.\n",
            "3: Adrian College’s administration will spend the next three months preparing the campus to comply with state, federal, and CDC guidelines for safety during the COVID-19 pandemic, but the college does intend to welcome students to campus.\n",
            "4: Given that the health and safety of our community remains our top priority, the Health Advisory Group is continually reviewing guidelines from the Centers for Disease Control and Prevention (CDC), as well as state and local entities, to ensure that we are following all recommendations and best practices.\n",
            "4: CDC/Apple COVID-19 Screening Tool.\n",
            "6: My office will continue to work closely with and seek recommendations from the Alabama  Department of Public Health (ADPH), Center for Disease Control (CDC) and the Governor's Office and will heed advisories issued by the State Department and representatives of the federal government.\n",
            "9: As outlined in our Fall ReOpening Plan, protocols set forth, and CDC guidelines, all members of personnel who had direct contact with this the faculty member have been notified and these individuals have been asked to self-quarantine for the next 14 days.\n",
            "9: As outlined in our Fall ReOpening Plan, protocols set forth, and CDC guidelines, all members of personnel who have had close contact with this staff member have been notified and these individuals have been asked to self-quarantine for the next 14 days.\n",
            "9: CDC Guidelines.\n",
            "11: With more than 90 buildings across all campuses and sites, Coastal Alabama is committed to following guidelines issued by the CDC, the Governor’s Office, and the Chancellor’s Office to ensure every precautionary measure is being taken to protect its stakeholders and students.\n",
            "17: NOTE:  The plan will be adapted as needed based on further guidance from ACCS, ADPH, and the CDC.\n",
            "17: Prevention Measures (based on CDC guidance).\n",
            "33: It includes a list of common symptoms, recognized by the CDC, associated with SARS-CoV2.\n",
            "38: We will ask those who come back to campus to work with RCs and CDCs to develop plans for your floor or hall and to develop strategies for limiting your contacts as a way of reducing the exposures you have each day.\n",
            "40: We will follow social distancing protocols set forth by the CDC.\n",
            "40: If you are living on campus and you need to self-isolate, you may be moved from your current residence hall to a self-isolation location on campus until you have met the CDC recovery guidelines.\n",
            "44: This week, the Centers for Disease Control and Prevention (CDC) updated their testing guidance.\n",
            "44: The CDC does, however, state, “in areas with moderate to substantial community transmission where resources allow, local health officials and IHEs may consider testing some or all asymptomatic students, faculty, and staff who have no known exposure (e.\n",
            "44: Read more about CDC testing guidance for Institutions of Higher Education (IHEs) here.\n",
            "45: CDC has identified three major symptoms of COVID-19:.\n",
            "45: CDC guidelines for what to do if you are sick.\n",
            "45: CDC states that a significant portion of individuals with COVID-19 lack symptoms (are “asymptomatic”) and that even those who eventually develop symptoms (are “pre-symptomatic”) can transmit the virus to others before showing symptoms.\n",
            "45: CDC recommends.\n",
            "45: CDC guidelines.\n",
            "45: either at their permanent address or move to a provided isolation/quarantine space on campus in accordance with guidance from CDC and the Kent County Health Department.\n",
            "45: recommendation from CDC.\n",
            "45: CDC’s Considerations for Travelers.\n",
            "45: All employee travel for College business should be limited to only travel approved by President Kevin Quinn and must follow travel guidelines from CDC, the U.\n",
            "47: CDC guidance.\n",
            "47: Sun Devil Fitness facilities and wellness programs will be open in accordance with CDC guidelines including capacity requirements, social distancing protocols, face coverings and cleaning requirements.\n",
            "47: All passengers will be required to wear a face covering and should maintain physical distancing of at least 6 feet, consistent with CDC guidelines.\n",
            "47: The university will implement protocols for employee areas — which often have student interaction — based on CDC guidelines, including:.\n",
            "48: We have relied heavily on guidance from Centers for Disease Control and Prevention (CDC), Governor Asa Hutchinson’s Office, local health authorities, and input from our campus community.\n",
            "50: CDC Information.\n",
            "50: The Asbury University Preparation for the Residential Education Program (PREP) Team has worked in conjunction with the Centers for Disease Control (CDC) guidelines as well as state and federal guidelines to plan for students to.\n"
          ],
          "name": "stdout"
        }
      ]
    },
    {
      "cell_type": "code",
      "metadata": {
        "id": "-PRGQll6KpAp",
        "colab_type": "code",
        "colab": {
          "base_uri": "https://localhost:8080/",
          "height": 440
        },
        "outputId": "ffe51bb3-c73b-40af-e1fd-b68868bf0db2"
      },
      "source": [
        "urls = df.testing_info_link.values\n",
        "n = 50\n",
        "word = \"cleaning\"\n",
        "\n",
        "for uidx, u in enumerate(urls):\n",
        "  if u:\n",
        "    v = find_text(u, word)\n",
        "    if v: \n",
        "      for s in v:\n",
        "        sentences = s.split(\".\")\n",
        "        for t in sentences:\n",
        "          if word in t:\n",
        "            print(f\"{uidx}: {t.strip()}.\")\n",
        "      #print(v)\n",
        "  if uidx==n: break;"
      ],
      "execution_count": 62,
      "outputs": [
        {
          "output_type": "stream",
          "text": [
            "1: The University will employ enhanced cleaning and sanitation, hygiene stations, plexiglass, signage, and various other measures to provide for physical distancing and other health and safety needs.\n",
            "1: As a result, we have enhanced some of our cleaning procedures in the interest of our students’ and staff’s health and safety.\n",
            "1: Cleaning of academic buildings and residence halls: We spend between 8-16 hours cleaning each building every night, and, as of last Monday, March 2, 2020, we have intensified our cleaning procedures.\n",
            "1: Our daily services include the emptying, cleaning, and disinfecting of wastepaper receptacles, sanitary napkin containers, mirrors, dispensers, toilets and and wash basins.\n",
            "12: The College has implemented a safety plan which includes screening students, cleaning and sanitization according to federal and state recommendations, and making accommodations for proper social distancing.\n",
            "13: Sanitation and cleaning protocols for each area of both campuses have also been established as part of the plan.\n",
            "17: LBWCC is following medical protocols from state and national health authorities and has implemented recommended guidelines in relation to social distancing, hygiene, travel, cleaning, and visits to the College.\n",
            "17: The College has taken steps to minimize the risk of transmission through enhanced cleaning and disinfecting procedures recommended by the Alabama Department of Public Health.\n",
            "38: We will fully implement and rely on the mutually reinforcing measures of face coverings, physical distancing, rigorous hygiene practices, thorough cleaning and disinfecting, contact tracing, and frequent testing.\n",
            "44: , adequate social distancing, correct use of cloth face covering, frequent hand washing, enhanced cleaning and disinfection).\n",
            "45: Housekeeping staff will practice enhanced cleaning and disinfecting protocols in campus spaces, including classrooms and bathrooms, based on.\n",
            "45: Aquinas will acquire at least a 90-day supply of critical equipment and supplies for the safe cleaning and disinfecting of spaces and equipment.\n",
            "47: For cleaning, facilities and operational questions, contact.\n",
            "47: The university will also implement increased cleaning protocols including daily cleaning of classrooms with two additional cleanings of high-touch surfaces, providing cleaning and sanitizing supplies in all classrooms for students, and reducing attendance in classrooms by half on alternating days.\n",
            "47: Introducing medical-grade and repeated cleaning.\n",
            "47: All ASU buildings — including residence halls and classrooms — will receive a thorough cleaning with medical-grade products followed by a fogging system cleanse prior to occupancy this fall.\n",
            "47: During the semester, all buildings will receive a thorough cleaning once per day, and high-touch surfaces will be cleaned twice daily.\n",
            "47: ASU will use Environmental Protection Agency-approved, medical-grade products for cleaning and will increase the frequency of cleaning of high-touch areas.\n",
            "47: Sun Devil Fitness facilities and wellness programs will be open in accordance with CDC guidelines including capacity requirements, social distancing protocols, face coverings and cleaning requirements.\n",
            "47: with social distancing guidelines and increased cleaning implemented.\n",
            "47: Enhanced cleaning protocols.\n",
            "47: All ASU buildings — including residence halls and classrooms — will receive a thorough cleaning with medical-grade products followed by a fogging system cleanse prior to occupancy this fall.\n",
            "47: During the semester, all buildings will receive a thorough cleaning once per day, and high-touch surfaces will be cleaned twice daily.\n",
            "47: Additional details on location-specific cleaning protocols and traffic protocols can be found on the.\n"
          ],
          "name": "stdout"
        }
      ]
    },
    {
      "cell_type": "code",
      "metadata": {
        "id": "oGcQiVWS20L1",
        "colab_type": "code",
        "colab": {}
      },
      "source": [
        ""
      ],
      "execution_count": null,
      "outputs": []
    }
  ]
}