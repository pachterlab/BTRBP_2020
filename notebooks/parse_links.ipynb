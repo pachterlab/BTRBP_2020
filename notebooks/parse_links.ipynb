{
  "nbformat": 4,
  "nbformat_minor": 0,
  "metadata": {
    "colab": {
      "name": "parse_links",
      "provenance": [],
      "collapsed_sections": [],
      "authorship_tag": "ABX9TyP38w9MqSj9KnlRje274Ko6",
      "include_colab_link": true
    },
    "kernelspec": {
      "name": "python3",
      "display_name": "Python 3"
    }
  },
  "cells": [
    {
      "cell_type": "markdown",
      "metadata": {
        "id": "view-in-github",
        "colab_type": "text"
      },
      "source": [
        "<a href=\"https://colab.research.google.com/github/pachterlab/COVID-19-testing-database/blob/master/notebooks/parse_links.ipynb\" target=\"_parent\"><img src=\"https://colab.research.google.com/assets/colab-badge.svg\" alt=\"Open In Colab\"/></a>"
      ]
    },
    {
      "cell_type": "code",
      "metadata": {
        "id": "wSw5SdtvH8t6",
        "colab_type": "code",
        "colab": {}
      },
      "source": [
        "!wget --output-file=\"logs.csv\" \"https://docs.google.com/spreadsheets/d/10I8bVkLzvrmXJsb5N-8JSFpWw5vBwDKYzyOVAI4viKo/export?format=csv&gid=1514440859\" -O \"sheet.csv\""
      ],
      "execution_count": 1,
      "outputs": []
    },
    {
      "cell_type": "code",
      "metadata": {
        "id": "ta9Ds8btII6x",
        "colab_type": "code",
        "colab": {}
      },
      "source": [
        "!awk 'NR>4' sheet.csv > data.csv"
      ],
      "execution_count": 2,
      "outputs": []
    },
    {
      "cell_type": "code",
      "metadata": {
        "id": "SJnhI5hkINGB",
        "colab_type": "code",
        "colab": {}
      },
      "source": [
        "import pandas as pd\n",
        "import numpy as np\n",
        "import matplotlib.pyplot as plt\n",
        "import matplotlib as mpl\n",
        "\n",
        "from urllib.request import urlretrieve \n",
        "from bs4 import BeautifulSoup \n",
        "from urllib.request import urlopen\n",
        "import re\n",
        "\n",
        "def nd(arr):\n",
        "  return np.asarray(arr).reshape(-1)\n",
        "\n",
        "def yex(ax):\n",
        "    lims = [\n",
        "        np.min([ax.get_xlim(), ax.get_ylim()]),  # min of both axes\n",
        "        np.max([ax.get_xlim(), ax.get_ylim()]),  # max of both axes\n",
        "    ]\n",
        "    \n",
        "    # now plot both limits against eachother\n",
        "    ax.plot(lims, lims, 'k-', alpha=0.75, zorder=0)\n",
        "    ax.set_aspect('equal')\n",
        "    ax.set_xlim(lims)\n",
        "    ax.set_ylim(lims)\n",
        "    return ax\n",
        "\n",
        "fsize=20\n",
        "\n",
        "plt.rcParams.update({'font.size': fsize})\n",
        "%config InlineBackend.figure_format = 'retina'"
      ],
      "execution_count": 46,
      "outputs": []
    },
    {
      "cell_type": "code",
      "metadata": {
        "id": "UMsYtSCMIrpO",
        "colab_type": "code",
        "colab": {}
      },
      "source": [
        "df = pd.read_csv(\"data.csv\")\n",
        "df.index = df.institution.values\n",
        "df[\"testing_num\"] = df.testing.map(lambda x: {\"FALSE\": 0, \"TRUE\": 1}.get(x, 0))"
      ],
      "execution_count": 4,
      "outputs": []
    },
    {
      "cell_type": "code",
      "metadata": {
        "id": "07CIHTkx9JWa",
        "colab_type": "code",
        "colab": {
          "base_uri": "https://localhost:8080/",
          "height": 585
        },
        "outputId": "fa571d1f-e1f9-4ee1-d9ea-d4526f1b9413"
      },
      "source": [
        "df.head()"
      ],
      "execution_count": 5,
      "outputs": [
        {
          "output_type": "execute_result",
          "data": {
            "text/html": [
              "<div>\n",
              "<style scoped>\n",
              "    .dataframe tbody tr th:only-of-type {\n",
              "        vertical-align: middle;\n",
              "    }\n",
              "\n",
              "    .dataframe tbody tr th {\n",
              "        vertical-align: top;\n",
              "    }\n",
              "\n",
              "    .dataframe thead th {\n",
              "        text-align: right;\n",
              "    }\n",
              "</style>\n",
              "<table border=\"1\" class=\"dataframe\">\n",
              "  <thead>\n",
              "    <tr style=\"text-align: right;\">\n",
              "      <th></th>\n",
              "      <th>institution</th>\n",
              "      <th>type</th>\n",
              "      <th>state</th>\n",
              "      <th>testing_info_link</th>\n",
              "      <th>rtc_model</th>\n",
              "      <th>last_updated</th>\n",
              "      <th>testing</th>\n",
              "      <th>testing_type</th>\n",
              "      <th>test_initial (True/False)</th>\n",
              "      <th>test_recurring</th>\n",
              "      <th>test_freq (times/week)</th>\n",
              "      <th>test_vendor</th>\n",
              "      <th>test_pool</th>\n",
              "      <th>comments</th>\n",
              "      <th>testing_num</th>\n",
              "    </tr>\n",
              "  </thead>\n",
              "  <tbody>\n",
              "    <tr>\n",
              "      <th>Abilene Christian University</th>\n",
              "      <td>Abilene Christian University</td>\n",
              "      <td>Private</td>\n",
              "      <td>TX</td>\n",
              "      <td>https://www.acu.edu/coronavirus/july-17-2020-c...</td>\n",
              "      <td>Planning for in-person</td>\n",
              "      <td>7/22/2020</td>\n",
              "      <td>TRUE</td>\n",
              "      <td>Both asymptomatic and symptomatic</td>\n",
              "      <td>FALSE</td>\n",
              "      <td>FALSE</td>\n",
              "      <td>0.00</td>\n",
              "      <td>NaN</td>\n",
              "      <td>NaN</td>\n",
              "      <td>Our plan includes testing any faculty, staff a...</td>\n",
              "      <td>1</td>\n",
              "    </tr>\n",
              "    <tr>\n",
              "      <th>Academy of Art University</th>\n",
              "      <td>Academy of Art University</td>\n",
              "      <td>Private</td>\n",
              "      <td>CA</td>\n",
              "      <td>https://www.academyart.edu/academy-of-art-univ...</td>\n",
              "      <td>Proposing a hybrid model</td>\n",
              "      <td>7/27/2020</td>\n",
              "      <td>Unknown</td>\n",
              "      <td>Unknown</td>\n",
              "      <td>Unknown</td>\n",
              "      <td>Unknown</td>\n",
              "      <td>NaN</td>\n",
              "      <td>NaN</td>\n",
              "      <td>NaN</td>\n",
              "      <td>NaN</td>\n",
              "      <td>0</td>\n",
              "    </tr>\n",
              "    <tr>\n",
              "      <th>Adelphi University</th>\n",
              "      <td>Adelphi University</td>\n",
              "      <td>Private</td>\n",
              "      <td>NY</td>\n",
              "      <td>https://www.adelphi.edu/restart/wp-content/upl...</td>\n",
              "      <td>Proposing a hybrid model</td>\n",
              "      <td>7/27/2020</td>\n",
              "      <td>TRUE</td>\n",
              "      <td>Symptomatic</td>\n",
              "      <td>TRUE</td>\n",
              "      <td>TRUE</td>\n",
              "      <td>0.33</td>\n",
              "      <td>Vault Health</td>\n",
              "      <td>NaN</td>\n",
              "      <td>Re-entry testing of residential students, inte...</td>\n",
              "      <td>1</td>\n",
              "    </tr>\n",
              "    <tr>\n",
              "      <th>Adrian College</th>\n",
              "      <td>Adrian College</td>\n",
              "      <td>Private</td>\n",
              "      <td>MI</td>\n",
              "      <td>http://adrian.edu/news/ac-president-docking-sa...</td>\n",
              "      <td>Planning for in-person</td>\n",
              "      <td>7/27/2020</td>\n",
              "      <td>FALSE</td>\n",
              "      <td>No voluntary testing</td>\n",
              "      <td>FALSE</td>\n",
              "      <td>FALSE</td>\n",
              "      <td>0.00</td>\n",
              "      <td>NaN</td>\n",
              "      <td>NaN</td>\n",
              "      <td>Students are required to have a negative test ...</td>\n",
              "      <td>0</td>\n",
              "    </tr>\n",
              "    <tr>\n",
              "      <th>Agnes Scott College</th>\n",
              "      <td>Agnes Scott College</td>\n",
              "      <td>Private</td>\n",
              "      <td>GA</td>\n",
              "      <td>https://www.agnesscott.edu/coronavirus/updates...</td>\n",
              "      <td>Planning for in-person</td>\n",
              "      <td>7/22/2020</td>\n",
              "      <td>TRUE</td>\n",
              "      <td>Unknown</td>\n",
              "      <td>TRUE</td>\n",
              "      <td>Unknown</td>\n",
              "      <td>0.00</td>\n",
              "      <td>Unknown</td>\n",
              "      <td>NaN</td>\n",
              "      <td>Athletes will be tested upon arrival, students...</td>\n",
              "      <td>1</td>\n",
              "    </tr>\n",
              "  </tbody>\n",
              "</table>\n",
              "</div>"
            ],
            "text/plain": [
              "                                               institution  ... testing_num\n",
              "Abilene Christian University  Abilene Christian University  ...           1\n",
              "Academy of Art University        Academy of Art University  ...           0\n",
              "Adelphi University                      Adelphi University  ...           1\n",
              "Adrian College                              Adrian College  ...           0\n",
              "Agnes Scott College                    Agnes Scott College  ...           1\n",
              "\n",
              "[5 rows x 15 columns]"
            ]
          },
          "metadata": {
            "tags": []
          },
          "execution_count": 5
        }
      ]
    },
    {
      "cell_type": "code",
      "metadata": {
        "id": "dN4Q177myJgz",
        "colab_type": "code",
        "colab": {}
      },
      "source": [
        "def find_text(url, text=\"CDC\"):\n",
        "  try:\n",
        "    html= urlopen(url)\n",
        "  except:\n",
        "    return False\n",
        "  soup = BeautifulSoup(html)\n",
        "  ret = soup.findAll(text=re.compile(text))\n",
        "  return ret"
      ],
      "execution_count": 56,
      "outputs": []
    },
    {
      "cell_type": "code",
      "metadata": {
        "id": "dX7GUGFoJvuZ",
        "colab_type": "code",
        "colab": {
          "base_uri": "https://localhost:8080/",
          "height": 306
        },
        "outputId": "b6152dc4-c4b3-49e7-81e6-9f6aaa928fc4"
      },
      "source": [
        "urls = df.testing_info_link.values\n",
        "n = 250\n",
        "word = \"CDC\"\n",
        "\n",
        "for uidx, u in enumerate(urls):\n",
        "  if u:\n",
        "    v = find_text(u, word)\n",
        "    if v: \n",
        "      for s in v:\n",
        "        sentences = s.split(\".\")\n",
        "        for t in sentences:\n",
        "          if word in t:\n",
        "            print(f\"{uidx}: {t.strip()}.\")\n",
        "      #print(v)\n",
        "  if uidx==n: break;"
      ],
      "execution_count": 59,
      "outputs": [
        {
          "output_type": "stream",
          "text": [
            "0: To meet CDC guidelines or local health department instructions, ACU will require quarantine for those who have been exposed to COVID-19 and isolation for those who test positive.\n",
            "1: Based on our assessment of current CDC recommendations, we are writing to let you know that our onsite classes will remain online through Saturday, May 23, 2020 at 8AM which is the end of the semester.\n",
            "1: CDC website.\n",
            "1: The World Health Organization (WHO) and the Center for Disease Control (CDC) recommend the following to prevent further infection: regular hand washing, covering mouth and nose when coughing and sneezing, thoroughly cooking meat and eggs.\n",
            "1: CDC Coronavirus symptoms.\n",
            "1: CDC website.\n",
            "3: Adrian College’s administration will spend the next three months preparing the campus to comply with state, federal, and CDC guidelines for safety during the COVID-19 pandemic, but the college does intend to welcome students to campus.\n",
            "4: Given that the health and safety of our community remains our top priority, the Health Advisory Group is continually reviewing guidelines from the Centers for Disease Control and Prevention (CDC), as well as state and local entities, to ensure that we are following all recommendations and best practices.\n",
            "4: CDC/Apple COVID-19 Screening Tool.\n",
            "6: My office will continue to work closely with and seek recommendations from the Alabama  Department of Public Health (ADPH), Center for Disease Control (CDC) and the Governor's Office and will heed advisories issued by the State Department and representatives of the federal government.\n",
            "9: As outlined in our Fall ReOpening Plan, protocols set forth, and CDC guidelines, all members of personnel who had direct contact with this the faculty member have been notified and these individuals have been asked to self-quarantine for the next 14 days.\n",
            "9: As outlined in our Fall ReOpening Plan, protocols set forth, and CDC guidelines, all members of personnel who have had close contact with this staff member have been notified and these individuals have been asked to self-quarantine for the next 14 days.\n",
            "9: CDC Guidelines.\n",
            "11: With more than 90 buildings across all campuses and sites, Coastal Alabama is committed to following guidelines issued by the CDC, the Governor’s Office, and the Chancellor’s Office to ensure every precautionary measure is being taken to protect its stakeholders and students.\n",
            "17: NOTE:  The plan will be adapted as needed based on further guidance from ACCS, ADPH, and the CDC.\n",
            "17: Prevention Measures (based on CDC guidance).\n"
          ],
          "name": "stdout"
        }
      ]
    },
    {
      "cell_type": "code",
      "metadata": {
        "id": "-PRGQll6KpAp",
        "colab_type": "code",
        "colab": {}
      },
      "source": [
        ""
      ],
      "execution_count": null,
      "outputs": []
    }
  ]
}