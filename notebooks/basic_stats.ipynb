{
  "nbformat": 4,
  "nbformat_minor": 0,
  "metadata": {
    "colab": {
      "name": "basic_stats",
      "provenance": [],
      "include_colab_link": true
    },
    "kernelspec": {
      "name": "python3",
      "display_name": "Python 3"
    }
  },
  "cells": [
    {
      "cell_type": "markdown",
      "metadata": {
        "id": "view-in-github",
        "colab_type": "text"
      },
      "source": [
        "<a href=\"https://colab.research.google.com/github/pachterlab/COVID-19-testing-database/blob/master/notebooks/basic_stats.ipynb\" target=\"_parent\"><img src=\"https://colab.research.google.com/assets/colab-badge.svg\" alt=\"Open In Colab\"/></a>"
      ]
    },
    {
      "cell_type": "markdown",
      "metadata": {
        "id": "pQEUkXrKCPrQ",
        "colab_type": "text"
      },
      "source": [
        "This notebook reproduces the results and figures in \"Markedly heterogeneous COVID-19 testing plans among US universities\" by A. Sina Booeshaghi, Fayth Tan, Benjy Renton, Zackary Berger and Lior Pachter"
      ]
    },
    {
      "cell_type": "code",
      "metadata": {
        "id": "F_u75nLbClRo",
        "colab_type": "code",
        "colab": {
          "base_uri": "https://localhost:8080/",
          "height": 34
        },
        "outputId": "8ffc925f-8c86-4abf-d966-7c55cc56913e"
      },
      "source": [
        "!date"
      ],
      "execution_count": 1,
      "outputs": [
        {
          "output_type": "stream",
          "text": [
            "Sat Aug  8 12:32:30 UTC 2020\n"
          ],
          "name": "stdout"
        }
      ]
    },
    {
      "cell_type": "markdown",
      "metadata": {
        "id": "QWoRY-HyDpMo",
        "colab_type": "text"
      },
      "source": [
        "## Setup"
      ]
    },
    {
      "cell_type": "code",
      "metadata": {
        "id": "85T7DdEQ8Un0",
        "colab_type": "code",
        "colab": {
          "base_uri": "https://localhost:8080/",
          "height": 119
        },
        "outputId": "866f037c-f90a-4919-a117-fc84dd4cbb69"
      },
      "source": [
        "!git clone https://github.com/pachterlab/COVID-19-testing-database.git"
      ],
      "execution_count": 2,
      "outputs": [
        {
          "output_type": "stream",
          "text": [
            "Cloning into 'COVID-19-testing-database'...\n",
            "remote: Enumerating objects: 82, done.\u001b[K\n",
            "remote: Counting objects: 100% (82/82), done.\u001b[K\n",
            "remote: Compressing objects: 100% (78/78), done.\u001b[K\n",
            "remote: Total 82 (delta 21), reused 3 (delta 0), pack-reused 0\u001b[K\n",
            "Unpacking objects: 100% (82/82), done.\n"
          ],
          "name": "stdout"
        }
      ]
    },
    {
      "cell_type": "code",
      "metadata": {
        "id": "wSw5SdtvH8t6",
        "colab_type": "code",
        "colab": {}
      },
      "source": [
        "!wget --output-file=\"logs.csv\" \"https://docs.google.com/spreadsheets/d/10I8bVkLzvrmXJsb5N-8JSFpWw5vBwDKYzyOVAI4viKo/export?format=csv&gid=1514440859\" -O \"sheet.csv\""
      ],
      "execution_count": 3,
      "outputs": []
    },
    {
      "cell_type": "code",
      "metadata": {
        "id": "ta9Ds8btII6x",
        "colab_type": "code",
        "colab": {}
      },
      "source": [
        "!awk 'NR>4' sheet.csv > data.csv"
      ],
      "execution_count": 4,
      "outputs": []
    },
    {
      "cell_type": "code",
      "metadata": {
        "id": "SJnhI5hkINGB",
        "colab_type": "code",
        "colab": {}
      },
      "source": [
        "import pandas as pd\n",
        "import numpy as np\n",
        "import matplotlib.pyplot as plt\n",
        "import matplotlib as mpl\n",
        "from scipy import stats\n",
        "\n",
        "def nd(arr):\n",
        "  return np.asarray(arr).reshape(-1)\n",
        "\n",
        "def yex(ax):\n",
        "    lims = [\n",
        "        np.min([ax.get_xlim(), ax.get_ylim()]),  # min of both axes\n",
        "        np.max([ax.get_xlim(), ax.get_ylim()]),  # max of both axes\n",
        "    ]\n",
        "    \n",
        "    # now plot both limits against eachother\n",
        "    ax.plot(lims, lims, 'k-', alpha=0.75, zorder=0)\n",
        "    ax.set_aspect('equal')\n",
        "    ax.set_xlim(lims)\n",
        "    ax.set_ylim(lims)\n",
        "    return ax\n",
        "\n",
        "fsize=20\n",
        "\n",
        "plt.rcParams.update({'font.size': fsize})\n",
        "%config InlineBackend.figure_format = 'retina'"
      ],
      "execution_count": 5,
      "outputs": []
    },
    {
      "cell_type": "code",
      "metadata": {
        "id": "UMsYtSCMIrpO",
        "colab_type": "code",
        "colab": {}
      },
      "source": [
        "df = pd.read_csv(\"data.csv\")\n",
        "df.index = df.institution.values\n",
        "top_states = df.groupby(\"state\").count().institution.sort_values(ascending=False).head(5).index.values\n"
      ],
      "execution_count": 6,
      "outputs": []
    },
    {
      "cell_type": "code",
      "metadata": {
        "id": "07CIHTkx9JWa",
        "colab_type": "code",
        "colab": {
          "base_uri": "https://localhost:8080/",
          "height": 34
        },
        "outputId": "6cfd91f7-aa9c-4925-dac6-c5698b0c1d24"
      },
      "source": [
        "top_states"
      ],
      "execution_count": 7,
      "outputs": [
        {
          "output_type": "execute_result",
          "data": {
            "text/plain": [
              "array(['CA', 'NY', 'PA', 'TX', 'MA'], dtype=object)"
            ]
          },
          "metadata": {
            "tags": []
          },
          "execution_count": 7
        }
      ]
    },
    {
      "cell_type": "markdown",
      "metadata": {
        "id": "65Ra6X-AaY1v",
        "colab_type": "text"
      },
      "source": [
        "## Basic stats"
      ]
    },
    {
      "cell_type": "code",
      "metadata": {
        "id": "VLQ0SToho7Xt",
        "colab_type": "code",
        "colab": {
          "base_uri": "https://localhost:8080/",
          "height": 85
        },
        "outputId": "22e85618-39ec-47d4-cbc1-1d1537598c08"
      },
      "source": [
        "df.testing.value_counts()/df.testing.value_counts().sum()*100"
      ],
      "execution_count": 8,
      "outputs": [
        {
          "output_type": "execute_result",
          "data": {
            "text/plain": [
              "TRUE       53.952569\n",
              "FALSE      37.351779\n",
              "Unknown     8.695652\n",
              "Name: testing, dtype: float64"
            ]
          },
          "metadata": {
            "tags": []
          },
          "execution_count": 8
        }
      ]
    },
    {
      "cell_type": "code",
      "metadata": {
        "id": "4qWCc6cLMedc",
        "colab_type": "code",
        "colab": {
          "base_uri": "https://localhost:8080/",
          "height": 85
        },
        "outputId": "7ea861fe-12dd-4eb5-f5b8-ea1165d61aee"
      },
      "source": [
        "df.test_initial.value_counts()/df.test_initial.value_counts().sum()*100"
      ],
      "execution_count": 9,
      "outputs": [
        {
          "output_type": "execute_result",
          "data": {
            "text/plain": [
              "FALSE      62.252964\n",
              "TRUE       26.877470\n",
              "Unknown    10.869565\n",
              "Name: test_initial, dtype: float64"
            ]
          },
          "metadata": {
            "tags": []
          },
          "execution_count": 9
        }
      ]
    },
    {
      "cell_type": "code",
      "metadata": {
        "id": "LaRlYAAGpUz2",
        "colab_type": "code",
        "colab": {
          "base_uri": "https://localhost:8080/",
          "height": 85
        },
        "outputId": "e69c057a-bc16-421b-cb6f-79e361d9d7ff"
      },
      "source": [
        "df.test_recurring.value_counts()/df.test_recurring.value_counts().sum()*100"
      ],
      "execution_count": 10,
      "outputs": [
        {
          "output_type": "execute_result",
          "data": {
            "text/plain": [
              "FALSE      65.544554\n",
              "TRUE       19.801980\n",
              "Unknown    14.653465\n",
              "Name: test_recurring, dtype: float64"
            ]
          },
          "metadata": {
            "tags": []
          },
          "execution_count": 10
        }
      ]
    },
    {
      "cell_type": "code",
      "metadata": {
        "id": "QZeAEzr7KWe3",
        "colab_type": "code",
        "colab": {
          "base_uri": "https://localhost:8080/",
          "height": 221
        },
        "outputId": "e017e56c-324e-4ed2-f389-7b3f334595ea"
      },
      "source": [
        "df.test_vendor.value_counts().sort_values(ascending=False)"
      ],
      "execution_count": 11,
      "outputs": [
        {
          "output_type": "execute_result",
          "data": {
            "text/plain": [
              "Broad Institute                                                                                      21\n",
              "Student Health                                                                                        5\n",
              "Quest                                                                                                 4\n",
              "Vault Health                                                                                          3\n",
              "In house lab                                                                                          2\n",
              "                                                                                                     ..\n",
              "Baylor Genetics, Houston Medical Hospital                                                             1\n",
              "Charleston Area Medical Center                                                                        1\n",
              "Union County                                                                                          1\n",
              "ASU Health, Alabama Department of Public Health (ADPH) and the Montgomery Housing Authority (MHA)     1\n",
              "Conway Regional Health                                                                                1\n",
              "Name: test_vendor, Length: 104, dtype: int64"
            ]
          },
          "metadata": {
            "tags": []
          },
          "execution_count": 11
        }
      ]
    },
    {
      "cell_type": "code",
      "metadata": {
        "id": "Aaj2GfeQXg6H",
        "colab_type": "code",
        "colab": {
          "base_uri": "https://localhost:8080/",
          "height": 170
        },
        "outputId": "f764e1e6-9df0-433c-af5d-08531993e502"
      },
      "source": [
        "df.query(\"test_vendor=='Broad Institute'\").state.value_counts()"
      ],
      "execution_count": 12,
      "outputs": [
        {
          "output_type": "execute_result",
          "data": {
            "text/plain": [
              "MA    11\n",
              "NY     3\n",
              "ME     2\n",
              "CT     1\n",
              "IN     1\n",
              "VT     1\n",
              "OH     1\n",
              "RI     1\n",
              "Name: state, dtype: int64"
            ]
          },
          "metadata": {
            "tags": []
          },
          "execution_count": 12
        }
      ]
    },
    {
      "cell_type": "code",
      "metadata": {
        "id": "kXF7Y03PacZO",
        "colab_type": "code",
        "colab": {
          "base_uri": "https://localhost:8080/",
          "height": 1000
        },
        "outputId": "d15e66fc-d3a8-4069-8ef8-51a15ba1506d"
      },
      "source": [
        "v = df.groupby([\"state\", \"testing\"]).size().unstack(fill_value=0).sort_values(by=\"TRUE\")\n",
        "v"
      ],
      "execution_count": 13,
      "outputs": [
        {
          "output_type": "execute_result",
          "data": {
            "text/html": [
              "<div>\n",
              "<style scoped>\n",
              "    .dataframe tbody tr th:only-of-type {\n",
              "        vertical-align: middle;\n",
              "    }\n",
              "\n",
              "    .dataframe tbody tr th {\n",
              "        vertical-align: top;\n",
              "    }\n",
              "\n",
              "    .dataframe thead th {\n",
              "        text-align: right;\n",
              "    }\n",
              "</style>\n",
              "<table border=\"1\" class=\"dataframe\">\n",
              "  <thead>\n",
              "    <tr style=\"text-align: right;\">\n",
              "      <th>testing</th>\n",
              "      <th>FALSE</th>\n",
              "      <th>TRUE</th>\n",
              "      <th>Unknown</th>\n",
              "    </tr>\n",
              "    <tr>\n",
              "      <th>state</th>\n",
              "      <th></th>\n",
              "      <th></th>\n",
              "      <th></th>\n",
              "    </tr>\n",
              "  </thead>\n",
              "  <tbody>\n",
              "    <tr>\n",
              "      <th>AK</th>\n",
              "      <td>1</td>\n",
              "      <td>0</td>\n",
              "      <td>0</td>\n",
              "    </tr>\n",
              "    <tr>\n",
              "      <th>SD</th>\n",
              "      <td>4</td>\n",
              "      <td>0</td>\n",
              "      <td>0</td>\n",
              "    </tr>\n",
              "    <tr>\n",
              "      <th>MT</th>\n",
              "      <td>2</td>\n",
              "      <td>0</td>\n",
              "      <td>0</td>\n",
              "    </tr>\n",
              "    <tr>\n",
              "      <th>HI</th>\n",
              "      <td>0</td>\n",
              "      <td>0</td>\n",
              "      <td>1</td>\n",
              "    </tr>\n",
              "    <tr>\n",
              "      <th>MS</th>\n",
              "      <td>1</td>\n",
              "      <td>0</td>\n",
              "      <td>0</td>\n",
              "    </tr>\n",
              "    <tr>\n",
              "      <th>WY</th>\n",
              "      <td>1</td>\n",
              "      <td>1</td>\n",
              "      <td>0</td>\n",
              "    </tr>\n",
              "    <tr>\n",
              "      <th>LA</th>\n",
              "      <td>8</td>\n",
              "      <td>1</td>\n",
              "      <td>0</td>\n",
              "    </tr>\n",
              "    <tr>\n",
              "      <th>KY</th>\n",
              "      <td>1</td>\n",
              "      <td>1</td>\n",
              "      <td>0</td>\n",
              "    </tr>\n",
              "    <tr>\n",
              "      <th>WA</th>\n",
              "      <td>6</td>\n",
              "      <td>2</td>\n",
              "      <td>0</td>\n",
              "    </tr>\n",
              "    <tr>\n",
              "      <th>VT</th>\n",
              "      <td>1</td>\n",
              "      <td>2</td>\n",
              "      <td>0</td>\n",
              "    </tr>\n",
              "    <tr>\n",
              "      <th>OK</th>\n",
              "      <td>3</td>\n",
              "      <td>2</td>\n",
              "      <td>0</td>\n",
              "    </tr>\n",
              "    <tr>\n",
              "      <th>NV</th>\n",
              "      <td>0</td>\n",
              "      <td>2</td>\n",
              "      <td>0</td>\n",
              "    </tr>\n",
              "    <tr>\n",
              "      <th>NM</th>\n",
              "      <td>2</td>\n",
              "      <td>2</td>\n",
              "      <td>0</td>\n",
              "    </tr>\n",
              "    <tr>\n",
              "      <th>NE</th>\n",
              "      <td>5</td>\n",
              "      <td>2</td>\n",
              "      <td>1</td>\n",
              "    </tr>\n",
              "    <tr>\n",
              "      <th>AR</th>\n",
              "      <td>2</td>\n",
              "      <td>2</td>\n",
              "      <td>0</td>\n",
              "    </tr>\n",
              "    <tr>\n",
              "      <th>MO</th>\n",
              "      <td>6</td>\n",
              "      <td>2</td>\n",
              "      <td>1</td>\n",
              "    </tr>\n",
              "    <tr>\n",
              "      <th>ND</th>\n",
              "      <td>4</td>\n",
              "      <td>2</td>\n",
              "      <td>0</td>\n",
              "    </tr>\n",
              "    <tr>\n",
              "      <th>DE</th>\n",
              "      <td>0</td>\n",
              "      <td>2</td>\n",
              "      <td>1</td>\n",
              "    </tr>\n",
              "    <tr>\n",
              "      <th>IA</th>\n",
              "      <td>3</td>\n",
              "      <td>2</td>\n",
              "      <td>0</td>\n",
              "    </tr>\n",
              "    <tr>\n",
              "      <th>AZ</th>\n",
              "      <td>1</td>\n",
              "      <td>3</td>\n",
              "      <td>0</td>\n",
              "    </tr>\n",
              "    <tr>\n",
              "      <th>OR</th>\n",
              "      <td>2</td>\n",
              "      <td>3</td>\n",
              "      <td>2</td>\n",
              "    </tr>\n",
              "    <tr>\n",
              "      <th>UT</th>\n",
              "      <td>5</td>\n",
              "      <td>3</td>\n",
              "      <td>1</td>\n",
              "    </tr>\n",
              "    <tr>\n",
              "      <th>MD</th>\n",
              "      <td>2</td>\n",
              "      <td>3</td>\n",
              "      <td>0</td>\n",
              "    </tr>\n",
              "    <tr>\n",
              "      <th>DC</th>\n",
              "      <td>1</td>\n",
              "      <td>4</td>\n",
              "      <td>2</td>\n",
              "    </tr>\n",
              "    <tr>\n",
              "      <th>WV</th>\n",
              "      <td>3</td>\n",
              "      <td>4</td>\n",
              "      <td>1</td>\n",
              "    </tr>\n",
              "    <tr>\n",
              "      <th>NH</th>\n",
              "      <td>0</td>\n",
              "      <td>4</td>\n",
              "      <td>0</td>\n",
              "    </tr>\n",
              "    <tr>\n",
              "      <th>SC</th>\n",
              "      <td>3</td>\n",
              "      <td>4</td>\n",
              "      <td>0</td>\n",
              "    </tr>\n",
              "    <tr>\n",
              "      <th>KS</th>\n",
              "      <td>1</td>\n",
              "      <td>4</td>\n",
              "      <td>0</td>\n",
              "    </tr>\n",
              "    <tr>\n",
              "      <th>CO</th>\n",
              "      <td>1</td>\n",
              "      <td>4</td>\n",
              "      <td>1</td>\n",
              "    </tr>\n",
              "    <tr>\n",
              "      <th>MN</th>\n",
              "      <td>0</td>\n",
              "      <td>5</td>\n",
              "      <td>0</td>\n",
              "    </tr>\n",
              "    <tr>\n",
              "      <th>ME</th>\n",
              "      <td>0</td>\n",
              "      <td>5</td>\n",
              "      <td>1</td>\n",
              "    </tr>\n",
              "    <tr>\n",
              "      <th>TN</th>\n",
              "      <td>5</td>\n",
              "      <td>5</td>\n",
              "      <td>1</td>\n",
              "    </tr>\n",
              "    <tr>\n",
              "      <th>WI</th>\n",
              "      <td>2</td>\n",
              "      <td>5</td>\n",
              "      <td>2</td>\n",
              "    </tr>\n",
              "    <tr>\n",
              "      <th>NJ</th>\n",
              "      <td>2</td>\n",
              "      <td>5</td>\n",
              "      <td>1</td>\n",
              "    </tr>\n",
              "    <tr>\n",
              "      <th>RI</th>\n",
              "      <td>0</td>\n",
              "      <td>5</td>\n",
              "      <td>0</td>\n",
              "    </tr>\n",
              "    <tr>\n",
              "      <th>CT</th>\n",
              "      <td>1</td>\n",
              "      <td>5</td>\n",
              "      <td>0</td>\n",
              "    </tr>\n",
              "    <tr>\n",
              "      <th>IN</th>\n",
              "      <td>5</td>\n",
              "      <td>6</td>\n",
              "      <td>1</td>\n",
              "    </tr>\n",
              "    <tr>\n",
              "      <th>GA</th>\n",
              "      <td>14</td>\n",
              "      <td>6</td>\n",
              "      <td>0</td>\n",
              "    </tr>\n",
              "    <tr>\n",
              "      <th>IL</th>\n",
              "      <td>3</td>\n",
              "      <td>6</td>\n",
              "      <td>2</td>\n",
              "    </tr>\n",
              "    <tr>\n",
              "      <th>AL</th>\n",
              "      <td>3</td>\n",
              "      <td>7</td>\n",
              "      <td>0</td>\n",
              "    </tr>\n",
              "    <tr>\n",
              "      <th>MI</th>\n",
              "      <td>9</td>\n",
              "      <td>8</td>\n",
              "      <td>2</td>\n",
              "    </tr>\n",
              "    <tr>\n",
              "      <th>VA</th>\n",
              "      <td>2</td>\n",
              "      <td>9</td>\n",
              "      <td>0</td>\n",
              "    </tr>\n",
              "    <tr>\n",
              "      <th>OH</th>\n",
              "      <td>7</td>\n",
              "      <td>9</td>\n",
              "      <td>4</td>\n",
              "    </tr>\n",
              "    <tr>\n",
              "      <th>FL</th>\n",
              "      <td>9</td>\n",
              "      <td>11</td>\n",
              "      <td>0</td>\n",
              "    </tr>\n",
              "    <tr>\n",
              "      <th>NC</th>\n",
              "      <td>4</td>\n",
              "      <td>11</td>\n",
              "      <td>1</td>\n",
              "    </tr>\n",
              "    <tr>\n",
              "      <th>TX</th>\n",
              "      <td>12</td>\n",
              "      <td>15</td>\n",
              "      <td>0</td>\n",
              "    </tr>\n",
              "    <tr>\n",
              "      <th>CA</th>\n",
              "      <td>20</td>\n",
              "      <td>21</td>\n",
              "      <td>9</td>\n",
              "    </tr>\n",
              "    <tr>\n",
              "      <th>NY</th>\n",
              "      <td>7</td>\n",
              "      <td>22</td>\n",
              "      <td>5</td>\n",
              "    </tr>\n",
              "    <tr>\n",
              "      <th>PA</th>\n",
              "      <td>13</td>\n",
              "      <td>23</td>\n",
              "      <td>2</td>\n",
              "    </tr>\n",
              "    <tr>\n",
              "      <th>MA</th>\n",
              "      <td>2</td>\n",
              "      <td>23</td>\n",
              "      <td>2</td>\n",
              "    </tr>\n",
              "  </tbody>\n",
              "</table>\n",
              "</div>"
            ],
            "text/plain": [
              "testing  FALSE  TRUE  Unknown\n",
              "state                        \n",
              "AK           1     0        0\n",
              "SD           4     0        0\n",
              "MT           2     0        0\n",
              "HI           0     0        1\n",
              "MS           1     0        0\n",
              "WY           1     1        0\n",
              "LA           8     1        0\n",
              "KY           1     1        0\n",
              "WA           6     2        0\n",
              "VT           1     2        0\n",
              "OK           3     2        0\n",
              "NV           0     2        0\n",
              "NM           2     2        0\n",
              "NE           5     2        1\n",
              "AR           2     2        0\n",
              "MO           6     2        1\n",
              "ND           4     2        0\n",
              "DE           0     2        1\n",
              "IA           3     2        0\n",
              "AZ           1     3        0\n",
              "OR           2     3        2\n",
              "UT           5     3        1\n",
              "MD           2     3        0\n",
              "DC           1     4        2\n",
              "WV           3     4        1\n",
              "NH           0     4        0\n",
              "SC           3     4        0\n",
              "KS           1     4        0\n",
              "CO           1     4        1\n",
              "MN           0     5        0\n",
              "ME           0     5        1\n",
              "TN           5     5        1\n",
              "WI           2     5        2\n",
              "NJ           2     5        1\n",
              "RI           0     5        0\n",
              "CT           1     5        0\n",
              "IN           5     6        1\n",
              "GA          14     6        0\n",
              "IL           3     6        2\n",
              "AL           3     7        0\n",
              "MI           9     8        2\n",
              "VA           2     9        0\n",
              "OH           7     9        4\n",
              "FL           9    11        0\n",
              "NC           4    11        1\n",
              "TX          12    15        0\n",
              "CA          20    21        9\n",
              "NY           7    22        5\n",
              "PA          13    23        2\n",
              "MA           2    23        2"
            ]
          },
          "metadata": {
            "tags": []
          },
          "execution_count": 13
        }
      ]
    },
    {
      "cell_type": "code",
      "metadata": {
        "id": "0ioMwhfiZHim",
        "colab_type": "code",
        "colab": {
          "base_uri": "https://localhost:8080/",
          "height": 1000
        },
        "outputId": "673967f3-7557-41a9-a1a8-7b00a4002890"
      },
      "source": [
        "v = df.groupby([\"state\", \"testing\"]).size().unstack(fill_value=0).sort_values(by=\"TRUE\")\n",
        "(v/v.sum(axis=1)[:,None]*100).sort_values(by=\"TRUE\", ascending=False)"
      ],
      "execution_count": 14,
      "outputs": [
        {
          "output_type": "execute_result",
          "data": {
            "text/html": [
              "<div>\n",
              "<style scoped>\n",
              "    .dataframe tbody tr th:only-of-type {\n",
              "        vertical-align: middle;\n",
              "    }\n",
              "\n",
              "    .dataframe tbody tr th {\n",
              "        vertical-align: top;\n",
              "    }\n",
              "\n",
              "    .dataframe thead th {\n",
              "        text-align: right;\n",
              "    }\n",
              "</style>\n",
              "<table border=\"1\" class=\"dataframe\">\n",
              "  <thead>\n",
              "    <tr style=\"text-align: right;\">\n",
              "      <th>testing</th>\n",
              "      <th>FALSE</th>\n",
              "      <th>TRUE</th>\n",
              "      <th>Unknown</th>\n",
              "    </tr>\n",
              "    <tr>\n",
              "      <th>state</th>\n",
              "      <th></th>\n",
              "      <th></th>\n",
              "      <th></th>\n",
              "    </tr>\n",
              "  </thead>\n",
              "  <tbody>\n",
              "    <tr>\n",
              "      <th>NH</th>\n",
              "      <td>0.000000</td>\n",
              "      <td>100.000000</td>\n",
              "      <td>0.000000</td>\n",
              "    </tr>\n",
              "    <tr>\n",
              "      <th>NV</th>\n",
              "      <td>0.000000</td>\n",
              "      <td>100.000000</td>\n",
              "      <td>0.000000</td>\n",
              "    </tr>\n",
              "    <tr>\n",
              "      <th>RI</th>\n",
              "      <td>0.000000</td>\n",
              "      <td>100.000000</td>\n",
              "      <td>0.000000</td>\n",
              "    </tr>\n",
              "    <tr>\n",
              "      <th>MN</th>\n",
              "      <td>0.000000</td>\n",
              "      <td>100.000000</td>\n",
              "      <td>0.000000</td>\n",
              "    </tr>\n",
              "    <tr>\n",
              "      <th>MA</th>\n",
              "      <td>7.407407</td>\n",
              "      <td>85.185185</td>\n",
              "      <td>7.407407</td>\n",
              "    </tr>\n",
              "    <tr>\n",
              "      <th>ME</th>\n",
              "      <td>0.000000</td>\n",
              "      <td>83.333333</td>\n",
              "      <td>16.666667</td>\n",
              "    </tr>\n",
              "    <tr>\n",
              "      <th>CT</th>\n",
              "      <td>16.666667</td>\n",
              "      <td>83.333333</td>\n",
              "      <td>0.000000</td>\n",
              "    </tr>\n",
              "    <tr>\n",
              "      <th>VA</th>\n",
              "      <td>18.181818</td>\n",
              "      <td>81.818182</td>\n",
              "      <td>0.000000</td>\n",
              "    </tr>\n",
              "    <tr>\n",
              "      <th>KS</th>\n",
              "      <td>20.000000</td>\n",
              "      <td>80.000000</td>\n",
              "      <td>0.000000</td>\n",
              "    </tr>\n",
              "    <tr>\n",
              "      <th>AZ</th>\n",
              "      <td>25.000000</td>\n",
              "      <td>75.000000</td>\n",
              "      <td>0.000000</td>\n",
              "    </tr>\n",
              "    <tr>\n",
              "      <th>AL</th>\n",
              "      <td>30.000000</td>\n",
              "      <td>70.000000</td>\n",
              "      <td>0.000000</td>\n",
              "    </tr>\n",
              "    <tr>\n",
              "      <th>NC</th>\n",
              "      <td>25.000000</td>\n",
              "      <td>68.750000</td>\n",
              "      <td>6.250000</td>\n",
              "    </tr>\n",
              "    <tr>\n",
              "      <th>DE</th>\n",
              "      <td>0.000000</td>\n",
              "      <td>66.666667</td>\n",
              "      <td>33.333333</td>\n",
              "    </tr>\n",
              "    <tr>\n",
              "      <th>CO</th>\n",
              "      <td>16.666667</td>\n",
              "      <td>66.666667</td>\n",
              "      <td>16.666667</td>\n",
              "    </tr>\n",
              "    <tr>\n",
              "      <th>VT</th>\n",
              "      <td>33.333333</td>\n",
              "      <td>66.666667</td>\n",
              "      <td>0.000000</td>\n",
              "    </tr>\n",
              "    <tr>\n",
              "      <th>NY</th>\n",
              "      <td>20.588235</td>\n",
              "      <td>64.705882</td>\n",
              "      <td>14.705882</td>\n",
              "    </tr>\n",
              "    <tr>\n",
              "      <th>NJ</th>\n",
              "      <td>25.000000</td>\n",
              "      <td>62.500000</td>\n",
              "      <td>12.500000</td>\n",
              "    </tr>\n",
              "    <tr>\n",
              "      <th>PA</th>\n",
              "      <td>34.210526</td>\n",
              "      <td>60.526316</td>\n",
              "      <td>5.263158</td>\n",
              "    </tr>\n",
              "    <tr>\n",
              "      <th>MD</th>\n",
              "      <td>40.000000</td>\n",
              "      <td>60.000000</td>\n",
              "      <td>0.000000</td>\n",
              "    </tr>\n",
              "    <tr>\n",
              "      <th>SC</th>\n",
              "      <td>42.857143</td>\n",
              "      <td>57.142857</td>\n",
              "      <td>0.000000</td>\n",
              "    </tr>\n",
              "    <tr>\n",
              "      <th>DC</th>\n",
              "      <td>14.285714</td>\n",
              "      <td>57.142857</td>\n",
              "      <td>28.571429</td>\n",
              "    </tr>\n",
              "    <tr>\n",
              "      <th>TX</th>\n",
              "      <td>44.444444</td>\n",
              "      <td>55.555556</td>\n",
              "      <td>0.000000</td>\n",
              "    </tr>\n",
              "    <tr>\n",
              "      <th>WI</th>\n",
              "      <td>22.222222</td>\n",
              "      <td>55.555556</td>\n",
              "      <td>22.222222</td>\n",
              "    </tr>\n",
              "    <tr>\n",
              "      <th>FL</th>\n",
              "      <td>45.000000</td>\n",
              "      <td>55.000000</td>\n",
              "      <td>0.000000</td>\n",
              "    </tr>\n",
              "    <tr>\n",
              "      <th>IL</th>\n",
              "      <td>27.272727</td>\n",
              "      <td>54.545455</td>\n",
              "      <td>18.181818</td>\n",
              "    </tr>\n",
              "    <tr>\n",
              "      <th>IN</th>\n",
              "      <td>41.666667</td>\n",
              "      <td>50.000000</td>\n",
              "      <td>8.333333</td>\n",
              "    </tr>\n",
              "    <tr>\n",
              "      <th>WY</th>\n",
              "      <td>50.000000</td>\n",
              "      <td>50.000000</td>\n",
              "      <td>0.000000</td>\n",
              "    </tr>\n",
              "    <tr>\n",
              "      <th>NM</th>\n",
              "      <td>50.000000</td>\n",
              "      <td>50.000000</td>\n",
              "      <td>0.000000</td>\n",
              "    </tr>\n",
              "    <tr>\n",
              "      <th>KY</th>\n",
              "      <td>50.000000</td>\n",
              "      <td>50.000000</td>\n",
              "      <td>0.000000</td>\n",
              "    </tr>\n",
              "    <tr>\n",
              "      <th>WV</th>\n",
              "      <td>37.500000</td>\n",
              "      <td>50.000000</td>\n",
              "      <td>12.500000</td>\n",
              "    </tr>\n",
              "    <tr>\n",
              "      <th>AR</th>\n",
              "      <td>50.000000</td>\n",
              "      <td>50.000000</td>\n",
              "      <td>0.000000</td>\n",
              "    </tr>\n",
              "    <tr>\n",
              "      <th>TN</th>\n",
              "      <td>45.454545</td>\n",
              "      <td>45.454545</td>\n",
              "      <td>9.090909</td>\n",
              "    </tr>\n",
              "    <tr>\n",
              "      <th>OH</th>\n",
              "      <td>35.000000</td>\n",
              "      <td>45.000000</td>\n",
              "      <td>20.000000</td>\n",
              "    </tr>\n",
              "    <tr>\n",
              "      <th>OR</th>\n",
              "      <td>28.571429</td>\n",
              "      <td>42.857143</td>\n",
              "      <td>28.571429</td>\n",
              "    </tr>\n",
              "    <tr>\n",
              "      <th>MI</th>\n",
              "      <td>47.368421</td>\n",
              "      <td>42.105263</td>\n",
              "      <td>10.526316</td>\n",
              "    </tr>\n",
              "    <tr>\n",
              "      <th>CA</th>\n",
              "      <td>40.000000</td>\n",
              "      <td>42.000000</td>\n",
              "      <td>18.000000</td>\n",
              "    </tr>\n",
              "    <tr>\n",
              "      <th>IA</th>\n",
              "      <td>60.000000</td>\n",
              "      <td>40.000000</td>\n",
              "      <td>0.000000</td>\n",
              "    </tr>\n",
              "    <tr>\n",
              "      <th>OK</th>\n",
              "      <td>60.000000</td>\n",
              "      <td>40.000000</td>\n",
              "      <td>0.000000</td>\n",
              "    </tr>\n",
              "    <tr>\n",
              "      <th>ND</th>\n",
              "      <td>66.666667</td>\n",
              "      <td>33.333333</td>\n",
              "      <td>0.000000</td>\n",
              "    </tr>\n",
              "    <tr>\n",
              "      <th>UT</th>\n",
              "      <td>55.555556</td>\n",
              "      <td>33.333333</td>\n",
              "      <td>11.111111</td>\n",
              "    </tr>\n",
              "    <tr>\n",
              "      <th>GA</th>\n",
              "      <td>70.000000</td>\n",
              "      <td>30.000000</td>\n",
              "      <td>0.000000</td>\n",
              "    </tr>\n",
              "    <tr>\n",
              "      <th>WA</th>\n",
              "      <td>75.000000</td>\n",
              "      <td>25.000000</td>\n",
              "      <td>0.000000</td>\n",
              "    </tr>\n",
              "    <tr>\n",
              "      <th>NE</th>\n",
              "      <td>62.500000</td>\n",
              "      <td>25.000000</td>\n",
              "      <td>12.500000</td>\n",
              "    </tr>\n",
              "    <tr>\n",
              "      <th>MO</th>\n",
              "      <td>66.666667</td>\n",
              "      <td>22.222222</td>\n",
              "      <td>11.111111</td>\n",
              "    </tr>\n",
              "    <tr>\n",
              "      <th>LA</th>\n",
              "      <td>88.888889</td>\n",
              "      <td>11.111111</td>\n",
              "      <td>0.000000</td>\n",
              "    </tr>\n",
              "    <tr>\n",
              "      <th>MS</th>\n",
              "      <td>100.000000</td>\n",
              "      <td>0.000000</td>\n",
              "      <td>0.000000</td>\n",
              "    </tr>\n",
              "    <tr>\n",
              "      <th>SD</th>\n",
              "      <td>100.000000</td>\n",
              "      <td>0.000000</td>\n",
              "      <td>0.000000</td>\n",
              "    </tr>\n",
              "    <tr>\n",
              "      <th>MT</th>\n",
              "      <td>100.000000</td>\n",
              "      <td>0.000000</td>\n",
              "      <td>0.000000</td>\n",
              "    </tr>\n",
              "    <tr>\n",
              "      <th>HI</th>\n",
              "      <td>0.000000</td>\n",
              "      <td>0.000000</td>\n",
              "      <td>100.000000</td>\n",
              "    </tr>\n",
              "    <tr>\n",
              "      <th>AK</th>\n",
              "      <td>100.000000</td>\n",
              "      <td>0.000000</td>\n",
              "      <td>0.000000</td>\n",
              "    </tr>\n",
              "  </tbody>\n",
              "</table>\n",
              "</div>"
            ],
            "text/plain": [
              "testing       FALSE        TRUE     Unknown\n",
              "state                                      \n",
              "NH         0.000000  100.000000    0.000000\n",
              "NV         0.000000  100.000000    0.000000\n",
              "RI         0.000000  100.000000    0.000000\n",
              "MN         0.000000  100.000000    0.000000\n",
              "MA         7.407407   85.185185    7.407407\n",
              "ME         0.000000   83.333333   16.666667\n",
              "CT        16.666667   83.333333    0.000000\n",
              "VA        18.181818   81.818182    0.000000\n",
              "KS        20.000000   80.000000    0.000000\n",
              "AZ        25.000000   75.000000    0.000000\n",
              "AL        30.000000   70.000000    0.000000\n",
              "NC        25.000000   68.750000    6.250000\n",
              "DE         0.000000   66.666667   33.333333\n",
              "CO        16.666667   66.666667   16.666667\n",
              "VT        33.333333   66.666667    0.000000\n",
              "NY        20.588235   64.705882   14.705882\n",
              "NJ        25.000000   62.500000   12.500000\n",
              "PA        34.210526   60.526316    5.263158\n",
              "MD        40.000000   60.000000    0.000000\n",
              "SC        42.857143   57.142857    0.000000\n",
              "DC        14.285714   57.142857   28.571429\n",
              "TX        44.444444   55.555556    0.000000\n",
              "WI        22.222222   55.555556   22.222222\n",
              "FL        45.000000   55.000000    0.000000\n",
              "IL        27.272727   54.545455   18.181818\n",
              "IN        41.666667   50.000000    8.333333\n",
              "WY        50.000000   50.000000    0.000000\n",
              "NM        50.000000   50.000000    0.000000\n",
              "KY        50.000000   50.000000    0.000000\n",
              "WV        37.500000   50.000000   12.500000\n",
              "AR        50.000000   50.000000    0.000000\n",
              "TN        45.454545   45.454545    9.090909\n",
              "OH        35.000000   45.000000   20.000000\n",
              "OR        28.571429   42.857143   28.571429\n",
              "MI        47.368421   42.105263   10.526316\n",
              "CA        40.000000   42.000000   18.000000\n",
              "IA        60.000000   40.000000    0.000000\n",
              "OK        60.000000   40.000000    0.000000\n",
              "ND        66.666667   33.333333    0.000000\n",
              "UT        55.555556   33.333333   11.111111\n",
              "GA        70.000000   30.000000    0.000000\n",
              "WA        75.000000   25.000000    0.000000\n",
              "NE        62.500000   25.000000   12.500000\n",
              "MO        66.666667   22.222222   11.111111\n",
              "LA        88.888889   11.111111    0.000000\n",
              "MS       100.000000    0.000000    0.000000\n",
              "SD       100.000000    0.000000    0.000000\n",
              "MT       100.000000    0.000000    0.000000\n",
              "HI         0.000000    0.000000  100.000000\n",
              "AK       100.000000    0.000000    0.000000"
            ]
          },
          "metadata": {
            "tags": []
          },
          "execution_count": 14
        }
      ]
    },
    {
      "cell_type": "code",
      "metadata": {
        "id": "QOiFsHd9V0be",
        "colab_type": "code",
        "colab": {
          "base_uri": "https://localhost:8080/",
          "height": 102
        },
        "outputId": "1073137a-36b0-47f4-c734-58b3b6c90202"
      },
      "source": [
        "# confusion matrix, testing initial vs testing recurring\n",
        "v = df.groupby(['test_initial', 'test_recurring']).size().unstack(fill_value=0).sort_values(by=\"FALSE\", ascending=False)\n",
        "print(v)"
      ],
      "execution_count": 15,
      "outputs": [
        {
          "output_type": "stream",
          "text": [
            "test_recurring  FALSE  TRUE  Unknown\n",
            "test_initial                        \n",
            "FALSE             298    10        7\n",
            "TRUE               30    86       19\n",
            "Unknown             3     3       48\n"
          ],
          "name": "stdout"
        }
      ]
    },
    {
      "cell_type": "code",
      "metadata": {
        "id": "Unzd7tKCZUm8",
        "colab_type": "code",
        "colab": {
          "base_uri": "https://localhost:8080/",
          "height": 187
        },
        "outputId": "5d4ce982-32f7-4137-ec9c-111cc7b0baa1"
      },
      "source": [
        "# Testing based on school type\n",
        "v = df.groupby(['school_type', 'test_initial']).size().unstack(fill_value=0).sort_values(by=\"FALSE\", ascending=False)\n",
        "print(v)\n",
        "print(\"\\n\")\n",
        "print(v/v.values.sum(axis=1)[:,None]*100)"
      ],
      "execution_count": 16,
      "outputs": [
        {
          "output_type": "stream",
          "text": [
            "test_initial  FALSE  TRUE  Unknown\n",
            "school_type                       \n",
            "Public          176    37       24\n",
            "Private         139    99       31\n",
            "\n",
            "\n",
            "test_initial      FALSE       TRUE    Unknown\n",
            "school_type                                  \n",
            "Public        74.261603  15.611814  10.126582\n",
            "Private       51.672862  36.802974  11.524164\n"
          ],
          "name": "stdout"
        }
      ]
    },
    {
      "cell_type": "code",
      "metadata": {
        "id": "0q7nuWmOH42R",
        "colab_type": "code",
        "colab": {
          "base_uri": "https://localhost:8080/",
          "height": 187
        },
        "outputId": "ae04081f-8f58-4d2c-8d88-6143018f9679"
      },
      "source": [
        "# Testing based on school type\n",
        "v = df.groupby(['school_type', 'test_recurring']).size().unstack(fill_value=0).sort_values(by=\"FALSE\", ascending=False)\n",
        "print(v)\n",
        "print(\"\\n\")\n",
        "print(v/v.values.sum(axis=1)[:,None]*100)"
      ],
      "execution_count": 17,
      "outputs": [
        {
          "output_type": "stream",
          "text": [
            "test_recurring  FALSE  TRUE  Unknown\n",
            "school_type                         \n",
            "Public            178    27       31\n",
            "Private           153    73       43\n",
            "\n",
            "\n",
            "test_recurring      FALSE       TRUE    Unknown\n",
            "school_type                                    \n",
            "Public          75.423729  11.440678  13.135593\n",
            "Private         56.877323  27.137546  15.985130\n"
          ],
          "name": "stdout"
        }
      ]
    },
    {
      "cell_type": "code",
      "metadata": {
        "id": "XkGBeOJjZ8xu",
        "colab_type": "code",
        "colab": {
          "base_uri": "https://localhost:8080/",
          "height": 391
        },
        "outputId": "59e91e45-ee53-4c01-eff1-12b982fe8e94"
      },
      "source": [
        "v = df.groupby(['rtc_model', 'testing']).size().unstack(fill_value=0).sort_values(by=\"FALSE\", ascending=False)\n",
        "\n",
        "print(v)\n",
        "print(\"\\n\")\n",
        "print(v/v.values.sum(axis=1)[:,None]*100)"
      ],
      "execution_count": 18,
      "outputs": [
        {
          "output_type": "stream",
          "text": [
            "testing                                             FALSE  TRUE  Unknown\n",
            "rtc_model                                                               \n",
            "Planning for in-person                                123   131       20\n",
            "Proposing a hybrid model                               43   123       17\n",
            "Planning for online                                    21    13        6\n",
            "Considering a range of scenarios                        1     2        1\n",
            "Planning for fully and partially online                 1     0        0\n",
            "All classes online, but many students will live...      0     1        0\n",
            "Proposing a hybrid model (all students on campus)       0     1        0\n",
            "\n",
            "\n",
            "testing                                                  FALSE  ...    Unknown\n",
            "rtc_model                                                       ...           \n",
            "Planning for in-person                               44.890511  ...   7.299270\n",
            "Proposing a hybrid model                             23.497268  ...   9.289617\n",
            "Planning for online                                  52.500000  ...  15.000000\n",
            "Considering a range of scenarios                     25.000000  ...  25.000000\n",
            "Planning for fully and partially online             100.000000  ...   0.000000\n",
            "All classes online, but many students will live...    0.000000  ...   0.000000\n",
            "Proposing a hybrid model (all students on campus)     0.000000  ...   0.000000\n",
            "\n",
            "[7 rows x 3 columns]\n"
          ],
          "name": "stdout"
        }
      ]
    },
    {
      "cell_type": "markdown",
      "metadata": {
        "id": "xOBvfiGrab8V",
        "colab_type": "text"
      },
      "source": [
        "## Top 5 states by number of universities"
      ]
    },
    {
      "cell_type": "code",
      "metadata": {
        "id": "7LYymExT-2qm",
        "colab_type": "code",
        "colab": {
          "base_uri": "https://localhost:8080/",
          "height": 636
        },
        "outputId": "02427591-50e0-4088-ec5a-04d07659ea38"
      },
      "source": [
        "v = df.groupby(['state', 'test_initial']).size().unstack(fill_value=0).sort_values(by=\"TRUE\", ascending=False)\n",
        "vp = v/v.values.sum(axis=1)[:,None]*100\n",
        "\n",
        "fig, ax = plt.subplots(figsize=(15,10))\n",
        "\n",
        "vp  = vp.loc[top_states].sort_values(by=\"TRUE\", ascending=False)\n",
        "ind = np.arange(vp.shape[0])    # the x locations for the groups\n",
        "labels = vp.index.values\n",
        "\n",
        "\n",
        "x = vp.TRUE.values\n",
        "y = vp.FALSE.values\n",
        "z = vp.Unknown.values\n",
        "width = 0.5     # the width of the bars: can also be len(x) sequence\n",
        "\n",
        "ax.bar(ind, x, width,label=\"True\", color=\"green\")\n",
        "ax.bar(ind, y, width, bottom=x, label=\"False\", color=\"red\")\n",
        "ax.bar(ind, z, width, bottom=x+y, label=\"Unknown\", color=\"black\")\n",
        "\n",
        "kwd = {\n",
        "    \"xticks\" : ind,\n",
        "    \"xticklabels\": labels,\n",
        "    \"xlabel\": \"State\",\n",
        "    \"ylabel\": \"% Universities testing initial\"\n",
        "}\n",
        "ax.set(**kwd)\n",
        "ax.set_xticklabels(labels, rotation=90)\n",
        "ax.legend()\n",
        "\n",
        "\n",
        "fig.show()"
      ],
      "execution_count": 19,
      "outputs": [
        {
          "output_type": "display_data",
          "data": {
            "image/png": "[encoded data removed]",
            "text/plain": [
              "<Figure size 1080x720 with 1 Axes>"
            ]
          },
          "metadata": {
            "tags": [],
            "image/png": {
              "width": 920,
              "height": 619
            },
            "needs_background": "light"
          }
        }
      ]
    },
    {
      "cell_type": "code",
      "metadata": {
        "id": "QH9e8N3vZQ-e",
        "colab_type": "code",
        "colab": {
          "base_uri": "https://localhost:8080/",
          "height": 636
        },
        "outputId": "3feba451-e104-4ea5-a369-9fd49400a3df"
      },
      "source": [
        "v = df.groupby(['state', 'test_recurring']).size().unstack(fill_value=0).sort_values(by=\"TRUE\", ascending=False)\n",
        "vp = v/v.values.sum(axis=1)[:,None]*100\n",
        "\n",
        "fig, ax = plt.subplots(figsize=(15,10))\n",
        "\n",
        "vp  = vp.loc[top_states].sort_values(by=\"TRUE\", ascending=False)\n",
        "ind = np.arange(vp.shape[0])    # the x locations for the groups\n",
        "labels = vp.index.values\n",
        "\n",
        "\n",
        "x = vp.TRUE.values\n",
        "y = vp.FALSE.values\n",
        "z = vp.Unknown.values\n",
        "\n",
        "width = 0.5     # the width of the bars: can also be len(x) sequence\n",
        "\n",
        "ax.bar(ind, x, width,label=\"True\", color=\"green\")\n",
        "ax.bar(ind, y, width, bottom=x, label=\"False\", color=\"red\")\n",
        "ax.bar(ind, z, width, bottom=x+y, label=\"Unknown\", color=\"black\")\n",
        "\n",
        "kwd = {\n",
        "    \"xticks\" : ind,\n",
        "    \"xticklabels\": labels,\n",
        "    \"xlabel\": \"State\",\n",
        "    \"ylabel\": \"% Universities testing recurrently\"\n",
        "}\n",
        "ax.set(**kwd)\n",
        "ax.set_xticklabels(labels, rotation=90)\n",
        "ax.legend()\n",
        "\n",
        "\n",
        "fig.show()"
      ],
      "execution_count": 20,
      "outputs": [
        {
          "output_type": "display_data",
          "data": {
            "image/png": "[encoded data removed]",
            "text/plain": [
              "<Figure size 1080x720 with 1 Axes>"
            ]
          },
          "metadata": {
            "tags": [],
            "image/png": {
              "width": 920,
              "height": 619
            },
            "needs_background": "light"
          }
        }
      ]
    },
    {
      "cell_type": "code",
      "metadata": {
        "id": "QSkMl2hOZ90G",
        "colab_type": "code",
        "colab": {
          "base_uri": "https://localhost:8080/",
          "height": 464
        },
        "outputId": "5af775f4-1714-487d-8dc4-f83953536f17"
      },
      "source": [
        "v = df.groupby(['state', 'test_initial']).size().unstack(fill_value=0).sort_values(by=\"TRUE\", ascending=False)\n",
        "initial = v/v.values.sum(axis=1)[:,None]*100\n",
        "\n",
        "v = df.groupby(['state', 'test_recurring']).size().unstack(fill_value=0).sort_values(by=\"TRUE\", ascending=False)\n",
        "recurrent = v/v.values.sum(axis=1)[:,None]*100\n",
        "\n",
        "initial = initial.loc[top_states]\n",
        "recurrent = recurrent.loc[top_states]\n",
        "\n",
        "fig, ax = plt.subplots(figsize=(7,7))\n",
        "\n",
        "x = initial.TRUE.values\n",
        "y = recurrent.TRUE.values\n",
        "\n",
        "ax.scatter(x, y, s=100, color=\"k\")\n",
        "yex(ax)\n",
        "for (xx, yy, txt) in zip(x, y, top_states):\n",
        "  ax.annotate(txt, (xx, yy))\n",
        "\n",
        "kwd = {\n",
        "    \"xlabel\": \"% of universities testing initially\",\n",
        "    \"ylabel\": \"% of universities testing recurrently\"\n",
        "}\n",
        "ax.set(**kwd)\n",
        "\n",
        "fig.show()"
      ],
      "execution_count": 21,
      "outputs": [
        {
          "output_type": "display_data",
          "data": {
            "image/png": "[encoded data removed]",
            "text/plain": [
              "<Figure size 504x504 with 1 Axes>"
            ]
          },
          "metadata": {
            "tags": [],
            "image/png": {
              "width": 465,
              "height": 447
            },
            "needs_background": "light"
          }
        }
      ]
    },
    {
      "cell_type": "markdown",
      "metadata": {
        "id": "NmXtwnAIazCP",
        "colab_type": "text"
      },
      "source": [
        "## Positivity rate per state"
      ]
    },
    {
      "cell_type": "code",
      "metadata": {
        "id": "w_je81Kknx7Q",
        "colab_type": "code",
        "colab": {
          "base_uri": "https://localhost:8080/",
          "height": 119
        },
        "outputId": "e7910016-919b-4664-d15a-b564c9f3a797"
      },
      "source": [
        "!git clone https://github.com/CSSEGISandData/COVID-19.git"
      ],
      "execution_count": 22,
      "outputs": [
        {
          "output_type": "stream",
          "text": [
            "Cloning into 'COVID-19'...\n",
            "remote: Enumerating objects: 44781, done.\u001b[K\n",
            "remote: Total 44781 (delta 0), reused 0 (delta 0), pack-reused 44781\u001b[K\n",
            "Receiving objects: 100% (44781/44781), 342.64 MiB | 31.01 MiB/s, done.\n",
            "Resolving deltas: 100% (27799/27799), done.\n",
            "Checking out files: 100% (546/546), done.\n"
          ],
          "name": "stdout"
        }
      ]
    },
    {
      "cell_type": "code",
      "metadata": {
        "id": "AG3jjqKSvekX",
        "colab_type": "code",
        "colab": {}
      },
      "source": [
        "old = pd.read_csv(\"COVID-19/csse_covid_19_data/csse_covid_19_daily_reports_us/07-30-2020.csv\")\n",
        "daily = pd.read_csv(\"COVID-19/csse_covid_19_data/csse_covid_19_daily_reports_us/08-06-2020.csv\")"
      ],
      "execution_count": 23,
      "outputs": []
    },
    {
      "cell_type": "code",
      "metadata": {
        "id": "2mG21Y5jZCt_",
        "colab_type": "code",
        "colab": {}
      },
      "source": [
        "s2a = {\n",
        "    \"Alabama\" : \"AL\",\n",
        "\"Alaska\" : \"AK\",\n",
        "\"Arizona\" : \"AZ\",\n",
        "\"Arkansas\" : \"AR\",\n",
        "\"California\" : \"CA\",\n",
        "\"Colorado\" : \"CO\",\n",
        "\"Connecticut\" : \"CT\",\n",
        "\"Delaware\" : \"DE\",\n",
        "\"Florida\" : \"FL\",\n",
        "\"Georgia\" : \"GA\",\n",
        "\"Hawaii\" : \"HI\",\n",
        "\"Idaho\" : \"ID\",\n",
        "\"Illinois\" : \"IL\",\n",
        "\"Indiana\" : \"IN\",\n",
        "\"Iowa\" : \"IA\",\n",
        "\"Kansas\" : \"KS\",\n",
        "\"Kentucky\" : \"KY\",\n",
        "\"Louisiana\" : \"LA\",\n",
        "\"Maine\" : \"ME\",\n",
        "\"Maryland\" : \"MD\",\n",
        "\"Massachusetts\" : \"MA\",\n",
        "\"Michigan\" : \"MI\",\n",
        "\"Minnesota\" : \"MN\",\n",
        "\"Mississippi\" : \"MS\",\n",
        "\"Missouri\" : \"MO\",\n",
        "\"Montana\" : \"MT\",\n",
        "\"Nebraska\" : \"NE\",\n",
        "\"Nevada\" : \"NV\",\n",
        "\"New Hampshire\" : \"NH\",\n",
        "\"New Jersey\" : \"NJ\",\n",
        "\"New Mexico\" : \"NM\",\n",
        "\"New York\" : \"NY\",\n",
        "\"North Carolina\" : \"NC\",\n",
        "\"North Dakota\" : \"ND\",\n",
        "\"Ohio\" : \"OH\",\n",
        "\"Oklahoma\" : \"OK\",\n",
        "\"Oregon\" : \"OR\",\n",
        "\"Pennsylvania\" : \"PA\",\n",
        "\"Rhode Island\" : \"RI\",\n",
        "\"South Carolina\" : \"SC\",\n",
        "\"South Dakota\" : \"SD\",\n",
        "\"Tennessee\" : \"TN\",\n",
        "\"Texas\" : \"TX\",\n",
        "\"Utah\" : \"UT\",\n",
        "\"Vermont\" : \"VT\",\n",
        "\"Virginia\" : \"VA\",\n",
        "\"Washington\" : \"WA\",\n",
        "\"West Virginia\" : \"WV\",\n",
        "\"Wisconsin\" : \"WI\",\n",
        "\"Wyoming\" : \"WY\"\n",
        "}"
      ],
      "execution_count": 24,
      "outputs": []
    },
    {
      "cell_type": "code",
      "metadata": {
        "id": "0jKaT3vPpahT",
        "colab_type": "code",
        "colab": {}
      },
      "source": [
        "daily.index = daily.Province_State.apply(lambda x: s2a.get(x, x))\n",
        "old.index = old.Province_State.apply(lambda x: s2a.get(x, x))"
      ],
      "execution_count": 25,
      "outputs": []
    },
    {
      "cell_type": "code",
      "metadata": {
        "id": "HY-M38HN00Ur",
        "colab_type": "code",
        "colab": {}
      },
      "source": [
        "pos = (daily.loc[top_states][\"Confirmed\"]-old.loc[top_states][\"Confirmed\"])/(daily.loc[top_states][\"People_Tested\"]-old.loc[top_states][\"People_Tested\"])"
      ],
      "execution_count": 26,
      "outputs": []
    },
    {
      "cell_type": "code",
      "metadata": {
        "id": "b1yg1GqCVYlh",
        "colab_type": "code",
        "colab": {
          "base_uri": "https://localhost:8080/",
          "height": 529
        },
        "outputId": "1af248be-5fa5-4d18-a189-7db45baf2f2b"
      },
      "source": [
        "#Figure 1a\n",
        "fig, ax = plt.subplots(figsize=(14,7), ncols=2, constrained_layout=True)\n",
        "\n",
        "x = pos*100\n",
        "y = initial.loc[top_states].TRUE.values\n",
        "\n",
        "ax[0].scatter(x, y, color=\"k\")\n",
        "\n",
        "for (xx, yy, txt) in zip(x, y, top_states):\n",
        "  ax[0].annotate(txt, (xx, yy))\n",
        "\n",
        "kwd = {\n",
        "    \"xlabel\": \"Positivity Rate [%]\",\n",
        "    \"ylabel\": \"% universities testing initially\",\n",
        "    \"ylim\": (0, 100),\n",
        "    \"xlim\": (0)\n",
        "}\n",
        "\n",
        "ax[0].set(**kwd)\n",
        "\n",
        "x = pos*100\n",
        "y = recurrent.loc[top_states].TRUE.values\n",
        "\n",
        "ax[1].scatter(x, y, color=\"k\")\n",
        "\n",
        "for (xx, yy, txt) in zip(x, y, top_states):\n",
        "  ax[1].annotate(txt, (xx, yy))\n",
        "\n",
        "kwd = {\n",
        "    \"xlabel\": \"Positivity Rate [%]\",\n",
        "    \"ylabel\": \"% universities testing recurrently\",\n",
        "    \"ylim\": (0, 100),\n",
        "    \"xlim\": (0)\n",
        "}\n",
        "\n",
        "ax[1].set(**kwd)\n",
        "\n",
        "fig.savefig(\"./top_states.png\",bbox_inches='tight', dpi=300)\n",
        "\n",
        "fig.show()"
      ],
      "execution_count": 27,
      "outputs": [
        {
          "output_type": "display_data",
          "data": {
            "image/png": "[encoded data removed]",
            "text/plain": [
              "<Figure size 1008x504 with 2 Axes>"
            ]
          },
          "metadata": {
            "tags": [],
            "image/png": {
              "width": 1016,
              "height": 512
            },
            "needs_background": "light"
          }
        }
      ]
    },
    {
      "cell_type": "markdown",
      "metadata": {
        "id": "ONJX7yYBDA7u",
        "colab_type": "text"
      },
      "source": [
        "## Frequency of recurring testing"
      ]
    },
    {
      "cell_type": "code",
      "metadata": {
        "id": "6fC_-X7DaPT0",
        "colab_type": "code",
        "colab": {
          "base_uri": "https://localhost:8080/",
          "height": 462
        },
        "outputId": "abdf0e3c-9fbb-42c8-95e7-ef5189b30f77"
      },
      "source": [
        "# Figure 1b\n",
        "fig, ax = plt.subplots(figsize=(7,7))\n",
        "x = df[df.test_freq.notna()].query(\"test_freq>0\").test_freq.values\n",
        "\n",
        "mean = x.mean()\n",
        "ax.hist(x, color=\"k\")\n",
        "ax.axvline(mean, label=f\"mean: {mean:,.2f}\", color=\"green\", linestyle=\"--\")\n",
        "kwd = {\n",
        "    \"xlabel\": \"Testing frequency\",\n",
        "    \"ylabel\": \"# Universities\"\n",
        "}\n",
        "ax.set(**kwd)\n",
        "ax.legend()\n",
        "\n",
        "fig.savefig(\"./frequency.png\",bbox_inches='tight', dpi=300)\n",
        "fig.show()"
      ],
      "execution_count": 28,
      "outputs": [
        {
          "output_type": "display_data",
          "data": {
            "image/png": "[encoded data removed]",
            "text/plain": [
              "<Figure size 504x504 with 1 Axes>"
            ]
          },
          "metadata": {
            "tags": [],
            "image/png": {
              "width": 461,
              "height": 445
            },
            "needs_background": "light"
          }
        }
      ]
    },
    {
      "cell_type": "markdown",
      "metadata": {
        "id": "wM8Jivo4bLPE",
        "colab_type": "text"
      },
      "source": [
        "## US News top universities"
      ]
    },
    {
      "cell_type": "code",
      "metadata": {
        "id": "KtEpsd7azjQu",
        "colab_type": "code",
        "colab": {}
      },
      "source": [
        "usnr = pd.read_excel(\"http://andyreiter.com/wp-content/uploads/2019/09/US-News-Rankings-Universities-Through-2020.xlsx\", header=1)"
      ],
      "execution_count": 29,
      "outputs": []
    },
    {
      "cell_type": "code",
      "metadata": {
        "id": "6WVkM5ks3DsI",
        "colab_type": "code",
        "colab": {
          "base_uri": "https://localhost:8080/",
          "height": 272
        },
        "outputId": "5331496e-697d-4844-94d4-0791e8505937"
      },
      "source": [
        "np.setdiff1d(usnr[\"University Name\"], df.institution.values)"
      ],
      "execution_count": 30,
      "outputs": [
        {
          "output_type": "execute_result",
          "data": {
            "text/plain": [
              "array(['College of William and Mary', 'Georgia Institute of Technology',\n",
              "       'Pennsylvania State University-University Park',\n",
              "       'Rutgers University-New Brunswick',\n",
              "       'Texas A&M University-College Station',\n",
              "       'University of California-Berkeley',\n",
              "       'University of California-Davis',\n",
              "       'University of California-Irvine',\n",
              "       'University of California-Los Angeles',\n",
              "       'University of California-San Diego',\n",
              "       'University of California-Santa Barbara', 'University of Georgia',\n",
              "       'University of Illinois-Urbana-Champaign',\n",
              "       'University of Michigan-Ann Arbor',\n",
              "       'University of North Carolina-Chapel Hill',\n",
              "       'University of Texas-Austin', 'University of Wisconsin-Madison'],\n",
              "      dtype=object)"
            ]
          },
          "metadata": {
            "tags": []
          },
          "execution_count": 30
        }
      ]
    },
    {
      "cell_type": "code",
      "metadata": {
        "id": "byVD77nU3NGV",
        "colab_type": "code",
        "colab": {}
      },
      "source": [
        "top_map = {\n",
        "  'College of William and Mary':\"College of William & Mary\", \n",
        "  'Georgia Institute of Technology': \"University System of Georgia — Georgia Institute of Technology\",\n",
        "  'Pennsylvania State University-University Park': \"Pennsylvania State University\",\n",
        "  'Rutgers University-New Brunswick': \"Rutgers University\",\n",
        "  'Texas A&M University-College Station': \"Texas A&M University system — College Station\",\n",
        "  'University of California-Berkeley': \"University of California at Berkeley\",\n",
        "  'University of California-Davis':\"University of California at Davis\",\n",
        "  'University of California-Irvine':\"University of California at Irvine\",\n",
        "  'University of California-Los Angeles': \"University of California at Los Angeles\",\n",
        "  'University of California-San Diego': \"University of California at San Diego\",\n",
        "  'University of California-Santa Barbara': \"University of California at Santa Barbara\", \n",
        "  'University of Georgia': \"University System of Georgia — University of Georgia\",\n",
        "  'University of Illinois-Urbana-Champaign': \"University of Illinois at Urbana-Champaign\",\n",
        "  'University of Michigan-Ann Arbor': \"University of Michigan at Ann Arbor\",\n",
        "  'University of North Carolina-Chapel Hill': \"University of North Carolina at Chapel Hill\",\n",
        "  'University of Texas-Austin':\"University of Texas at Austin\", \n",
        "  'University of Wisconsin-Madison': \"University of Wisconsin at Madison\"\n",
        "}"
      ],
      "execution_count": 31,
      "outputs": []
    },
    {
      "cell_type": "code",
      "metadata": {
        "id": "pZuwxOVJ3diy",
        "colab_type": "code",
        "colab": {}
      },
      "source": [
        "usnr[\"University Name\"] = usnr[\"University Name\"].apply(lambda x: top_map.get(x, x))"
      ],
      "execution_count": 32,
      "outputs": []
    },
    {
      "cell_type": "code",
      "metadata": {
        "id": "QZzEHu-kNYCh",
        "colab_type": "code",
        "colab": {}
      },
      "source": [
        "usnr = usnr[usnr[2020].notna()].sort_values(2020).head(50)"
      ],
      "execution_count": 33,
      "outputs": []
    },
    {
      "cell_type": "code",
      "metadata": {
        "id": "l8NxJlRp5Y-j",
        "colab_type": "code",
        "colab": {}
      },
      "source": [
        "top_uni = df[df.institution.isin(usnr[\"University Name\"].values)]"
      ],
      "execution_count": 34,
      "outputs": []
    },
    {
      "cell_type": "code",
      "metadata": {
        "id": "TiUsBBls5kES",
        "colab_type": "code",
        "colab": {
          "base_uri": "https://localhost:8080/",
          "height": 235
        },
        "outputId": "252bdd9e-0a11-47cb-e822-93b20e28561f"
      },
      "source": [
        "top_uni.groupby([\"rtc_model\", \"testing\"]).size().unstack(fill_value=0)"
      ],
      "execution_count": 35,
      "outputs": [
        {
          "output_type": "execute_result",
          "data": {
            "text/html": [
              "<div>\n",
              "<style scoped>\n",
              "    .dataframe tbody tr th:only-of-type {\n",
              "        vertical-align: middle;\n",
              "    }\n",
              "\n",
              "    .dataframe tbody tr th {\n",
              "        vertical-align: top;\n",
              "    }\n",
              "\n",
              "    .dataframe thead th {\n",
              "        text-align: right;\n",
              "    }\n",
              "</style>\n",
              "<table border=\"1\" class=\"dataframe\">\n",
              "  <thead>\n",
              "    <tr style=\"text-align: right;\">\n",
              "      <th>testing</th>\n",
              "      <th>FALSE</th>\n",
              "      <th>TRUE</th>\n",
              "      <th>Unknown</th>\n",
              "    </tr>\n",
              "    <tr>\n",
              "      <th>rtc_model</th>\n",
              "      <th></th>\n",
              "      <th></th>\n",
              "      <th></th>\n",
              "    </tr>\n",
              "  </thead>\n",
              "  <tbody>\n",
              "    <tr>\n",
              "      <th>All classes online, but many students will live on campus</th>\n",
              "      <td>0</td>\n",
              "      <td>1</td>\n",
              "      <td>0</td>\n",
              "    </tr>\n",
              "    <tr>\n",
              "      <th>Considering a range of scenarios</th>\n",
              "      <td>0</td>\n",
              "      <td>1</td>\n",
              "      <td>0</td>\n",
              "    </tr>\n",
              "    <tr>\n",
              "      <th>Planning for in-person</th>\n",
              "      <td>0</td>\n",
              "      <td>8</td>\n",
              "      <td>0</td>\n",
              "    </tr>\n",
              "    <tr>\n",
              "      <th>Planning for online</th>\n",
              "      <td>0</td>\n",
              "      <td>5</td>\n",
              "      <td>0</td>\n",
              "    </tr>\n",
              "    <tr>\n",
              "      <th>Proposing a hybrid model</th>\n",
              "      <td>1</td>\n",
              "      <td>33</td>\n",
              "      <td>1</td>\n",
              "    </tr>\n",
              "  </tbody>\n",
              "</table>\n",
              "</div>"
            ],
            "text/plain": [
              "testing                                             FALSE  TRUE  Unknown\n",
              "rtc_model                                                               \n",
              "All classes online, but many students will live...      0     1        0\n",
              "Considering a range of scenarios                        0     1        0\n",
              "Planning for in-person                                  0     8        0\n",
              "Planning for online                                     0     5        0\n",
              "Proposing a hybrid model                                1    33        1"
            ]
          },
          "metadata": {
            "tags": []
          },
          "execution_count": 35
        }
      ]
    },
    {
      "cell_type": "code",
      "metadata": {
        "id": "Sq95J2NiN88n",
        "colab_type": "code",
        "colab": {
          "base_uri": "https://localhost:8080/",
          "height": 185
        },
        "outputId": "1f2a0645-ab6e-4408-ca9c-9394aa965329"
      },
      "source": [
        "top_uni.query(\"testing=='FALSE'\")"
      ],
      "execution_count": 36,
      "outputs": [
        {
          "output_type": "execute_result",
          "data": {
            "text/html": [
              "<div>\n",
              "<style scoped>\n",
              "    .dataframe tbody tr th:only-of-type {\n",
              "        vertical-align: middle;\n",
              "    }\n",
              "\n",
              "    .dataframe tbody tr th {\n",
              "        vertical-align: top;\n",
              "    }\n",
              "\n",
              "    .dataframe thead th {\n",
              "        text-align: right;\n",
              "    }\n",
              "</style>\n",
              "<table border=\"1\" class=\"dataframe\">\n",
              "  <thead>\n",
              "    <tr style=\"text-align: right;\">\n",
              "      <th></th>\n",
              "      <th>institution</th>\n",
              "      <th>school_type</th>\n",
              "      <th>state</th>\n",
              "      <th>testing_info_link</th>\n",
              "      <th>rtc_model</th>\n",
              "      <th>last_updated</th>\n",
              "      <th>testing</th>\n",
              "      <th>testing_type</th>\n",
              "      <th>test_initial</th>\n",
              "      <th>test_recurring</th>\n",
              "      <th>test_freq</th>\n",
              "      <th>test_vendor</th>\n",
              "      <th>test_pool</th>\n",
              "      <th>endowment</th>\n",
              "      <th>enrollment</th>\n",
              "      <th>endowment_per_fte_enrollment</th>\n",
              "      <th>comments</th>\n",
              "    </tr>\n",
              "  </thead>\n",
              "  <tbody>\n",
              "    <tr>\n",
              "      <th>Case Western Reserve University</th>\n",
              "      <td>Case Western Reserve University</td>\n",
              "      <td>Private</td>\n",
              "      <td>OH</td>\n",
              "      <td>https://case.edu/studentlife/healthcounseling/...</td>\n",
              "      <td>Proposing a hybrid model</td>\n",
              "      <td>7/28/2020</td>\n",
              "      <td>FALSE</td>\n",
              "      <td>No voluntary testing</td>\n",
              "      <td>FALSE</td>\n",
              "      <td>FALSE</td>\n",
              "      <td>0.0</td>\n",
              "      <td>NaN</td>\n",
              "      <td>NaN</td>\n",
              "      <td>1.886761e+09</td>\n",
              "      <td>11890.0</td>\n",
              "      <td>175089.0</td>\n",
              "      <td>Re-entry testing for students just announced (...</td>\n",
              "    </tr>\n",
              "  </tbody>\n",
              "</table>\n",
              "</div>"
            ],
            "text/plain": [
              "                                                     institution  ...                                           comments\n",
              "Case Western Reserve University  Case Western Reserve University  ...  Re-entry testing for students just announced (...\n",
              "\n",
              "[1 rows x 17 columns]"
            ]
          },
          "metadata": {
            "tags": []
          },
          "execution_count": 36
        }
      ]
    },
    {
      "cell_type": "code",
      "metadata": {
        "id": "LqGIj1pOI9PB",
        "colab_type": "code",
        "colab": {
          "base_uri": "https://localhost:8080/",
          "height": 185
        },
        "outputId": "27cdd2fc-f30a-4f1e-d279-cb2d35649cea"
      },
      "source": [
        "top_uni.query(\"testing=='Unknown'\")"
      ],
      "execution_count": 37,
      "outputs": [
        {
          "output_type": "execute_result",
          "data": {
            "text/html": [
              "<div>\n",
              "<style scoped>\n",
              "    .dataframe tbody tr th:only-of-type {\n",
              "        vertical-align: middle;\n",
              "    }\n",
              "\n",
              "    .dataframe tbody tr th {\n",
              "        vertical-align: top;\n",
              "    }\n",
              "\n",
              "    .dataframe thead th {\n",
              "        text-align: right;\n",
              "    }\n",
              "</style>\n",
              "<table border=\"1\" class=\"dataframe\">\n",
              "  <thead>\n",
              "    <tr style=\"text-align: right;\">\n",
              "      <th></th>\n",
              "      <th>institution</th>\n",
              "      <th>school_type</th>\n",
              "      <th>state</th>\n",
              "      <th>testing_info_link</th>\n",
              "      <th>rtc_model</th>\n",
              "      <th>last_updated</th>\n",
              "      <th>testing</th>\n",
              "      <th>testing_type</th>\n",
              "      <th>test_initial</th>\n",
              "      <th>test_recurring</th>\n",
              "      <th>test_freq</th>\n",
              "      <th>test_vendor</th>\n",
              "      <th>test_pool</th>\n",
              "      <th>endowment</th>\n",
              "      <th>enrollment</th>\n",
              "      <th>endowment_per_fte_enrollment</th>\n",
              "      <th>comments</th>\n",
              "    </tr>\n",
              "  </thead>\n",
              "  <tbody>\n",
              "    <tr>\n",
              "      <th>Washington University in St. Louis</th>\n",
              "      <td>Washington University in St. Louis</td>\n",
              "      <td>Private</td>\n",
              "      <td>MO</td>\n",
              "      <td>https://covid19.wustl.edu/health-safety/</td>\n",
              "      <td>Proposing a hybrid model</td>\n",
              "      <td>7/30/2020</td>\n",
              "      <td>Unknown</td>\n",
              "      <td>Unknown</td>\n",
              "      <td>Unknown</td>\n",
              "      <td>Unknown</td>\n",
              "      <td>0.0</td>\n",
              "      <td>NaN</td>\n",
              "      <td>NaN</td>\n",
              "      <td>NaN</td>\n",
              "      <td>NaN</td>\n",
              "      <td>NaN</td>\n",
              "      <td>One of the most obtuse websites. But no mentio...</td>\n",
              "    </tr>\n",
              "  </tbody>\n",
              "</table>\n",
              "</div>"
            ],
            "text/plain": [
              "                                                           institution  ...                                           comments\n",
              "Washington University in St. Louis  Washington University in St. Louis  ...  One of the most obtuse websites. But no mentio...\n",
              "\n",
              "[1 rows x 17 columns]"
            ]
          },
          "metadata": {
            "tags": []
          },
          "execution_count": 37
        }
      ]
    },
    {
      "cell_type": "code",
      "metadata": {
        "id": "-6GdLMQGbfJX",
        "colab_type": "code",
        "colab": {
          "base_uri": "https://localhost:8080/",
          "height": 235
        },
        "outputId": "b2a0415e-a071-4b75-db65-2b955ac15695"
      },
      "source": [
        "top_uni.groupby([\"rtc_model\", \"test_initial\"]).size().unstack(fill_value=0)"
      ],
      "execution_count": 38,
      "outputs": [
        {
          "output_type": "execute_result",
          "data": {
            "text/html": [
              "<div>\n",
              "<style scoped>\n",
              "    .dataframe tbody tr th:only-of-type {\n",
              "        vertical-align: middle;\n",
              "    }\n",
              "\n",
              "    .dataframe tbody tr th {\n",
              "        vertical-align: top;\n",
              "    }\n",
              "\n",
              "    .dataframe thead th {\n",
              "        text-align: right;\n",
              "    }\n",
              "</style>\n",
              "<table border=\"1\" class=\"dataframe\">\n",
              "  <thead>\n",
              "    <tr style=\"text-align: right;\">\n",
              "      <th>test_initial</th>\n",
              "      <th>FALSE</th>\n",
              "      <th>TRUE</th>\n",
              "      <th>Unknown</th>\n",
              "    </tr>\n",
              "    <tr>\n",
              "      <th>rtc_model</th>\n",
              "      <th></th>\n",
              "      <th></th>\n",
              "      <th></th>\n",
              "    </tr>\n",
              "  </thead>\n",
              "  <tbody>\n",
              "    <tr>\n",
              "      <th>All classes online, but many students will live on campus</th>\n",
              "      <td>0</td>\n",
              "      <td>1</td>\n",
              "      <td>0</td>\n",
              "    </tr>\n",
              "    <tr>\n",
              "      <th>Considering a range of scenarios</th>\n",
              "      <td>0</td>\n",
              "      <td>1</td>\n",
              "      <td>0</td>\n",
              "    </tr>\n",
              "    <tr>\n",
              "      <th>Planning for in-person</th>\n",
              "      <td>2</td>\n",
              "      <td>5</td>\n",
              "      <td>1</td>\n",
              "    </tr>\n",
              "    <tr>\n",
              "      <th>Planning for online</th>\n",
              "      <td>3</td>\n",
              "      <td>2</td>\n",
              "      <td>0</td>\n",
              "    </tr>\n",
              "    <tr>\n",
              "      <th>Proposing a hybrid model</th>\n",
              "      <td>7</td>\n",
              "      <td>25</td>\n",
              "      <td>3</td>\n",
              "    </tr>\n",
              "  </tbody>\n",
              "</table>\n",
              "</div>"
            ],
            "text/plain": [
              "test_initial                                        FALSE  TRUE  Unknown\n",
              "rtc_model                                                               \n",
              "All classes online, but many students will live...      0     1        0\n",
              "Considering a range of scenarios                        0     1        0\n",
              "Planning for in-person                                  2     5        1\n",
              "Planning for online                                     3     2        0\n",
              "Proposing a hybrid model                                7    25        3"
            ]
          },
          "metadata": {
            "tags": []
          },
          "execution_count": 38
        }
      ]
    },
    {
      "cell_type": "code",
      "metadata": {
        "id": "iTObuS4ob4bn",
        "colab_type": "code",
        "colab": {
          "base_uri": "https://localhost:8080/",
          "height": 388
        },
        "outputId": "de0a855a-3726-4a97-dc25-f9a59e5c755c"
      },
      "source": [
        "v = top_uni.groupby([\"rtc_model\", \"test_recurring\"]).size().unstack(fill_value=0)\n",
        "print(v)\n",
        "print(\"\\n\")\n",
        "v/v.sum(axis=1)[:,None]*100"
      ],
      "execution_count": 39,
      "outputs": [
        {
          "output_type": "stream",
          "text": [
            "test_recurring                                      FALSE  TRUE  Unknown\n",
            "rtc_model                                                               \n",
            "All classes online, but many students will live...      0     0        1\n",
            "Considering a range of scenarios                        0     1        0\n",
            "Planning for in-person                                  4     3        1\n",
            "Planning for online                                     3     2        0\n",
            "Proposing a hybrid model                               11    20        4\n",
            "\n",
            "\n"
          ],
          "name": "stdout"
        },
        {
          "output_type": "execute_result",
          "data": {
            "text/html": [
              "<div>\n",
              "<style scoped>\n",
              "    .dataframe tbody tr th:only-of-type {\n",
              "        vertical-align: middle;\n",
              "    }\n",
              "\n",
              "    .dataframe tbody tr th {\n",
              "        vertical-align: top;\n",
              "    }\n",
              "\n",
              "    .dataframe thead th {\n",
              "        text-align: right;\n",
              "    }\n",
              "</style>\n",
              "<table border=\"1\" class=\"dataframe\">\n",
              "  <thead>\n",
              "    <tr style=\"text-align: right;\">\n",
              "      <th>test_recurring</th>\n",
              "      <th>FALSE</th>\n",
              "      <th>TRUE</th>\n",
              "      <th>Unknown</th>\n",
              "    </tr>\n",
              "    <tr>\n",
              "      <th>rtc_model</th>\n",
              "      <th></th>\n",
              "      <th></th>\n",
              "      <th></th>\n",
              "    </tr>\n",
              "  </thead>\n",
              "  <tbody>\n",
              "    <tr>\n",
              "      <th>All classes online, but many students will live on campus</th>\n",
              "      <td>0.000000</td>\n",
              "      <td>0.000000</td>\n",
              "      <td>100.000000</td>\n",
              "    </tr>\n",
              "    <tr>\n",
              "      <th>Considering a range of scenarios</th>\n",
              "      <td>0.000000</td>\n",
              "      <td>100.000000</td>\n",
              "      <td>0.000000</td>\n",
              "    </tr>\n",
              "    <tr>\n",
              "      <th>Planning for in-person</th>\n",
              "      <td>50.000000</td>\n",
              "      <td>37.500000</td>\n",
              "      <td>12.500000</td>\n",
              "    </tr>\n",
              "    <tr>\n",
              "      <th>Planning for online</th>\n",
              "      <td>60.000000</td>\n",
              "      <td>40.000000</td>\n",
              "      <td>0.000000</td>\n",
              "    </tr>\n",
              "    <tr>\n",
              "      <th>Proposing a hybrid model</th>\n",
              "      <td>31.428571</td>\n",
              "      <td>57.142857</td>\n",
              "      <td>11.428571</td>\n",
              "    </tr>\n",
              "  </tbody>\n",
              "</table>\n",
              "</div>"
            ],
            "text/plain": [
              "test_recurring                                          FALSE  ...     Unknown\n",
              "rtc_model                                                      ...            \n",
              "All classes online, but many students will live...   0.000000  ...  100.000000\n",
              "Considering a range of scenarios                     0.000000  ...    0.000000\n",
              "Planning for in-person                              50.000000  ...   12.500000\n",
              "Planning for online                                 60.000000  ...    0.000000\n",
              "Proposing a hybrid model                            31.428571  ...   11.428571\n",
              "\n",
              "[5 rows x 3 columns]"
            ]
          },
          "metadata": {
            "tags": []
          },
          "execution_count": 39
        }
      ]
    },
    {
      "cell_type": "code",
      "metadata": {
        "id": "WJT0osi2UoxT",
        "colab_type": "code",
        "colab": {
          "base_uri": "https://localhost:8080/",
          "height": 210
        },
        "outputId": "7a9ee09a-0441-46fd-f3d8-dbc92227d60b"
      },
      "source": [
        "v = top_uni.groupby([\"school_type\", \"testing\"]).size().unstack(fill_value=0)\n",
        "print(v)\n",
        "v/v.sum(axis=1)[:,None]*100"
      ],
      "execution_count": 40,
      "outputs": [
        {
          "output_type": "stream",
          "text": [
            "testing      FALSE  TRUE  Unknown\n",
            "school_type                      \n",
            "Private          1    33        1\n",
            "Public           0    15        0\n"
          ],
          "name": "stdout"
        },
        {
          "output_type": "execute_result",
          "data": {
            "text/html": [
              "<div>\n",
              "<style scoped>\n",
              "    .dataframe tbody tr th:only-of-type {\n",
              "        vertical-align: middle;\n",
              "    }\n",
              "\n",
              "    .dataframe tbody tr th {\n",
              "        vertical-align: top;\n",
              "    }\n",
              "\n",
              "    .dataframe thead th {\n",
              "        text-align: right;\n",
              "    }\n",
              "</style>\n",
              "<table border=\"1\" class=\"dataframe\">\n",
              "  <thead>\n",
              "    <tr style=\"text-align: right;\">\n",
              "      <th>testing</th>\n",
              "      <th>FALSE</th>\n",
              "      <th>TRUE</th>\n",
              "      <th>Unknown</th>\n",
              "    </tr>\n",
              "    <tr>\n",
              "      <th>school_type</th>\n",
              "      <th></th>\n",
              "      <th></th>\n",
              "      <th></th>\n",
              "    </tr>\n",
              "  </thead>\n",
              "  <tbody>\n",
              "    <tr>\n",
              "      <th>Private</th>\n",
              "      <td>2.857143</td>\n",
              "      <td>94.285714</td>\n",
              "      <td>2.857143</td>\n",
              "    </tr>\n",
              "    <tr>\n",
              "      <th>Public</th>\n",
              "      <td>0.000000</td>\n",
              "      <td>100.000000</td>\n",
              "      <td>0.000000</td>\n",
              "    </tr>\n",
              "  </tbody>\n",
              "</table>\n",
              "</div>"
            ],
            "text/plain": [
              "testing         FALSE        TRUE   Unknown\n",
              "school_type                                \n",
              "Private      2.857143   94.285714  2.857143\n",
              "Public       0.000000  100.000000  0.000000"
            ]
          },
          "metadata": {
            "tags": []
          },
          "execution_count": 40
        }
      ]
    },
    {
      "cell_type": "code",
      "metadata": {
        "id": "g730rL9_VVY4",
        "colab_type": "code",
        "colab": {
          "base_uri": "https://localhost:8080/",
          "height": 34
        },
        "outputId": "0de44487-cf48-451c-d10b-27c7110b3156"
      },
      "source": [
        "v.sum(axis=0)[\"TRUE\"]/v.sum(axis=0).sum()*100"
      ],
      "execution_count": 41,
      "outputs": [
        {
          "output_type": "execute_result",
          "data": {
            "text/plain": [
              "96.0"
            ]
          },
          "metadata": {
            "tags": []
          },
          "execution_count": 41
        }
      ]
    },
    {
      "cell_type": "code",
      "metadata": {
        "id": "Rb00Up3AOlXM",
        "colab_type": "code",
        "colab": {
          "base_uri": "https://localhost:8080/",
          "height": 210
        },
        "outputId": "614e3b68-d0a9-4a7f-8dff-2a90708a1a86"
      },
      "source": [
        "v = top_uni.groupby([\"school_type\", \"test_initial\"]).size().unstack(fill_value=0)\n",
        "print(v)\n",
        "v/v.sum(axis=1)[:,None]*100"
      ],
      "execution_count": 42,
      "outputs": [
        {
          "output_type": "stream",
          "text": [
            "test_initial  FALSE  TRUE  Unknown\n",
            "school_type                       \n",
            "Private           3    29        3\n",
            "Public            9     5        1\n"
          ],
          "name": "stdout"
        },
        {
          "output_type": "execute_result",
          "data": {
            "text/html": [
              "<div>\n",
              "<style scoped>\n",
              "    .dataframe tbody tr th:only-of-type {\n",
              "        vertical-align: middle;\n",
              "    }\n",
              "\n",
              "    .dataframe tbody tr th {\n",
              "        vertical-align: top;\n",
              "    }\n",
              "\n",
              "    .dataframe thead th {\n",
              "        text-align: right;\n",
              "    }\n",
              "</style>\n",
              "<table border=\"1\" class=\"dataframe\">\n",
              "  <thead>\n",
              "    <tr style=\"text-align: right;\">\n",
              "      <th>test_initial</th>\n",
              "      <th>FALSE</th>\n",
              "      <th>TRUE</th>\n",
              "      <th>Unknown</th>\n",
              "    </tr>\n",
              "    <tr>\n",
              "      <th>school_type</th>\n",
              "      <th></th>\n",
              "      <th></th>\n",
              "      <th></th>\n",
              "    </tr>\n",
              "  </thead>\n",
              "  <tbody>\n",
              "    <tr>\n",
              "      <th>Private</th>\n",
              "      <td>8.571429</td>\n",
              "      <td>82.857143</td>\n",
              "      <td>8.571429</td>\n",
              "    </tr>\n",
              "    <tr>\n",
              "      <th>Public</th>\n",
              "      <td>60.000000</td>\n",
              "      <td>33.333333</td>\n",
              "      <td>6.666667</td>\n",
              "    </tr>\n",
              "  </tbody>\n",
              "</table>\n",
              "</div>"
            ],
            "text/plain": [
              "test_initial      FALSE       TRUE   Unknown\n",
              "school_type                                 \n",
              "Private        8.571429  82.857143  8.571429\n",
              "Public        60.000000  33.333333  6.666667"
            ]
          },
          "metadata": {
            "tags": []
          },
          "execution_count": 42
        }
      ]
    },
    {
      "cell_type": "code",
      "metadata": {
        "id": "_L7gg0J-TRQP",
        "colab_type": "code",
        "colab": {
          "base_uri": "https://localhost:8080/",
          "height": 210
        },
        "outputId": "5fcf19f2-c10c-4d06-d1ce-2f68ef7097be"
      },
      "source": [
        "v = top_uni.groupby([\"school_type\", \"test_recurring\"]).size().unstack(fill_value=0)\n",
        "print(v)\n",
        "v/v.sum(axis=1)[:,None]"
      ],
      "execution_count": 43,
      "outputs": [
        {
          "output_type": "stream",
          "text": [
            "test_recurring  FALSE  TRUE  Unknown\n",
            "school_type                         \n",
            "Private             8    22        5\n",
            "Public             10     4        1\n"
          ],
          "name": "stdout"
        },
        {
          "output_type": "execute_result",
          "data": {
            "text/html": [
              "<div>\n",
              "<style scoped>\n",
              "    .dataframe tbody tr th:only-of-type {\n",
              "        vertical-align: middle;\n",
              "    }\n",
              "\n",
              "    .dataframe tbody tr th {\n",
              "        vertical-align: top;\n",
              "    }\n",
              "\n",
              "    .dataframe thead th {\n",
              "        text-align: right;\n",
              "    }\n",
              "</style>\n",
              "<table border=\"1\" class=\"dataframe\">\n",
              "  <thead>\n",
              "    <tr style=\"text-align: right;\">\n",
              "      <th>test_recurring</th>\n",
              "      <th>FALSE</th>\n",
              "      <th>TRUE</th>\n",
              "      <th>Unknown</th>\n",
              "    </tr>\n",
              "    <tr>\n",
              "      <th>school_type</th>\n",
              "      <th></th>\n",
              "      <th></th>\n",
              "      <th></th>\n",
              "    </tr>\n",
              "  </thead>\n",
              "  <tbody>\n",
              "    <tr>\n",
              "      <th>Private</th>\n",
              "      <td>0.228571</td>\n",
              "      <td>0.628571</td>\n",
              "      <td>0.142857</td>\n",
              "    </tr>\n",
              "    <tr>\n",
              "      <th>Public</th>\n",
              "      <td>0.666667</td>\n",
              "      <td>0.266667</td>\n",
              "      <td>0.066667</td>\n",
              "    </tr>\n",
              "  </tbody>\n",
              "</table>\n",
              "</div>"
            ],
            "text/plain": [
              "test_recurring     FALSE      TRUE   Unknown\n",
              "school_type                                 \n",
              "Private         0.228571  0.628571  0.142857\n",
              "Public          0.666667  0.266667  0.066667"
            ]
          },
          "metadata": {
            "tags": []
          },
          "execution_count": 43
        }
      ]
    },
    {
      "cell_type": "markdown",
      "metadata": {
        "id": "rVudSr_rJvKe",
        "colab_type": "text"
      },
      "source": [
        "### Complement of top universities"
      ]
    },
    {
      "cell_type": "code",
      "metadata": {
        "id": "jYcB0yqqU6LO",
        "colab_type": "code",
        "colab": {
          "base_uri": "https://localhost:8080/",
          "height": 210
        },
        "outputId": "0216f34e-1754-499f-d75e-390f1eee1947"
      },
      "source": [
        "# look at the complement of top universities \n",
        "v = df[~df.institution.isin(top_uni.institution.values)].groupby([\"school_type\", \"testing\"]).size().unstack(fill_value=0)\n",
        "print(v)\n",
        "v/v.sum(axis=1)[:,None]"
      ],
      "execution_count": 44,
      "outputs": [
        {
          "output_type": "stream",
          "text": [
            "testing      FALSE  TRUE  Unknown\n",
            "school_type                      \n",
            "Private         86   119       29\n",
            "Public         102   106       14\n"
          ],
          "name": "stdout"
        },
        {
          "output_type": "execute_result",
          "data": {
            "text/html": [
              "<div>\n",
              "<style scoped>\n",
              "    .dataframe tbody tr th:only-of-type {\n",
              "        vertical-align: middle;\n",
              "    }\n",
              "\n",
              "    .dataframe tbody tr th {\n",
              "        vertical-align: top;\n",
              "    }\n",
              "\n",
              "    .dataframe thead th {\n",
              "        text-align: right;\n",
              "    }\n",
              "</style>\n",
              "<table border=\"1\" class=\"dataframe\">\n",
              "  <thead>\n",
              "    <tr style=\"text-align: right;\">\n",
              "      <th>testing</th>\n",
              "      <th>FALSE</th>\n",
              "      <th>TRUE</th>\n",
              "      <th>Unknown</th>\n",
              "    </tr>\n",
              "    <tr>\n",
              "      <th>school_type</th>\n",
              "      <th></th>\n",
              "      <th></th>\n",
              "      <th></th>\n",
              "    </tr>\n",
              "  </thead>\n",
              "  <tbody>\n",
              "    <tr>\n",
              "      <th>Private</th>\n",
              "      <td>0.367521</td>\n",
              "      <td>0.508547</td>\n",
              "      <td>0.123932</td>\n",
              "    </tr>\n",
              "    <tr>\n",
              "      <th>Public</th>\n",
              "      <td>0.459459</td>\n",
              "      <td>0.477477</td>\n",
              "      <td>0.063063</td>\n",
              "    </tr>\n",
              "  </tbody>\n",
              "</table>\n",
              "</div>"
            ],
            "text/plain": [
              "testing         FALSE      TRUE   Unknown\n",
              "school_type                              \n",
              "Private      0.367521  0.508547  0.123932\n",
              "Public       0.459459  0.477477  0.063063"
            ]
          },
          "metadata": {
            "tags": []
          },
          "execution_count": 44
        }
      ]
    },
    {
      "cell_type": "code",
      "metadata": {
        "id": "uK6wyxIIVCET",
        "colab_type": "code",
        "colab": {
          "base_uri": "https://localhost:8080/",
          "height": 34
        },
        "outputId": "6c557dbb-2a5e-45f5-ad9f-5a10ce0be70f"
      },
      "source": [
        "v.sum(axis=0)[\"TRUE\"]/v.sum(axis=0).sum()*100"
      ],
      "execution_count": 45,
      "outputs": [
        {
          "output_type": "execute_result",
          "data": {
            "text/plain": [
              "49.34210526315789"
            ]
          },
          "metadata": {
            "tags": []
          },
          "execution_count": 45
        }
      ]
    },
    {
      "cell_type": "code",
      "metadata": {
        "id": "dgBm0TgwO0hb",
        "colab_type": "code",
        "colab": {
          "base_uri": "https://localhost:8080/",
          "height": 210
        },
        "outputId": "4757deda-76f3-43b2-e5b7-affe6608cbbb"
      },
      "source": [
        "# look at the complement of top universities \n",
        "v = df[~df.institution.isin(top_uni.institution.values)].groupby([\"school_type\", \"test_initial\"]).size().unstack(fill_value=0)\n",
        "print(v)\n",
        "v/v.sum(axis=1)[:,None]"
      ],
      "execution_count": 46,
      "outputs": [
        {
          "output_type": "stream",
          "text": [
            "test_initial  FALSE  TRUE  Unknown\n",
            "school_type                       \n",
            "Private         136    70       28\n",
            "Public          167    32       23\n"
          ],
          "name": "stdout"
        },
        {
          "output_type": "execute_result",
          "data": {
            "text/html": [
              "<div>\n",
              "<style scoped>\n",
              "    .dataframe tbody tr th:only-of-type {\n",
              "        vertical-align: middle;\n",
              "    }\n",
              "\n",
              "    .dataframe tbody tr th {\n",
              "        vertical-align: top;\n",
              "    }\n",
              "\n",
              "    .dataframe thead th {\n",
              "        text-align: right;\n",
              "    }\n",
              "</style>\n",
              "<table border=\"1\" class=\"dataframe\">\n",
              "  <thead>\n",
              "    <tr style=\"text-align: right;\">\n",
              "      <th>test_initial</th>\n",
              "      <th>FALSE</th>\n",
              "      <th>TRUE</th>\n",
              "      <th>Unknown</th>\n",
              "    </tr>\n",
              "    <tr>\n",
              "      <th>school_type</th>\n",
              "      <th></th>\n",
              "      <th></th>\n",
              "      <th></th>\n",
              "    </tr>\n",
              "  </thead>\n",
              "  <tbody>\n",
              "    <tr>\n",
              "      <th>Private</th>\n",
              "      <td>0.581197</td>\n",
              "      <td>0.299145</td>\n",
              "      <td>0.119658</td>\n",
              "    </tr>\n",
              "    <tr>\n",
              "      <th>Public</th>\n",
              "      <td>0.752252</td>\n",
              "      <td>0.144144</td>\n",
              "      <td>0.103604</td>\n",
              "    </tr>\n",
              "  </tbody>\n",
              "</table>\n",
              "</div>"
            ],
            "text/plain": [
              "test_initial     FALSE      TRUE   Unknown\n",
              "school_type                               \n",
              "Private       0.581197  0.299145  0.119658\n",
              "Public        0.752252  0.144144  0.103604"
            ]
          },
          "metadata": {
            "tags": []
          },
          "execution_count": 46
        }
      ]
    },
    {
      "cell_type": "code",
      "metadata": {
        "id": "2AE_HLWLUXKy",
        "colab_type": "code",
        "colab": {
          "base_uri": "https://localhost:8080/",
          "height": 210
        },
        "outputId": "62129f71-7b05-4dbe-d0eb-e1b60d51e851"
      },
      "source": [
        "v = df[~df.institution.isin(top_uni.institution.values)].groupby([\"school_type\", \"test_recurring\"]).size().unstack(fill_value=0)\n",
        "print(v)\n",
        "v/v.sum(axis=1)[:,None]"
      ],
      "execution_count": 47,
      "outputs": [
        {
          "output_type": "stream",
          "text": [
            "test_recurring  FALSE  TRUE  Unknown\n",
            "school_type                         \n",
            "Private           145    51       38\n",
            "Public            168    23       30\n"
          ],
          "name": "stdout"
        },
        {
          "output_type": "execute_result",
          "data": {
            "text/html": [
              "<div>\n",
              "<style scoped>\n",
              "    .dataframe tbody tr th:only-of-type {\n",
              "        vertical-align: middle;\n",
              "    }\n",
              "\n",
              "    .dataframe tbody tr th {\n",
              "        vertical-align: top;\n",
              "    }\n",
              "\n",
              "    .dataframe thead th {\n",
              "        text-align: right;\n",
              "    }\n",
              "</style>\n",
              "<table border=\"1\" class=\"dataframe\">\n",
              "  <thead>\n",
              "    <tr style=\"text-align: right;\">\n",
              "      <th>test_recurring</th>\n",
              "      <th>FALSE</th>\n",
              "      <th>TRUE</th>\n",
              "      <th>Unknown</th>\n",
              "    </tr>\n",
              "    <tr>\n",
              "      <th>school_type</th>\n",
              "      <th></th>\n",
              "      <th></th>\n",
              "      <th></th>\n",
              "    </tr>\n",
              "  </thead>\n",
              "  <tbody>\n",
              "    <tr>\n",
              "      <th>Private</th>\n",
              "      <td>0.619658</td>\n",
              "      <td>0.217949</td>\n",
              "      <td>0.162393</td>\n",
              "    </tr>\n",
              "    <tr>\n",
              "      <th>Public</th>\n",
              "      <td>0.760181</td>\n",
              "      <td>0.104072</td>\n",
              "      <td>0.135747</td>\n",
              "    </tr>\n",
              "  </tbody>\n",
              "</table>\n",
              "</div>"
            ],
            "text/plain": [
              "test_recurring     FALSE      TRUE   Unknown\n",
              "school_type                                 \n",
              "Private         0.619658  0.217949  0.162393\n",
              "Public          0.760181  0.104072  0.135747"
            ]
          },
          "metadata": {
            "tags": []
          },
          "execution_count": 47
        }
      ]
    },
    {
      "cell_type": "code",
      "metadata": {
        "id": "R8J67ng3UeWq",
        "colab_type": "code",
        "colab": {}
      },
      "source": [
        ""
      ],
      "execution_count": 47,
      "outputs": []
    },
    {
      "cell_type": "code",
      "metadata": {
        "id": "zHfreq9Db7TX",
        "colab_type": "code",
        "colab": {
          "base_uri": "https://localhost:8080/",
          "height": 173
        },
        "outputId": "be8045a2-9df5-4ad5-d534-073c7cbfb831"
      },
      "source": [
        "v = top_uni.groupby(['test_initial', 'test_recurring']).size().unstack(fill_value=0).sort_values(by=\"FALSE\", ascending=False)\n",
        "v"
      ],
      "execution_count": 48,
      "outputs": [
        {
          "output_type": "execute_result",
          "data": {
            "text/html": [
              "<div>\n",
              "<style scoped>\n",
              "    .dataframe tbody tr th:only-of-type {\n",
              "        vertical-align: middle;\n",
              "    }\n",
              "\n",
              "    .dataframe tbody tr th {\n",
              "        vertical-align: top;\n",
              "    }\n",
              "\n",
              "    .dataframe thead th {\n",
              "        text-align: right;\n",
              "    }\n",
              "</style>\n",
              "<table border=\"1\" class=\"dataframe\">\n",
              "  <thead>\n",
              "    <tr style=\"text-align: right;\">\n",
              "      <th>test_recurring</th>\n",
              "      <th>FALSE</th>\n",
              "      <th>TRUE</th>\n",
              "      <th>Unknown</th>\n",
              "    </tr>\n",
              "    <tr>\n",
              "      <th>test_initial</th>\n",
              "      <th></th>\n",
              "      <th></th>\n",
              "      <th></th>\n",
              "    </tr>\n",
              "  </thead>\n",
              "  <tbody>\n",
              "    <tr>\n",
              "      <th>FALSE</th>\n",
              "      <td>11</td>\n",
              "      <td>1</td>\n",
              "      <td>0</td>\n",
              "    </tr>\n",
              "    <tr>\n",
              "      <th>TRUE</th>\n",
              "      <td>6</td>\n",
              "      <td>25</td>\n",
              "      <td>3</td>\n",
              "    </tr>\n",
              "    <tr>\n",
              "      <th>Unknown</th>\n",
              "      <td>1</td>\n",
              "      <td>0</td>\n",
              "      <td>3</td>\n",
              "    </tr>\n",
              "  </tbody>\n",
              "</table>\n",
              "</div>"
            ],
            "text/plain": [
              "test_recurring  FALSE  TRUE  Unknown\n",
              "test_initial                        \n",
              "FALSE              11     1        0\n",
              "TRUE                6    25        3\n",
              "Unknown             1     0        3"
            ]
          },
          "metadata": {
            "tags": []
          },
          "execution_count": 48
        }
      ]
    },
    {
      "cell_type": "markdown",
      "metadata": {
        "id": "oQp0G0QvARpF",
        "colab_type": "text"
      },
      "source": [
        "## Endowment and testing"
      ]
    },
    {
      "cell_type": "code",
      "metadata": {
        "id": "q7i8cFxsLAhF",
        "colab_type": "code",
        "colab": {
          "base_uri": "https://localhost:8080/",
          "height": 529
        },
        "outputId": "3aefdb0c-6a4b-4982-f57a-7a6b38cbeba5"
      },
      "source": [
        "#Figure 1c\n",
        "v = df[df[\"endowment_per_fte_enrollment\"].notnull()].groupby(\"test_initial\")[\"endowment_per_fte_enrollment\"].apply(list)\n",
        "f, t, u = v\n",
        "tval, pval = stats.ttest_ind(t, f, equal_var=False)\n",
        "\n",
        "fig, ax = plt.subplots(figsize=(7,7), constrained_layout=True)\n",
        "\n",
        "labels = [\"True\", \"False\", \"Unknown\"]\n",
        "\n",
        "data = [t, f, u]\n",
        "ax.boxplot(data, whis=(0, 100))\n",
        "\n",
        "for i in range(len(data)):\n",
        "    y = data[i]\n",
        "    x = np.random.normal(1+i, 0.04, size=len(y))\n",
        "    ax.plot(x, y, 'r.', alpha=0.2)\n",
        "\n",
        "# statistical annotation\n",
        "x1, x2 = 1, 2   \n",
        "yy, h, col = max(t)*(1+0.1), 0, 'k'\n",
        "ax.plot([x1, x1, x2, x2], [yy, yy+h, yy+h, yy], lw=1.5, c=col)\n",
        "ax.text((x1+x2)*.5, yy+h, f\"p = {pval:,.2e}\", ha='center', va='bottom', color=col)\n",
        "\n",
        "kwd = {\n",
        "    \"xlabel\" : \"Testing initally\",\n",
        "    \"ylabel\": \"Endowment per enrolled student [USD]\",\n",
        "    \"yscale\": \"log\",\n",
        "    \"xticklabels\":labels\n",
        "}\n",
        "ax.set(**kwd)\n",
        "\n",
        "fig.savefig(\"./endowment.png\",bbox_inches='tight', dpi=300)\n",
        "\n",
        "fig.show()"
      ],
      "execution_count": 49,
      "outputs": [
        {
          "output_type": "display_data",
          "data": {
            "image/png": "[encoded data removed]",
            "text/plain": [
              "<Figure size 504x504 with 1 Axes>"
            ]
          },
          "metadata": {
            "tags": [],
            "image/png": {
              "width": 512,
              "height": 512
            },
            "needs_background": "light"
          }
        }
      ]
    },
    {
      "cell_type": "code",
      "metadata": {
        "id": "kGEyXIBcCmd2",
        "colab_type": "code",
        "colab": {
          "base_uri": "https://localhost:8080/",
          "height": 34
        },
        "outputId": "50d09d2a-aa81-4b64-b42c-4a4a78e7854c"
      },
      "source": [
        "!date"
      ],
      "execution_count": 50,
      "outputs": [
        {
          "output_type": "stream",
          "text": [
            "Sat Aug  8 12:33:15 UTC 2020\n"
          ],
          "name": "stdout"
        }
      ]
    }
  ]
}