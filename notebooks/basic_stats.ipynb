{
  "nbformat": 4,
  "nbformat_minor": 0,
  "metadata": {
    "colab": {
      "name": "basic_stats",
      "provenance": [],
      "authorship_tag": "ABX9TyOjX4RhlcVgjl5cNF7RxzVj",
      "include_colab_link": true
    },
    "kernelspec": {
      "name": "python3",
      "display_name": "Python 3"
    }
  },
  "cells": [
    {
      "cell_type": "markdown",
      "metadata": {
        "id": "view-in-github",
        "colab_type": "text"
      },
      "source": [
        "<a href=\"https://colab.research.google.com/github/pachterlab/COVID-19-testing-database/blob/master/notebooks/basic_stats.ipynb\" target=\"_parent\"><img src=\"https://colab.research.google.com/assets/colab-badge.svg\" alt=\"Open In Colab\"/></a>"
      ]
    },
    {
      "cell_type": "code",
      "metadata": {
        "id": "wSw5SdtvH8t6",
        "colab_type": "code",
        "colab": {}
      },
      "source": [
        "!wget --output-file=\"logs.csv\" \"https://docs.google.com/spreadsheets/d/10I8bVkLzvrmXJsb5N-8JSFpWw5vBwDKYzyOVAI4viKo/export?format=csv&gid=1514440859\" -O \"sheet.csv\""
      ],
      "execution_count": 1,
      "outputs": []
    },
    {
      "cell_type": "code",
      "metadata": {
        "id": "ta9Ds8btII6x",
        "colab_type": "code",
        "colab": {}
      },
      "source": [
        "!awk 'NR>4' sheet.csv > data.csv"
      ],
      "execution_count": 2,
      "outputs": []
    },
    {
      "cell_type": "code",
      "metadata": {
        "id": "SJnhI5hkINGB",
        "colab_type": "code",
        "colab": {}
      },
      "source": [
        "import pandas as pd\n",
        "import numpy as np\n",
        "import matplotlib.pyplot as plt\n",
        "import matplotlib as mpl\n",
        "\n",
        "def nd(arr):\n",
        "  return np.asarray(arr).reshape(-1)\n",
        "\n",
        "def yex(ax):\n",
        "    lims = [\n",
        "        np.min([ax.get_xlim(), ax.get_ylim()]),  # min of both axes\n",
        "        np.max([ax.get_xlim(), ax.get_ylim()]),  # max of both axes\n",
        "    ]\n",
        "    \n",
        "    # now plot both limits against eachother\n",
        "    ax.plot(lims, lims, 'k-', alpha=0.75, zorder=0)\n",
        "    ax.set_aspect('equal')\n",
        "    ax.set_xlim(lims)\n",
        "    ax.set_ylim(lims)\n",
        "    return ax\n",
        "\n",
        "fsize=20\n",
        "\n",
        "plt.rcParams.update({'font.size': fsize})\n",
        "%config InlineBackend.figure_format = 'retina'"
      ],
      "execution_count": 3,
      "outputs": []
    },
    {
      "cell_type": "code",
      "metadata": {
        "id": "UMsYtSCMIrpO",
        "colab_type": "code",
        "colab": {}
      },
      "source": [
        "df = pd.read_csv(\"data.csv\")\n",
        "df.index = df.institution.values\n",
        "df[\"testing_num\"] = df.testing.map(lambda x: {\"FALSE\": 0, \"TRUE\": 1}.get(x, 0))"
      ],
      "execution_count": 4,
      "outputs": []
    },
    {
      "cell_type": "code",
      "metadata": {
        "id": "07CIHTkx9JWa",
        "colab_type": "code",
        "colab": {
          "base_uri": "https://localhost:8080/",
          "height": 568
        },
        "outputId": "2e869089-e956-492e-d79b-fbe4c16fcdf2"
      },
      "source": [
        "df.head()"
      ],
      "execution_count": 5,
      "outputs": [
        {
          "output_type": "execute_result",
          "data": {
            "text/html": [
              "<div>\n",
              "<style scoped>\n",
              "    .dataframe tbody tr th:only-of-type {\n",
              "        vertical-align: middle;\n",
              "    }\n",
              "\n",
              "    .dataframe tbody tr th {\n",
              "        vertical-align: top;\n",
              "    }\n",
              "\n",
              "    .dataframe thead th {\n",
              "        text-align: right;\n",
              "    }\n",
              "</style>\n",
              "<table border=\"1\" class=\"dataframe\">\n",
              "  <thead>\n",
              "    <tr style=\"text-align: right;\">\n",
              "      <th></th>\n",
              "      <th>institution</th>\n",
              "      <th>school_type</th>\n",
              "      <th>state</th>\n",
              "      <th>testing_info_link</th>\n",
              "      <th>rtc_model</th>\n",
              "      <th>last_updated</th>\n",
              "      <th>testing</th>\n",
              "      <th>testing_type</th>\n",
              "      <th>test_initial</th>\n",
              "      <th>test_recurring</th>\n",
              "      <th>test_freq</th>\n",
              "      <th>test_vendor</th>\n",
              "      <th>test_pool</th>\n",
              "      <th>comments</th>\n",
              "      <th>testing_num</th>\n",
              "    </tr>\n",
              "  </thead>\n",
              "  <tbody>\n",
              "    <tr>\n",
              "      <th>Abilene Christian University</th>\n",
              "      <td>Abilene Christian University</td>\n",
              "      <td>Private</td>\n",
              "      <td>TX</td>\n",
              "      <td>https://www.acu.edu/coronavirus/july-17-2020-c...</td>\n",
              "      <td>Planning for in-person</td>\n",
              "      <td>7/22/2020</td>\n",
              "      <td>TRUE</td>\n",
              "      <td>Both asymptomatic and symptomatic</td>\n",
              "      <td>FALSE</td>\n",
              "      <td>FALSE</td>\n",
              "      <td>0.00</td>\n",
              "      <td>NaN</td>\n",
              "      <td>NaN</td>\n",
              "      <td>Our plan includes testing any faculty, staff a...</td>\n",
              "      <td>1</td>\n",
              "    </tr>\n",
              "    <tr>\n",
              "      <th>Academy of Art University</th>\n",
              "      <td>Academy of Art University</td>\n",
              "      <td>Private</td>\n",
              "      <td>CA</td>\n",
              "      <td>https://www.academyart.edu/academy-of-art-univ...</td>\n",
              "      <td>Proposing a hybrid model</td>\n",
              "      <td>7/27/2020</td>\n",
              "      <td>Unknown</td>\n",
              "      <td>Unknown</td>\n",
              "      <td>Unknown</td>\n",
              "      <td>Unknown</td>\n",
              "      <td>NaN</td>\n",
              "      <td>NaN</td>\n",
              "      <td>NaN</td>\n",
              "      <td>NaN</td>\n",
              "      <td>0</td>\n",
              "    </tr>\n",
              "    <tr>\n",
              "      <th>Adelphi University</th>\n",
              "      <td>Adelphi University</td>\n",
              "      <td>Private</td>\n",
              "      <td>NY</td>\n",
              "      <td>https://www.adelphi.edu/restart/wp-content/upl...</td>\n",
              "      <td>Proposing a hybrid model</td>\n",
              "      <td>7/27/2020</td>\n",
              "      <td>TRUE</td>\n",
              "      <td>Symptomatic</td>\n",
              "      <td>TRUE</td>\n",
              "      <td>TRUE</td>\n",
              "      <td>0.33</td>\n",
              "      <td>Vault Health</td>\n",
              "      <td>NaN</td>\n",
              "      <td>Re-entry testing of residential students, inte...</td>\n",
              "      <td>1</td>\n",
              "    </tr>\n",
              "    <tr>\n",
              "      <th>Adrian College</th>\n",
              "      <td>Adrian College</td>\n",
              "      <td>Private</td>\n",
              "      <td>MI</td>\n",
              "      <td>http://adrian.edu/news/ac-president-docking-sa...</td>\n",
              "      <td>Planning for in-person</td>\n",
              "      <td>7/27/2020</td>\n",
              "      <td>FALSE</td>\n",
              "      <td>No voluntary testing</td>\n",
              "      <td>FALSE</td>\n",
              "      <td>FALSE</td>\n",
              "      <td>0.00</td>\n",
              "      <td>NaN</td>\n",
              "      <td>NaN</td>\n",
              "      <td>Students are required to have a negative test ...</td>\n",
              "      <td>0</td>\n",
              "    </tr>\n",
              "    <tr>\n",
              "      <th>Agnes Scott College</th>\n",
              "      <td>Agnes Scott College</td>\n",
              "      <td>Private</td>\n",
              "      <td>GA</td>\n",
              "      <td>https://www.agnesscott.edu/coronavirus/updates...</td>\n",
              "      <td>Planning for in-person</td>\n",
              "      <td>7/22/2020</td>\n",
              "      <td>TRUE</td>\n",
              "      <td>Unknown</td>\n",
              "      <td>TRUE</td>\n",
              "      <td>Unknown</td>\n",
              "      <td>0.00</td>\n",
              "      <td>Unknown</td>\n",
              "      <td>NaN</td>\n",
              "      <td>Athletes will be tested upon arrival, students...</td>\n",
              "      <td>1</td>\n",
              "    </tr>\n",
              "  </tbody>\n",
              "</table>\n",
              "</div>"
            ],
            "text/plain": [
              "                                               institution  ... testing_num\n",
              "Abilene Christian University  Abilene Christian University  ...           1\n",
              "Academy of Art University        Academy of Art University  ...           0\n",
              "Adelphi University                      Adelphi University  ...           1\n",
              "Adrian College                              Adrian College  ...           0\n",
              "Agnes Scott College                    Agnes Scott College  ...           1\n",
              "\n",
              "[5 rows x 15 columns]"
            ]
          },
          "metadata": {
            "tags": []
          },
          "execution_count": 5
        }
      ]
    },
    {
      "cell_type": "code",
      "metadata": {
        "id": "dX7GUGFoJvuZ",
        "colab_type": "code",
        "colab": {
          "base_uri": "https://localhost:8080/",
          "height": 101
        },
        "outputId": "173dc10f-0b3d-4408-ee1f-7d46db9dd032"
      },
      "source": [
        "df.columns"
      ],
      "execution_count": 6,
      "outputs": [
        {
          "output_type": "execute_result",
          "data": {
            "text/plain": [
              "Index(['institution', 'school_type', 'state', 'testing_info_link', 'rtc_model',\n",
              "       'last_updated', 'testing', 'testing_type', 'test_initial',\n",
              "       'test_recurring', 'test_freq', 'test_vendor', 'test_pool', 'comments',\n",
              "       'testing_num'],\n",
              "      dtype='object')"
            ]
          },
          "metadata": {
            "tags": []
          },
          "execution_count": 6
        }
      ]
    },
    {
      "cell_type": "code",
      "metadata": {
        "id": "4qWCc6cLMedc",
        "colab_type": "code",
        "colab": {
          "base_uri": "https://localhost:8080/",
          "height": 319
        },
        "outputId": "ee01f9dc-7539-402b-a98b-b772ecfbb133"
      },
      "source": [
        "df.groupby([\"school_type\", \"test_initial\", \"test_recurring\"])[\"testing\"].count().sort_values()\n"
      ],
      "execution_count": 8,
      "outputs": [
        {
          "output_type": "execute_result",
          "data": {
            "text/plain": [
              "school_type  test_initial  test_recurring\n",
              "Private      FALSE         Unknown             2\n",
              "             Unknown       TRUE                2\n",
              "                           FALSE               3\n",
              "Public       FALSE         Unknown             4\n",
              "                           TRUE                5\n",
              "             TRUE          Unknown             5\n",
              "Private      FALSE         TRUE                6\n",
              "Public       TRUE          FALSE               9\n",
              "Private      TRUE          Unknown            12\n",
              "                           FALSE              15\n",
              "Public       TRUE          TRUE               16\n",
              "             Unknown       Unknown            21\n",
              "Private      Unknown       Unknown            25\n",
              "             TRUE          TRUE               60\n",
              "             FALSE         FALSE             119\n",
              "Public       FALSE         FALSE             161\n",
              "Name: testing, dtype: int64"
            ]
          },
          "metadata": {
            "tags": []
          },
          "execution_count": 8
        }
      ]
    },
    {
      "cell_type": "code",
      "metadata": {
        "id": "QZeAEzr7KWe3",
        "colab_type": "code",
        "colab": {
          "base_uri": "https://localhost:8080/",
          "height": 343
        },
        "outputId": "8de89c82-e939-4660-aca9-358504e3851d"
      },
      "source": [
        "pd.DataFrame(df.test_vendor.value_counts()).head(10)"
      ],
      "execution_count": 9,
      "outputs": [
        {
          "output_type": "execute_result",
          "data": {
            "text/html": [
              "<div>\n",
              "<style scoped>\n",
              "    .dataframe tbody tr th:only-of-type {\n",
              "        vertical-align: middle;\n",
              "    }\n",
              "\n",
              "    .dataframe tbody tr th {\n",
              "        vertical-align: top;\n",
              "    }\n",
              "\n",
              "    .dataframe thead th {\n",
              "        text-align: right;\n",
              "    }\n",
              "</style>\n",
              "<table border=\"1\" class=\"dataframe\">\n",
              "  <thead>\n",
              "    <tr style=\"text-align: right;\">\n",
              "      <th></th>\n",
              "      <th>test_vendor</th>\n",
              "    </tr>\n",
              "  </thead>\n",
              "  <tbody>\n",
              "    <tr>\n",
              "      <th>Broad Institute</th>\n",
              "      <td>19</td>\n",
              "    </tr>\n",
              "    <tr>\n",
              "      <th>Student Health</th>\n",
              "      <td>5</td>\n",
              "    </tr>\n",
              "    <tr>\n",
              "      <th>Vault Health</th>\n",
              "      <td>2</td>\n",
              "    </tr>\n",
              "    <tr>\n",
              "      <th>Student Health Services</th>\n",
              "      <td>2</td>\n",
              "    </tr>\n",
              "    <tr>\n",
              "      <th>LabCorp</th>\n",
              "      <td>2</td>\n",
              "    </tr>\n",
              "    <tr>\n",
              "      <th>University Health Center</th>\n",
              "      <td>2</td>\n",
              "    </tr>\n",
              "    <tr>\n",
              "      <th>unlisted</th>\n",
              "      <td>2</td>\n",
              "    </tr>\n",
              "    <tr>\n",
              "      <th>In house lab</th>\n",
              "      <td>2</td>\n",
              "    </tr>\n",
              "    <tr>\n",
              "      <th>Quest</th>\n",
              "      <td>2</td>\n",
              "    </tr>\n",
              "    <tr>\n",
              "      <th>arah Bush Lincoln Medical System</th>\n",
              "      <td>1</td>\n",
              "    </tr>\n",
              "  </tbody>\n",
              "</table>\n",
              "</div>"
            ],
            "text/plain": [
              "                                  test_vendor\n",
              "Broad Institute                            19\n",
              "Student Health                              5\n",
              "Vault Health                                2\n",
              "Student Health Services                     2\n",
              "LabCorp                                     2\n",
              "University Health Center                    2\n",
              "unlisted                                    2\n",
              "In house lab                                2\n",
              "Quest                                       2\n",
              "arah Bush Lincoln Medical System            1"
            ]
          },
          "metadata": {
            "tags": []
          },
          "execution_count": 9
        }
      ]
    },
    {
      "cell_type": "code",
      "metadata": {
        "id": "SewnK8AI93fK",
        "colab_type": "code",
        "colab": {}
      },
      "source": [
        "v = df.groupby(['state', 'test_recurring']).size().unstack(fill_value=0).sort_values(by=\"TRUE\", ascending=False)\n",
        "vp = v/v.values.sum(axis=1)[:,None]*100"
      ],
      "execution_count": 103,
      "outputs": []
    },
    {
      "cell_type": "code",
      "metadata": {
        "id": "IdLtgxU6VbBU",
        "colab_type": "code",
        "colab": {
          "base_uri": "https://localhost:8080/",
          "height": 118
        },
        "outputId": "08c2889d-fbc9-43bb-fd6e-590c1b679bfe"
      },
      "source": [
        "v.index"
      ],
      "execution_count": 100,
      "outputs": [
        {
          "output_type": "execute_result",
          "data": {
            "text/plain": [
              "Index(['MA', 'NY', 'PA', 'MI', 'CT', 'ME', 'AL', 'CA', 'FL', 'NH', 'OH', 'TN',\n",
              "       'IL', 'VA', 'WV', 'OK', 'RI', 'NJ', 'TX', 'NC', 'SC', 'DC', 'GA', 'IN',\n",
              "       'IA', 'NM', 'AZ', 'CO', 'OR', 'WI', 'WY', 'MN', 'VT', 'ND', 'LA', 'MD',\n",
              "       'MO', 'WA', 'UT', 'SD', 'AK', 'NV', 'NE', 'MS', 'KY', 'KS', 'HI', 'DE',\n",
              "       'AR', 'MT'],\n",
              "      dtype='object', name='state')"
            ]
          },
          "metadata": {
            "tags": []
          },
          "execution_count": 100
        }
      ]
    },
    {
      "cell_type": "code",
      "metadata": {
        "id": "7LYymExT-2qm",
        "colab_type": "code",
        "colab": {
          "base_uri": "https://localhost:8080/",
          "height": 647
        },
        "outputId": "5193c906-3fd7-44d5-ba3d-8890ba17a62f"
      },
      "source": [
        "fig, ax = plt.subplots(figsize=(25,10))\n",
        "\n",
        "\n",
        "ind = np.arange(v.shape[0])    # the x locations for the groups\n",
        "labels = v.index.values\n",
        "vp  = vp.sort_values(by=\"TRUE\", ascending=False)\n",
        "\n",
        "x = vp.TRUE.values\n",
        "y = vp.FALSE.values\n",
        "z = vp.Unknown.values\n",
        "\n",
        "#width = 0.5     # the width of the bars: can also be len(x) sequence\n",
        "\n",
        "ax.bar(ind, x, width,label=\"True\", color=\"green\")\n",
        "ax.bar(ind, y, width, bottom=x, label=\"False\", color=\"red\")\n",
        "ax.bar(ind, z, width, bottom=x+y, label=\"Unknown\", color=\"black\")\n",
        "\n",
        "kwd = {\n",
        "    \"xticks\" : ind,\n",
        "    \"xticklabels\": labels,\n",
        "    \"xlabel\": \"State\",\n",
        "    \"ylabel\": \"% Universities testing recurrently\"\n",
        "}\n",
        "ax.set(**kwd)\n",
        "ax.set_xticklabels(labels, rotation=90)\n",
        "ax.legend()\n",
        "\n",
        "\n",
        "fig.show()"
      ],
      "execution_count": 104,
      "outputs": [
        {
          "output_type": "display_data",
          "data": {
            "image/png": "[encoded data removed]",
            "text/plain": [
              "<Figure size 1800x720 with 1 Axes>"
            ]
          },
          "metadata": {
            "tags": [],
            "image/png": {
              "width": 1478,
              "height": 630
            },
            "needs_background": "light"
          }
        }
      ]
    },
    {
      "cell_type": "code",
      "metadata": {
        "id": "QH9e8N3vZQ-e",
        "colab_type": "code",
        "colab": {
          "base_uri": "https://localhost:8080/",
          "height": 101
        },
        "outputId": "2a1e1021-2773-4560-e0fa-44de6774b4dd"
      },
      "source": [
        "df.columns"
      ],
      "execution_count": 59,
      "outputs": [
        {
          "output_type": "execute_result",
          "data": {
            "text/plain": [
              "Index(['institution', 'school_type', 'state', 'testing_info_link', 'rtc_model',\n",
              "       'last_updated', 'testing', 'testing_type', 'test_initial',\n",
              "       'test_recurring', 'test_freq', 'test_vendor', 'test_pool', 'comments',\n",
              "       'testing_num'],\n",
              "      dtype='object')"
            ]
          },
          "metadata": {
            "tags": []
          },
          "execution_count": 59
        }
      ]
    },
    {
      "cell_type": "code",
      "metadata": {
        "id": "QOiFsHd9V0be",
        "colab_type": "code",
        "colab": {
          "base_uri": "https://localhost:8080/",
          "height": 166
        },
        "outputId": "2f6e4071-27c9-4ec1-d9a7-3d2683e24186"
      },
      "source": [
        "# confusion matrix, testing initial vs testing recurring\n",
        "v = df.groupby(['test_initial', 'test_recurring']).size().unstack(fill_value=0).sort_values(by=\"FALSE\", ascending=False)\n",
        "v/v.values.sum()*100"
      ],
      "execution_count": 63,
      "outputs": [
        {
          "output_type": "execute_result",
          "data": {
            "text/html": [
              "<div>\n",
              "<style scoped>\n",
              "    .dataframe tbody tr th:only-of-type {\n",
              "        vertical-align: middle;\n",
              "    }\n",
              "\n",
              "    .dataframe tbody tr th {\n",
              "        vertical-align: top;\n",
              "    }\n",
              "\n",
              "    .dataframe thead th {\n",
              "        text-align: right;\n",
              "    }\n",
              "</style>\n",
              "<table border=\"1\" class=\"dataframe\">\n",
              "  <thead>\n",
              "    <tr style=\"text-align: right;\">\n",
              "      <th>test_recurring</th>\n",
              "      <th>FALSE</th>\n",
              "      <th>TRUE</th>\n",
              "      <th>Unknown</th>\n",
              "    </tr>\n",
              "    <tr>\n",
              "      <th>test_initial</th>\n",
              "      <th></th>\n",
              "      <th></th>\n",
              "      <th></th>\n",
              "    </tr>\n",
              "  </thead>\n",
              "  <tbody>\n",
              "    <tr>\n",
              "      <th>FALSE</th>\n",
              "      <td>60.085837</td>\n",
              "      <td>2.360515</td>\n",
              "      <td>1.287554</td>\n",
              "    </tr>\n",
              "    <tr>\n",
              "      <th>TRUE</th>\n",
              "      <td>5.150215</td>\n",
              "      <td>16.523605</td>\n",
              "      <td>3.648069</td>\n",
              "    </tr>\n",
              "    <tr>\n",
              "      <th>Unknown</th>\n",
              "      <td>0.643777</td>\n",
              "      <td>0.429185</td>\n",
              "      <td>9.871245</td>\n",
              "    </tr>\n",
              "  </tbody>\n",
              "</table>\n",
              "</div>"
            ],
            "text/plain": [
              "test_recurring      FALSE       TRUE   Unknown\n",
              "test_initial                                  \n",
              "FALSE           60.085837   2.360515  1.287554\n",
              "TRUE             5.150215  16.523605  3.648069\n",
              "Unknown          0.643777   0.429185  9.871245"
            ]
          },
          "metadata": {
            "tags": []
          },
          "execution_count": 63
        }
      ]
    },
    {
      "cell_type": "code",
      "metadata": {
        "id": "Unzd7tKCZUm8",
        "colab_type": "code",
        "colab": {
          "base_uri": "https://localhost:8080/",
          "height": 136
        },
        "outputId": "4d29e8c9-d7e5-4383-a8c8-43c2501b768f"
      },
      "source": [
        "# Testing based on school type\n",
        "v = df.groupby(['school_type', 'testing']).size().unstack(fill_value=0).sort_values(by=\"FALSE\", ascending=False)\n",
        "v/v.values.sum(axis=1)[:,None]*100"
      ],
      "execution_count": 73,
      "outputs": [
        {
          "output_type": "execute_result",
          "data": {
            "text/html": [
              "<div>\n",
              "<style scoped>\n",
              "    .dataframe tbody tr th:only-of-type {\n",
              "        vertical-align: middle;\n",
              "    }\n",
              "\n",
              "    .dataframe tbody tr th {\n",
              "        vertical-align: top;\n",
              "    }\n",
              "\n",
              "    .dataframe thead th {\n",
              "        text-align: right;\n",
              "    }\n",
              "</style>\n",
              "<table border=\"1\" class=\"dataframe\">\n",
              "  <thead>\n",
              "    <tr style=\"text-align: right;\">\n",
              "      <th>testing</th>\n",
              "      <th>FALSE</th>\n",
              "      <th>TRUE</th>\n",
              "      <th>Unknown</th>\n",
              "    </tr>\n",
              "    <tr>\n",
              "      <th>school_type</th>\n",
              "      <th></th>\n",
              "      <th></th>\n",
              "      <th></th>\n",
              "    </tr>\n",
              "  </thead>\n",
              "  <tbody>\n",
              "    <tr>\n",
              "      <th>Public</th>\n",
              "      <td>43.946188</td>\n",
              "      <td>49.775785</td>\n",
              "      <td>6.278027</td>\n",
              "    </tr>\n",
              "    <tr>\n",
              "      <th>Private</th>\n",
              "      <td>32.377049</td>\n",
              "      <td>54.918033</td>\n",
              "      <td>12.704918</td>\n",
              "    </tr>\n",
              "  </tbody>\n",
              "</table>\n",
              "</div>"
            ],
            "text/plain": [
              "testing          FALSE       TRUE    Unknown\n",
              "school_type                                 \n",
              "Public       43.946188  49.775785   6.278027\n",
              "Private      32.377049  54.918033  12.704918"
            ]
          },
          "metadata": {
            "tags": []
          },
          "execution_count": 73
        }
      ]
    },
    {
      "cell_type": "code",
      "metadata": {
        "id": "XkGBeOJjZ8xu",
        "colab_type": "code",
        "colab": {
          "base_uri": "https://localhost:8080/",
          "height": 254
        },
        "outputId": "7a23e19d-da1a-442a-c960-cebd3acbf421"
      },
      "source": [
        "v = df.groupby(['rtc_model', 'testing']).size().unstack(fill_value=0).sort_values(by=\"FALSE\", ascending=False)\n",
        "\n",
        "v/v.values.sum(axis=1)[:,None]*100"
      ],
      "execution_count": 74,
      "outputs": [
        {
          "output_type": "execute_result",
          "data": {
            "text/html": [
              "<div>\n",
              "<style scoped>\n",
              "    .dataframe tbody tr th:only-of-type {\n",
              "        vertical-align: middle;\n",
              "    }\n",
              "\n",
              "    .dataframe tbody tr th {\n",
              "        vertical-align: top;\n",
              "    }\n",
              "\n",
              "    .dataframe thead th {\n",
              "        text-align: right;\n",
              "    }\n",
              "</style>\n",
              "<table border=\"1\" class=\"dataframe\">\n",
              "  <thead>\n",
              "    <tr style=\"text-align: right;\">\n",
              "      <th>testing</th>\n",
              "      <th>FALSE</th>\n",
              "      <th>TRUE</th>\n",
              "      <th>Unknown</th>\n",
              "    </tr>\n",
              "    <tr>\n",
              "      <th>rtc_model</th>\n",
              "      <th></th>\n",
              "      <th></th>\n",
              "      <th></th>\n",
              "    </tr>\n",
              "  </thead>\n",
              "  <tbody>\n",
              "    <tr>\n",
              "      <th>Planning for in-person</th>\n",
              "      <td>45.669291</td>\n",
              "      <td>46.850394</td>\n",
              "      <td>7.480315</td>\n",
              "    </tr>\n",
              "    <tr>\n",
              "      <th>Proposing a hybrid model</th>\n",
              "      <td>24.260355</td>\n",
              "      <td>64.497041</td>\n",
              "      <td>11.242604</td>\n",
              "    </tr>\n",
              "    <tr>\n",
              "      <th>Planning for online</th>\n",
              "      <td>52.777778</td>\n",
              "      <td>30.555556</td>\n",
              "      <td>16.666667</td>\n",
              "    </tr>\n",
              "    <tr>\n",
              "      <th>Considering a range of scenarios</th>\n",
              "      <td>25.000000</td>\n",
              "      <td>50.000000</td>\n",
              "      <td>25.000000</td>\n",
              "    </tr>\n",
              "    <tr>\n",
              "      <th>All classes online, but many students will live on campus</th>\n",
              "      <td>0.000000</td>\n",
              "      <td>100.000000</td>\n",
              "      <td>0.000000</td>\n",
              "    </tr>\n",
              "    <tr>\n",
              "      <th>Proposing a hybrid model (all students on campus)</th>\n",
              "      <td>0.000000</td>\n",
              "      <td>100.000000</td>\n",
              "      <td>0.000000</td>\n",
              "    </tr>\n",
              "  </tbody>\n",
              "</table>\n",
              "</div>"
            ],
            "text/plain": [
              "testing                                                 FALSE  ...    Unknown\n",
              "rtc_model                                                      ...           \n",
              "Planning for in-person                              45.669291  ...   7.480315\n",
              "Proposing a hybrid model                            24.260355  ...  11.242604\n",
              "Planning for online                                 52.777778  ...  16.666667\n",
              "Considering a range of scenarios                    25.000000  ...  25.000000\n",
              "All classes online, but many students will live...   0.000000  ...   0.000000\n",
              "Proposing a hybrid model (all students on campus)    0.000000  ...   0.000000\n",
              "\n",
              "[6 rows x 3 columns]"
            ]
          },
          "metadata": {
            "tags": []
          },
          "execution_count": 74
        }
      ]
    },
    {
      "cell_type": "code",
      "metadata": {
        "id": "6fC_-X7DaPT0",
        "colab_type": "code",
        "colab": {
          "base_uri": "https://localhost:8080/",
          "height": 462
        },
        "outputId": "dd257142-4bf1-4597-d251-056a2a6d846a"
      },
      "source": [
        "fig, ax = plt.subplots(figsize=(14,7))\n",
        "v = df.query(\"test_freq!=0\").test_freq.values\n",
        "x = v[~np.isnan(v)]\n",
        "mean = x.mean()\n",
        "median = np.median(x)\n",
        "ax.hist(x, color=\"k\")\n",
        "ax.axvline(mean, label=f\"mean: {mean:,.2f}\", color=\"green\", linestyle=\"--\")\n",
        "ax.axvline(median, label=f\"median: {median:,.0f}\", color=\"red\", linestyle=\"--\")\n",
        "kwd = {\n",
        "    \"xlabel\": \"Testing frequency\",\n",
        "    \"ylabel\": \"# Universities\"\n",
        "}\n",
        "ax.set(**kwd)\n",
        "ax.legend()\n",
        "\n",
        "fig.show()"
      ],
      "execution_count": 98,
      "outputs": [
        {
          "output_type": "display_data",
          "data": {
            "image/png": "[encoded data removed]",
            "text/plain": [
              "<Figure size 1008x504 with 1 Axes>"
            ]
          },
          "metadata": {
            "tags": [],
            "image/png": {
              "width": 852,
              "height": 445
            },
            "needs_background": "light"
          }
        }
      ]
    },
    {
      "cell_type": "code",
      "metadata": {
        "id": "fZGgXabYa_kT",
        "colab_type": "code",
        "colab": {
          "base_uri": "https://localhost:8080/",
          "height": 101
        },
        "outputId": "b6c83b1c-6909-43bf-aff3-a1ec40c567b7"
      },
      "source": [
        "df.columns"
      ],
      "execution_count": 97,
      "outputs": [
        {
          "output_type": "execute_result",
          "data": {
            "text/plain": [
              "Index(['institution', 'school_type', 'state', 'testing_info_link', 'rtc_model',\n",
              "       'last_updated', 'testing', 'testing_type', 'test_initial',\n",
              "       'test_recurring', 'test_freq', 'test_vendor', 'test_pool', 'comments',\n",
              "       'testing_num'],\n",
              "      dtype='object')"
            ]
          },
          "metadata": {
            "tags": []
          },
          "execution_count": 97
        }
      ]
    },
    {
      "cell_type": "code",
      "metadata": {
        "id": "zA7gzezlcexX",
        "colab_type": "code",
        "colab": {}
      },
      "source": [
        "v = df.groupby(['state', 'test_initial']).size().unstack(fill_value=0)\n",
        "initial = v/v.values.sum(axis=1)[:,None]*100\n",
        "\n",
        "v = df.groupby(['state', 'test_recurring']).size().unstack(fill_value=0)\n",
        "recurrent = v/v.values.sum(axis=1)[:,None]*100"
      ],
      "execution_count": 105,
      "outputs": []
    },
    {
      "cell_type": "code",
      "metadata": {
        "id": "-abES8gou31v",
        "colab_type": "code",
        "colab": {
          "base_uri": "https://localhost:8080/",
          "height": 462
        },
        "outputId": "4c1965c7-c4d9-4d59-ff42-af92b51774a5"
      },
      "source": [
        "fig, ax = plt.subplots(figsize=(7,7))\n",
        "\n",
        "x = initial.TRUE.values\n",
        "y = recurrent.TRUE.values\n",
        "\n",
        "ax.scatter(x, y)\n",
        "yex(ax)\n",
        "\n",
        "kwd = {\n",
        "    \"xlabel\": \"% of universities testing initially\",\n",
        "    \"ylabel\": \"% of universities testing recurrently\"\n",
        "}\n",
        "ax.set(**kwd)\n",
        "\n",
        "fig.show()"
      ],
      "execution_count": 111,
      "outputs": [
        {
          "output_type": "display_data",
          "data": {
            "image/png": "[encoded data removed]",
            "text/plain": [
              "<Figure size 504x504 with 1 Axes>"
            ]
          },
          "metadata": {
            "tags": [],
            "image/png": {
              "width": 465,
              "height": 445
            },
            "needs_background": "light"
          }
        }
      ]
    },
    {
      "cell_type": "code",
      "metadata": {
        "id": "sqDNotYIu4s9",
        "colab_type": "code",
        "colab": {
          "base_uri": "https://localhost:8080/",
          "height": 202
        },
        "outputId": "5bdc44ac-9ada-41f8-e886-e9181b5ec3eb"
      },
      "source": [
        "!wget https://covidtracking.com/api/v1/states/daily.csv "
      ],
      "execution_count": 112,
      "outputs": [
        {
          "output_type": "stream",
          "text": [
            "--2020-08-02 19:55:03--  https://covidtracking.com/api/v1/states/daily.csv\n",
            "Resolving covidtracking.com (covidtracking.com)... 159.65.216.232, 104.248.63.231, 2604:a880:400:d0::6d9:d001, ...\n",
            "Connecting to covidtracking.com (covidtracking.com)|159.65.216.232|:443... connected.\n",
            "HTTP request sent, awaiting response... 200 OK\n",
            "Length: 1836214 (1.8M) [text/csv]\n",
            "Saving to: ‘daily.csv’\n",
            "\n",
            "daily.csv           100%[===================>]   1.75M  3.21MB/s    in 0.5s    \n",
            "\n",
            "2020-08-02 19:55:04 (3.21 MB/s) - ‘daily.csv’ saved [1836214/1836214]\n",
            "\n"
          ],
          "name": "stdout"
        }
      ]
    },
    {
      "cell_type": "code",
      "metadata": {
        "id": "AG3jjqKSvekX",
        "colab_type": "code",
        "colab": {}
      },
      "source": [
        "daily = pd.read_csv(\"daily.csv\")"
      ],
      "execution_count": 114,
      "outputs": []
    },
    {
      "cell_type": "code",
      "metadata": {
        "id": "TvLgqmb8vpJ5",
        "colab_type": "code",
        "colab": {}
      },
      "source": [
        "gb = daily.groupby(\"state\")[[\"positive\", \"negative\"]].sum()\n",
        "pos = gb[\"positive\"]/(gb[\"positive\"] + gb[\"negative\"])"
      ],
      "execution_count": 118,
      "outputs": []
    },
    {
      "cell_type": "code",
      "metadata": {
        "id": "tv2wBntzwaGi",
        "colab_type": "code",
        "colab": {
          "base_uri": "https://localhost:8080/",
          "height": 319
        },
        "outputId": "c8849ac2-ea11-4d2d-a04f-fd6aea6aca7a"
      },
      "source": [
        "initial.index.map(pos)"
      ],
      "execution_count": 121,
      "outputs": [
        {
          "output_type": "execute_result",
          "data": {
            "text/plain": [
              "Float64Index([0.011943613371203808,  0.10033725399300127,  0.07051246531771728,\n",
              "               0.14991850327795642,  0.05993639764418329,  0.11598506470419201,\n",
              "               0.11814297048727446,  0.11573251477169326,  0.11611338476991037,\n",
              "                0.0920745216846094,  0.11049130508505597, 0.014322422598703364,\n",
              "               0.10466822874872947,  0.10008210598398298,  0.10931812492602844,\n",
              "               0.09266875103233115, 0.047977670757016956,  0.09743700529950346,\n",
              "                0.1428311325923007,  0.13351548841438862, 0.035561272835055974,\n",
              "               0.08608370268523231,  0.06617555052943341,   0.0650595155013589,\n",
              "               0.10310215734566697, 0.016909921139266173,  0.07083143540148785,\n",
              "               0.03624430576963657,  0.11296302895251528,  0.05432661325039984,\n",
              "                0.1592026572762739, 0.037766846185354974,  0.07921329563136684,\n",
              "               0.13461594729203855,  0.07450787715695553,  0.04640132326274825,\n",
              "              0.039787524373773336,  0.12799277321635183,  0.11723667022698338,\n",
              "               0.10102262602478763,  0.09308689888681264,  0.05983904822784706,\n",
              "               0.09347532084199041,  0.06113888043038329,  0.10456282013409737,\n",
              "              0.024887633537025874,  0.06529271669548005,  0.06389667128206084,\n",
              "              0.020619335064706854,  0.04411883340055937],\n",
              "             dtype='float64', name='state')"
            ]
          },
          "metadata": {
            "tags": []
          },
          "execution_count": 121
        }
      ]
    },
    {
      "cell_type": "code",
      "metadata": {
        "id": "P84HFOQdvvVd",
        "colab_type": "code",
        "colab": {
          "base_uri": "https://localhost:8080/",
          "height": 462
        },
        "outputId": "270f5f80-71ac-4057-8937-845cc7cf439e"
      },
      "source": [
        "fig, ax = plt.subplots(figsize=(7,7))\n",
        "\n",
        "x = initial.index.map(pos)*100\n",
        "y = initial.TRUE.values\n",
        "\n",
        "ax.scatter(x, y)\n",
        "\n",
        "kwd = {\n",
        "    \"xlabel\": \"Positivity rate\",\n",
        "    \"ylabel\": \"% of universities testing initially\"\n",
        "}\n",
        "ax.set(**kwd)\n",
        "\n",
        "fig.show()"
      ],
      "execution_count": 125,
      "outputs": [
        {
          "output_type": "display_data",
          "data": {
            "image/png": "[encoded data removed]",
            "text/plain": [
              "<Figure size 504x504 with 1 Axes>"
            ]
          },
          "metadata": {
            "tags": [],
            "image/png": {
              "width": 474,
              "height": 445
            },
            "needs_background": "light"
          }
        }
      ]
    },
    {
      "cell_type": "code",
      "metadata": {
        "id": "HHGIRSepwWq6",
        "colab_type": "code",
        "colab": {
          "base_uri": "https://localhost:8080/",
          "height": 118
        },
        "outputId": "a281ce68-9689-4eba-8204-1cd7a77f82bd"
      },
      "source": [
        "df.groupby(\"state\")[\"test_recurring\"].count().sort_values().values == df.groupby(\"state\")[\"test_initial\"].count().sort_values().values"
      ],
      "execution_count": 139,
      "outputs": [
        {
          "output_type": "execute_result",
          "data": {
            "text/plain": [
              "array([ True,  True,  True,  True,  True,  True,  True,  True,  True,\n",
              "        True,  True, False,  True,  True,  True,  True,  True,  True,\n",
              "        True,  True,  True,  True, False,  True,  True,  True,  True,\n",
              "        True,  True,  True,  True,  True,  True,  True,  True, False,\n",
              "        True, False,  True,  True,  True,  True,  True,  True,  True,\n",
              "        True,  True,  True,  True,  True,  True,  True])"
            ]
          },
          "metadata": {
            "tags": []
          },
          "execution_count": 139
        }
      ]
    },
    {
      "cell_type": "code",
      "metadata": {
        "id": "6edF47-pxIP8",
        "colab_type": "code",
        "colab": {
          "base_uri": "https://localhost:8080/",
          "height": 324
        },
        "outputId": "cd757358-93c0-4d3b-8a2b-e84e660b8895"
      },
      "source": [
        "df.query(\"state=='AK'\")"
      ],
      "execution_count": 136,
      "outputs": [
        {
          "output_type": "execute_result",
          "data": {
            "text/html": [
              "<div>\n",
              "<style scoped>\n",
              "    .dataframe tbody tr th:only-of-type {\n",
              "        vertical-align: middle;\n",
              "    }\n",
              "\n",
              "    .dataframe tbody tr th {\n",
              "        vertical-align: top;\n",
              "    }\n",
              "\n",
              "    .dataframe thead th {\n",
              "        text-align: right;\n",
              "    }\n",
              "</style>\n",
              "<table border=\"1\" class=\"dataframe\">\n",
              "  <thead>\n",
              "    <tr style=\"text-align: right;\">\n",
              "      <th></th>\n",
              "      <th>institution</th>\n",
              "      <th>school_type</th>\n",
              "      <th>state</th>\n",
              "      <th>testing_info_link</th>\n",
              "      <th>rtc_model</th>\n",
              "      <th>last_updated</th>\n",
              "      <th>testing</th>\n",
              "      <th>testing_type</th>\n",
              "      <th>test_initial</th>\n",
              "      <th>test_recurring</th>\n",
              "      <th>test_freq</th>\n",
              "      <th>test_vendor</th>\n",
              "      <th>test_pool</th>\n",
              "      <th>comments</th>\n",
              "      <th>testing_num</th>\n",
              "    </tr>\n",
              "  </thead>\n",
              "  <tbody>\n",
              "    <tr>\n",
              "      <th>Alaska Pacific University</th>\n",
              "      <td>Alaska Pacific University</td>\n",
              "      <td>Private</td>\n",
              "      <td>AK</td>\n",
              "      <td>https://www.alaskapacific.edu/campus-reopening...</td>\n",
              "      <td>Proposing a hybrid model</td>\n",
              "      <td>7/27/2020</td>\n",
              "      <td>FALSE</td>\n",
              "      <td>No voluntary testing</td>\n",
              "      <td>FALSE</td>\n",
              "      <td>FALSE</td>\n",
              "      <td>0.0</td>\n",
              "      <td>NaN</td>\n",
              "      <td>NaN</td>\n",
              "      <td>Re-entry testing is encouraged but not mandate...</td>\n",
              "      <td>0</td>\n",
              "    </tr>\n",
              "    <tr>\n",
              "      <th>University of Alaska at Anchorage</th>\n",
              "      <td>University of Alaska at Anchorage</td>\n",
              "      <td>Public</td>\n",
              "      <td>AK</td>\n",
              "      <td>https://sites.google.com/alaska.edu/coronaviru...</td>\n",
              "      <td>Planning for online</td>\n",
              "      <td>NaN</td>\n",
              "      <td>NaN</td>\n",
              "      <td>NaN</td>\n",
              "      <td>NaN</td>\n",
              "      <td>NaN</td>\n",
              "      <td>NaN</td>\n",
              "      <td>NaN</td>\n",
              "      <td>NaN</td>\n",
              "      <td>NaN</td>\n",
              "      <td>0</td>\n",
              "    </tr>\n",
              "    <tr>\n",
              "      <th>University of Alaska at Fairbanks</th>\n",
              "      <td>University of Alaska at Fairbanks</td>\n",
              "      <td>Public</td>\n",
              "      <td>AK</td>\n",
              "      <td>https://news.uaf.edu/?mailpoet_router&amp;amp;endp...</td>\n",
              "      <td>Proposing a hybrid model</td>\n",
              "      <td>NaN</td>\n",
              "      <td>NaN</td>\n",
              "      <td>NaN</td>\n",
              "      <td>NaN</td>\n",
              "      <td>NaN</td>\n",
              "      <td>NaN</td>\n",
              "      <td>NaN</td>\n",
              "      <td>NaN</td>\n",
              "      <td>NaN</td>\n",
              "      <td>0</td>\n",
              "    </tr>\n",
              "  </tbody>\n",
              "</table>\n",
              "</div>"
            ],
            "text/plain": [
              "                                                         institution  ... testing_num\n",
              "Alaska Pacific University                  Alaska Pacific University  ...           0\n",
              "University of Alaska at Anchorage  University of Alaska at Anchorage  ...           0\n",
              "University of Alaska at Fairbanks  University of Alaska at Fairbanks  ...           0\n",
              "\n",
              "[3 rows x 15 columns]"
            ]
          },
          "metadata": {
            "tags": []
          },
          "execution_count": 136
        }
      ]
    },
    {
      "cell_type": "code",
      "metadata": {
        "id": "S85188HWxfU-",
        "colab_type": "code",
        "colab": {
          "base_uri": "https://localhost:8080/",
          "height": 924
        },
        "outputId": "5ac06af8-bcc4-4f7e-c16f-dc259770a36b"
      },
      "source": [
        "df.groupby(\"state\").count().institution.sort_values()"
      ],
      "execution_count": 141,
      "outputs": [
        {
          "output_type": "execute_result",
          "data": {
            "text/plain": [
              "state\n",
              "Multiple      1\n",
              "WY            2\n",
              "DE            3\n",
              "AK            3\n",
              "NV            4\n",
              "HI            5\n",
              "ID            5\n",
              "AZ            5\n",
              "MT            5\n",
              "RI            6\n",
              "NM            6\n",
              "SD            8\n",
              "DC            9\n",
              "NH            9\n",
              "VT           10\n",
              "KY           10\n",
              "UT           12\n",
              "OK           13\n",
              "ND           13\n",
              "WV           13\n",
              "MS           14\n",
              "KS           14\n",
              "AR           14\n",
              "ME           15\n",
              "CO           15\n",
              "CT           15\n",
              "OR           16\n",
              "LA           16\n",
              "WA           17\n",
              "NE           17\n",
              "IA           17\n",
              "SC           18\n",
              "NJ           20\n",
              "WI           20\n",
              "MN           20\n",
              "TN           26\n",
              "MD           27\n",
              "IN           29\n",
              "MO           30\n",
              "VA           33\n",
              "FL           35\n",
              "GA           36\n",
              "NC           36\n",
              "IL           39\n",
              "MI           39\n",
              "AL           41\n",
              "OH           41\n",
              "MA           55\n",
              "TX           69\n",
              "PA           78\n",
              "NY           87\n",
              "CA          136\n",
              "Name: institution, dtype: int64"
            ]
          },
          "metadata": {
            "tags": []
          },
          "execution_count": 141
        }
      ]
    },
    {
      "cell_type": "code",
      "metadata": {
        "id": "7P3wGOkN1c3v",
        "colab_type": "code",
        "colab": {
          "base_uri": "https://localhost:8080/",
          "height": 34
        },
        "outputId": "4b62f330-f65f-4045-9008-024228e1cbf0"
      },
      "source": [
        "\"Yale University\" in df.institution.values"
      ],
      "execution_count": 148,
      "outputs": [
        {
          "output_type": "execute_result",
          "data": {
            "text/plain": [
              "True"
            ]
          },
          "metadata": {
            "tags": []
          },
          "execution_count": 148
        }
      ]
    },
    {
      "cell_type": "code",
      "metadata": {
        "id": "KtEpsd7azjQu",
        "colab_type": "code",
        "colab": {}
      },
      "source": [
        "usnr = pd.read_excel(\"http://andyreiter.com/wp-content/uploads/2019/09/US-News-Rankings-Universities-Through-2020.xlsx\", header=1)"
      ],
      "execution_count": 155,
      "outputs": []
    },
    {
      "cell_type": "code",
      "metadata": {
        "id": "6WVkM5ks3DsI",
        "colab_type": "code",
        "colab": {
          "base_uri": "https://localhost:8080/",
          "height": 269
        },
        "outputId": "c9c31fea-2e55-4982-8698-b3b8b206a505"
      },
      "source": [
        "np.setdiff1d(usnr[\"University Name\"], df.institution.values)"
      ],
      "execution_count": 179,
      "outputs": [
        {
          "output_type": "execute_result",
          "data": {
            "text/plain": [
              "array(['College of William and Mary', 'Georgia Institute of Technology',\n",
              "       'Pennsylvania State University-University Park',\n",
              "       'Rutgers University-New Brunswick',\n",
              "       'Texas A&M University-College Station',\n",
              "       'University of California-Berkeley',\n",
              "       'University of California-Davis',\n",
              "       'University of California-Irvine',\n",
              "       'University of California-Los Angeles',\n",
              "       'University of California-San Diego',\n",
              "       'University of California-Santa Barbara', 'University of Georgia',\n",
              "       'University of Illinois-Urbana-Champaign',\n",
              "       'University of Michigan-Ann Arbor',\n",
              "       'University of North Carolina-Chapel Hill',\n",
              "       'University of Texas-Austin', 'University of Wisconsin-Madison'],\n",
              "      dtype=object)"
            ]
          },
          "metadata": {
            "tags": []
          },
          "execution_count": 179
        }
      ]
    },
    {
      "cell_type": "code",
      "metadata": {
        "id": "byVD77nU3NGV",
        "colab_type": "code",
        "colab": {}
      },
      "source": [
        "top_map = {\n",
        "  'College of William and Mary':\"College of William & Mary\", \n",
        "  'Georgia Institute of Technology': \"University System of Georgia — Georgia Institute of Technology\",\n",
        "  'Pennsylvania State University-University Park': \"Pennsylvania State University\",\n",
        "  'Rutgers University-New Brunswick': \"Rutgers University\",\n",
        "  'Texas A&M University-College Station': \"Texas A&M University system — College Station\",\n",
        "  'University of California-Berkeley': \"University of California at Berkeley\",\n",
        "  'University of California-Davis':\"University of California at Davis\",\n",
        "  'University of California-Irvine':\"University of California at Irvine\",\n",
        "  'University of California-Los Angeles': \"University of California at Los Angeles\",\n",
        "  'University of California-San Diego': \"University of California at San Diego\",\n",
        "  'University of California-Santa Barbara': \"University of California at Santa Barbara\", \n",
        "  'University of Georgia': \"University System of Georgia — University of Georgia\",\n",
        "  'University of Illinois-Urbana-Champaign': \"University of Illinois at Urbana-Champaign\",\n",
        "  'University of Michigan-Ann Arbor': \"University of Michigan at Ann Arbor\",\n",
        "  'University of North Carolina-Chapel Hill': \"University of North Carolina at Chapel Hill\",\n",
        "  'University of Texas-Austin':\"University of Texas at Austin\", \n",
        "  'University of Wisconsin-Madison': \"University of Wisconsin at Madison\"\n",
        "}"
      ],
      "execution_count": 180,
      "outputs": []
    },
    {
      "cell_type": "code",
      "metadata": {
        "id": "pZuwxOVJ3diy",
        "colab_type": "code",
        "colab": {}
      },
      "source": [
        "usnr[\"University Name\"] = usnr[\"University Name\"].apply(lambda x: top_map.get(x, x))"
      ],
      "execution_count": 184,
      "outputs": []
    },
    {
      "cell_type": "code",
      "metadata": {
        "id": "l8NxJlRp5Y-j",
        "colab_type": "code",
        "colab": {
          "base_uri": "https://localhost:8080/",
          "height": 842
        },
        "outputId": "0a0aaf43-a622-408f-dac9-feaa65f94931"
      },
      "source": [
        "df[df.institution.isin(usnr[\"University Name\"].values)]"
      ],
      "execution_count": 186,
      "outputs": [
        {
          "output_type": "execute_result",
          "data": {
            "text/html": [
              "<div>\n",
              "<style scoped>\n",
              "    .dataframe tbody tr th:only-of-type {\n",
              "        vertical-align: middle;\n",
              "    }\n",
              "\n",
              "    .dataframe tbody tr th {\n",
              "        vertical-align: top;\n",
              "    }\n",
              "\n",
              "    .dataframe thead th {\n",
              "        text-align: right;\n",
              "    }\n",
              "</style>\n",
              "<table border=\"1\" class=\"dataframe\">\n",
              "  <thead>\n",
              "    <tr style=\"text-align: right;\">\n",
              "      <th></th>\n",
              "      <th>institution</th>\n",
              "      <th>school_type</th>\n",
              "      <th>state</th>\n",
              "      <th>testing_info_link</th>\n",
              "      <th>rtc_model</th>\n",
              "      <th>last_updated</th>\n",
              "      <th>testing</th>\n",
              "      <th>testing_type</th>\n",
              "      <th>test_initial</th>\n",
              "      <th>test_recurring</th>\n",
              "      <th>test_freq</th>\n",
              "      <th>test_vendor</th>\n",
              "      <th>test_pool</th>\n",
              "      <th>comments</th>\n",
              "      <th>testing_num</th>\n",
              "    </tr>\n",
              "  </thead>\n",
              "  <tbody>\n",
              "    <tr>\n",
              "      <th>Boston College</th>\n",
              "      <td>Boston College</td>\n",
              "      <td>Private</td>\n",
              "      <td>MA</td>\n",
              "      <td>https://www.bostonglobe.com/2020/05/19/metro/b...</td>\n",
              "      <td>Planning for in-person</td>\n",
              "      <td>7/26/2020</td>\n",
              "      <td>TRUE</td>\n",
              "      <td>Unknown</td>\n",
              "      <td>TRUE</td>\n",
              "      <td>TRUE</td>\n",
              "      <td>1.0</td>\n",
              "      <td>analyzed by The Broad Institute</td>\n",
              "      <td>Unknown</td>\n",
              "      <td>\"weekly surveillance testing\" (https://www.bc....</td>\n",
              "      <td>1</td>\n",
              "    </tr>\n",
              "    <tr>\n",
              "      <th>Boston University</th>\n",
              "      <td>Boston University</td>\n",
              "      <td>Private</td>\n",
              "      <td>MA</td>\n",
              "      <td>https://www.bu.edu/back2bu/covid-19-testing-tr...</td>\n",
              "      <td>Proposing a hybrid model</td>\n",
              "      <td>7/28/2020</td>\n",
              "      <td>TRUE</td>\n",
              "      <td>Both asymptomatic and symptomatic</td>\n",
              "      <td>TRUE</td>\n",
              "      <td>TRUE</td>\n",
              "      <td>2.0</td>\n",
              "      <td>In house lab</td>\n",
              "      <td>NaN</td>\n",
              "      <td>NaN</td>\n",
              "      <td>1</td>\n",
              "    </tr>\n",
              "    <tr>\n",
              "      <th>Brandeis University</th>\n",
              "      <td>Brandeis University</td>\n",
              "      <td>Private</td>\n",
              "      <td>MA</td>\n",
              "      <td>https://www.brandeis.edu/fall-2020/pdfs/task-f...</td>\n",
              "      <td>Proposing a hybrid model</td>\n",
              "      <td>7/28/2020</td>\n",
              "      <td>TRUE</td>\n",
              "      <td>Asymptomatic</td>\n",
              "      <td>TRUE</td>\n",
              "      <td>TRUE</td>\n",
              "      <td>2.0</td>\n",
              "      <td>Broad Institute</td>\n",
              "      <td>NaN</td>\n",
              "      <td>High-Frequency, Universal Testing. Brandeis wi...</td>\n",
              "      <td>1</td>\n",
              "    </tr>\n",
              "    <tr>\n",
              "      <th>Brown University</th>\n",
              "      <td>Brown University</td>\n",
              "      <td>Private</td>\n",
              "      <td>RI</td>\n",
              "      <td>https://healthy.brown.edu/updates/planning-groups</td>\n",
              "      <td>Proposing a hybrid model</td>\n",
              "      <td>7/27/2020</td>\n",
              "      <td>TRUE</td>\n",
              "      <td>Symptomatic</td>\n",
              "      <td>TRUE</td>\n",
              "      <td>TRUE</td>\n",
              "      <td>NaN</td>\n",
              "      <td>University Health Services conducts, Lifespan ...</td>\n",
              "      <td>Unknown</td>\n",
              "      <td>They've implemented a testing pilot over the s...</td>\n",
              "      <td>1</td>\n",
              "    </tr>\n",
              "    <tr>\n",
              "      <th>California Institute of Technology</th>\n",
              "      <td>California Institute of Technology</td>\n",
              "      <td>Private</td>\n",
              "      <td>CA</td>\n",
              "      <td>https://coronavirus.caltech.edu/fall-2020-plan</td>\n",
              "      <td>Proposing a hybrid model</td>\n",
              "      <td>7/22/2020</td>\n",
              "      <td>TRUE</td>\n",
              "      <td>Symptomatic</td>\n",
              "      <td>Unknown</td>\n",
              "      <td>FALSE</td>\n",
              "      <td>0.0</td>\n",
              "      <td>NaN</td>\n",
              "      <td>NaN</td>\n",
              "      <td>Testing at the health center is not available ...</td>\n",
              "      <td>1</td>\n",
              "    </tr>\n",
              "    <tr>\n",
              "      <th>...</th>\n",
              "      <td>...</td>\n",
              "      <td>...</td>\n",
              "      <td>...</td>\n",
              "      <td>...</td>\n",
              "      <td>...</td>\n",
              "      <td>...</td>\n",
              "      <td>...</td>\n",
              "      <td>...</td>\n",
              "      <td>...</td>\n",
              "      <td>...</td>\n",
              "      <td>...</td>\n",
              "      <td>...</td>\n",
              "      <td>...</td>\n",
              "      <td>...</td>\n",
              "      <td>...</td>\n",
              "    </tr>\n",
              "    <tr>\n",
              "      <th>Villanova University</th>\n",
              "      <td>Villanova University</td>\n",
              "      <td>Private</td>\n",
              "      <td>PA</td>\n",
              "      <td>https://www1.villanova.edu/university/coronavi...</td>\n",
              "      <td>Waiting to decide</td>\n",
              "      <td>NaN</td>\n",
              "      <td>NaN</td>\n",
              "      <td>NaN</td>\n",
              "      <td>NaN</td>\n",
              "      <td>NaN</td>\n",
              "      <td>NaN</td>\n",
              "      <td>NaN</td>\n",
              "      <td>NaN</td>\n",
              "      <td>NaN</td>\n",
              "      <td>0</td>\n",
              "    </tr>\n",
              "    <tr>\n",
              "      <th>Wake Forest University</th>\n",
              "      <td>Wake Forest University</td>\n",
              "      <td>Private</td>\n",
              "      <td>NC</td>\n",
              "      <td>https://ourwayforward.wfu.edu</td>\n",
              "      <td>Proposing a hybrid model</td>\n",
              "      <td>NaN</td>\n",
              "      <td>NaN</td>\n",
              "      <td>NaN</td>\n",
              "      <td>NaN</td>\n",
              "      <td>NaN</td>\n",
              "      <td>NaN</td>\n",
              "      <td>NaN</td>\n",
              "      <td>NaN</td>\n",
              "      <td>NaN</td>\n",
              "      <td>0</td>\n",
              "    </tr>\n",
              "    <tr>\n",
              "      <th>Washington University in St. Louis</th>\n",
              "      <td>Washington University in St. Louis</td>\n",
              "      <td>Private</td>\n",
              "      <td>MO</td>\n",
              "      <td>https://covid19.wustl.edu/health-safety/</td>\n",
              "      <td>Proposing a hybrid model</td>\n",
              "      <td>7/30/2020</td>\n",
              "      <td>Unknown</td>\n",
              "      <td>Unknown</td>\n",
              "      <td>Unknown</td>\n",
              "      <td>Unknown</td>\n",
              "      <td>0.0</td>\n",
              "      <td>NaN</td>\n",
              "      <td>NaN</td>\n",
              "      <td>One of the most obtuse websites. But no mentio...</td>\n",
              "      <td>0</td>\n",
              "    </tr>\n",
              "    <tr>\n",
              "      <th>Worcester Polytechnic Institute</th>\n",
              "      <td>Worcester Polytechnic Institute</td>\n",
              "      <td>Private</td>\n",
              "      <td>MA</td>\n",
              "      <td>https://www.wpi.edu/we-are-wpi/academics</td>\n",
              "      <td>Proposing a hybrid model</td>\n",
              "      <td>7/28/2020</td>\n",
              "      <td>TRUE</td>\n",
              "      <td>Symptomatic</td>\n",
              "      <td>TRUE</td>\n",
              "      <td>TRUE</td>\n",
              "      <td>NaN</td>\n",
              "      <td>NaN</td>\n",
              "      <td>NaN</td>\n",
              "      <td>WPI has not released how they will test but ha...</td>\n",
              "      <td>1</td>\n",
              "    </tr>\n",
              "    <tr>\n",
              "      <th>Yale University</th>\n",
              "      <td>Yale University</td>\n",
              "      <td>Private</td>\n",
              "      <td>CT</td>\n",
              "      <td>https://covid19.yale.edu/health-safety-guidelines</td>\n",
              "      <td>Proposing a hybrid model</td>\n",
              "      <td>7/25/2020</td>\n",
              "      <td>TRUE</td>\n",
              "      <td>Both asymptomatic and symptomatic</td>\n",
              "      <td>TRUE</td>\n",
              "      <td>TRUE</td>\n",
              "      <td>1.0</td>\n",
              "      <td>NaN</td>\n",
              "      <td>NaN</td>\n",
              "      <td>All undergraduate students (whether living on ...</td>\n",
              "      <td>1</td>\n",
              "    </tr>\n",
              "  </tbody>\n",
              "</table>\n",
              "<p>61 rows × 15 columns</p>\n",
              "</div>"
            ],
            "text/plain": [
              "                                                           institution  ... testing_num\n",
              "Boston College                                          Boston College  ...           1\n",
              "Boston University                                    Boston University  ...           1\n",
              "Brandeis University                                Brandeis University  ...           1\n",
              "Brown University                                      Brown University  ...           1\n",
              "California Institute of Technology  California Institute of Technology  ...           1\n",
              "...                                                                ...  ...         ...\n",
              "Villanova University                              Villanova University  ...           0\n",
              "Wake Forest University                          Wake Forest University  ...           0\n",
              "Washington University in St. Louis  Washington University in St. Louis  ...           0\n",
              "Worcester Polytechnic Institute        Worcester Polytechnic Institute  ...           1\n",
              "Yale University                                        Yale University  ...           1\n",
              "\n",
              "[61 rows x 15 columns]"
            ]
          },
          "metadata": {
            "tags": []
          },
          "execution_count": 186
        }
      ]
    },
    {
      "cell_type": "code",
      "metadata": {
        "id": "TiUsBBls5kES",
        "colab_type": "code",
        "colab": {}
      },
      "source": [
        ""
      ],
      "execution_count": null,
      "outputs": []
    }
  ]
}