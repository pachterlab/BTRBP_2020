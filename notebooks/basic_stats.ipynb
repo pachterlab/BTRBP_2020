{
  "nbformat": 4,
  "nbformat_minor": 0,
  "metadata": {
    "colab": {
      "name": "basic_stats",
      "provenance": [],
      "toc_visible": true,
      "authorship_tag": "ABX9TyMk7V/8DvmO6QxwIRAjkFPk",
      "include_colab_link": true
    },
    "kernelspec": {
      "name": "python3",
      "display_name": "Python 3"
    }
  },
  "cells": [
    {
      "cell_type": "markdown",
      "metadata": {
        "id": "view-in-github",
        "colab_type": "text"
      },
      "source": [
        "<a href=\"https://colab.research.google.com/github/pachterlab/COVID-19-testing-database/blob/master/notebooks/basic_stats.ipynb\" target=\"_parent\"><img src=\"https://colab.research.google.com/assets/colab-badge.svg\" alt=\"Open In Colab\"/></a>"
      ]
    },
    {
      "cell_type": "code",
      "metadata": {
        "id": "85T7DdEQ8Un0",
        "colab_type": "code",
        "colab": {
          "base_uri": "https://localhost:8080/",
          "height": 121
        },
        "outputId": "88eece14-e1c5-4f96-b545-768fd2fd54f6"
      },
      "source": [
        "!git clone https://github.com/pachterlab/COVID-19-testing-database.git"
      ],
      "execution_count": 3,
      "outputs": [
        {
          "output_type": "stream",
          "text": [
            "Cloning into 'COVID-19-testing-database'...\n",
            "remote: Enumerating objects: 55, done.\u001b[K\n",
            "remote: Counting objects: 100% (55/55), done.\u001b[K\n",
            "remote: Compressing objects: 100% (52/52), done.\u001b[K\n",
            "remote: Total 55 (delta 10), reused 3 (delta 0), pack-reused 0\u001b[K\n",
            "Unpacking objects: 100% (55/55), done.\n"
          ],
          "name": "stdout"
        }
      ]
    },
    {
      "cell_type": "code",
      "metadata": {
        "id": "wSw5SdtvH8t6",
        "colab_type": "code",
        "colab": {}
      },
      "source": [
        "!wget --output-file=\"logs.csv\" \"https://docs.google.com/spreadsheets/d/10I8bVkLzvrmXJsb5N-8JSFpWw5vBwDKYzyOVAI4viKo/export?format=csv&gid=1514440859\" -O \"sheet.csv\""
      ],
      "execution_count": 4,
      "outputs": []
    },
    {
      "cell_type": "code",
      "metadata": {
        "id": "ta9Ds8btII6x",
        "colab_type": "code",
        "colab": {}
      },
      "source": [
        "!awk 'NR>4' sheet.csv > data.csv"
      ],
      "execution_count": 5,
      "outputs": []
    },
    {
      "cell_type": "code",
      "metadata": {
        "id": "SJnhI5hkINGB",
        "colab_type": "code",
        "colab": {}
      },
      "source": [
        "import pandas as pd\n",
        "import numpy as np\n",
        "import matplotlib.pyplot as plt\n",
        "import matplotlib as mpl\n",
        "\n",
        "def nd(arr):\n",
        "  return np.asarray(arr).reshape(-1)\n",
        "\n",
        "def yex(ax):\n",
        "    lims = [\n",
        "        np.min([ax.get_xlim(), ax.get_ylim()]),  # min of both axes\n",
        "        np.max([ax.get_xlim(), ax.get_ylim()]),  # max of both axes\n",
        "    ]\n",
        "    \n",
        "    # now plot both limits against eachother\n",
        "    ax.plot(lims, lims, 'k-', alpha=0.75, zorder=0)\n",
        "    ax.set_aspect('equal')\n",
        "    ax.set_xlim(lims)\n",
        "    ax.set_ylim(lims)\n",
        "    return ax\n",
        "\n",
        "fsize=20\n",
        "\n",
        "plt.rcParams.update({'font.size': fsize})\n",
        "%config InlineBackend.figure_format = 'retina'"
      ],
      "execution_count": 6,
      "outputs": []
    },
    {
      "cell_type": "code",
      "metadata": {
        "id": "UMsYtSCMIrpO",
        "colab_type": "code",
        "colab": {}
      },
      "source": [
        "df = pd.read_csv(\"data.csv\")\n",
        "df.index = df.institution.values\n",
        "top_states = df.groupby(\"state\").count().institution.sort_values(ascending=False).head(5).index.values\n"
      ],
      "execution_count": 7,
      "outputs": []
    },
    {
      "cell_type": "code",
      "metadata": {
        "id": "07CIHTkx9JWa",
        "colab_type": "code",
        "colab": {
          "base_uri": "https://localhost:8080/",
          "height": 35
        },
        "outputId": "6f6e7b98-831c-4d2c-9a60-f13ad88a2223"
      },
      "source": [
        "top_states"
      ],
      "execution_count": 8,
      "outputs": [
        {
          "output_type": "execute_result",
          "data": {
            "text/plain": [
              "array(['CA', 'NY', 'PA', 'TX', 'MA'], dtype=object)"
            ]
          },
          "metadata": {
            "tags": []
          },
          "execution_count": 8
        }
      ]
    },
    {
      "cell_type": "markdown",
      "metadata": {
        "id": "65Ra6X-AaY1v",
        "colab_type": "text"
      },
      "source": [
        "# Basic stats"
      ]
    },
    {
      "cell_type": "code",
      "metadata": {
        "id": "4qWCc6cLMedc",
        "colab_type": "code",
        "colab": {
          "base_uri": "https://localhost:8080/",
          "height": 345
        },
        "outputId": "3e043f81-ae5e-4735-effd-68174f72e206"
      },
      "source": [
        "df.groupby([\"school_type\", \"test_initial\", \"test_recurring\"])[\"testing\"].count().sort_values()"
      ],
      "execution_count": 9,
      "outputs": [
        {
          "output_type": "execute_result",
          "data": {
            "text/plain": [
              "school_type  test_initial  test_recurring\n",
              "Public       Unknown       TRUE                1\n",
              "Private      Unknown       TRUE                2\n",
              "             FALSE         Unknown             3\n",
              "             Unknown       FALSE               3\n",
              "Public       FALSE         Unknown             4\n",
              "Private      FALSE         TRUE                5\n",
              "Public       TRUE          Unknown             5\n",
              "             FALSE         TRUE                5\n",
              "             TRUE          FALSE              11\n",
              "Private      TRUE          Unknown            14\n",
              "                           FALSE              18\n",
              "Public       TRUE          TRUE               20\n",
              "             Unknown       Unknown            21\n",
              "Private      Unknown       Unknown            26\n",
              "             TRUE          TRUE               66\n",
              "             FALSE         FALSE             130\n",
              "Public       FALSE         FALSE             167\n",
              "Name: testing, dtype: int64"
            ]
          },
          "metadata": {
            "tags": []
          },
          "execution_count": 9
        }
      ]
    },
    {
      "cell_type": "code",
      "metadata": {
        "id": "QZeAEzr7KWe3",
        "colab_type": "code",
        "colab": {
          "base_uri": "https://localhost:8080/",
          "height": 407
        },
        "outputId": "1d666e49-3244-4159-f010-1c517ab4ffde"
      },
      "source": [
        "pd.DataFrame(df.test_vendor.value_counts())"
      ],
      "execution_count": 10,
      "outputs": [
        {
          "output_type": "execute_result",
          "data": {
            "text/html": [
              "<div>\n",
              "<style scoped>\n",
              "    .dataframe tbody tr th:only-of-type {\n",
              "        vertical-align: middle;\n",
              "    }\n",
              "\n",
              "    .dataframe tbody tr th {\n",
              "        vertical-align: top;\n",
              "    }\n",
              "\n",
              "    .dataframe thead th {\n",
              "        text-align: right;\n",
              "    }\n",
              "</style>\n",
              "<table border=\"1\" class=\"dataframe\">\n",
              "  <thead>\n",
              "    <tr style=\"text-align: right;\">\n",
              "      <th></th>\n",
              "      <th>test_vendor</th>\n",
              "    </tr>\n",
              "  </thead>\n",
              "  <tbody>\n",
              "    <tr>\n",
              "      <th>Broad Institute</th>\n",
              "      <td>20</td>\n",
              "    </tr>\n",
              "    <tr>\n",
              "      <th>Student Health</th>\n",
              "      <td>5</td>\n",
              "    </tr>\n",
              "    <tr>\n",
              "      <th>Quest</th>\n",
              "      <td>4</td>\n",
              "    </tr>\n",
              "    <tr>\n",
              "      <th>Vault Health</th>\n",
              "      <td>3</td>\n",
              "    </tr>\n",
              "    <tr>\n",
              "      <th>Student Health Services</th>\n",
              "      <td>2</td>\n",
              "    </tr>\n",
              "    <tr>\n",
              "      <th>...</th>\n",
              "      <td>...</td>\n",
              "    </tr>\n",
              "    <tr>\n",
              "      <th>Local health authorities</th>\n",
              "      <td>1</td>\n",
              "    </tr>\n",
              "    <tr>\n",
              "      <th>Miami-Dade County, the Florida Department of Health</th>\n",
              "      <td>1</td>\n",
              "    </tr>\n",
              "    <tr>\n",
              "      <th>University of Alabama at Birmingham</th>\n",
              "      <td>1</td>\n",
              "    </tr>\n",
              "    <tr>\n",
              "      <th>Carilion Clinic</th>\n",
              "      <td>1</td>\n",
              "    </tr>\n",
              "    <tr>\n",
              "      <th>Orig3n</th>\n",
              "      <td>1</td>\n",
              "    </tr>\n",
              "  </tbody>\n",
              "</table>\n",
              "<p>104 rows × 1 columns</p>\n",
              "</div>"
            ],
            "text/plain": [
              "                                                    test_vendor\n",
              "Broad Institute                                              20\n",
              "Student Health                                                5\n",
              "Quest                                                         4\n",
              "Vault Health                                                  3\n",
              "Student Health Services                                       2\n",
              "...                                                         ...\n",
              "Local health authorities                                      1\n",
              "Miami-Dade County, the Florida Department of He...            1\n",
              "University of Alabama at Birmingham                           1\n",
              "Carilion Clinic                                               1\n",
              "Orig3n                                                        1\n",
              "\n",
              "[104 rows x 1 columns]"
            ]
          },
          "metadata": {
            "tags": []
          },
          "execution_count": 10
        }
      ]
    },
    {
      "cell_type": "code",
      "metadata": {
        "id": "QOiFsHd9V0be",
        "colab_type": "code",
        "colab": {
          "base_uri": "https://localhost:8080/",
          "height": 168
        },
        "outputId": "16df1258-011b-400d-c93b-f2bceaa22237"
      },
      "source": [
        "# confusion matrix, testing initial vs testing recurring\n",
        "v = df.groupby(['test_initial', 'test_recurring']).size().unstack(fill_value=0).sort_values(by=\"FALSE\", ascending=False)\n",
        "v/v.values.sum()*100"
      ],
      "execution_count": 11,
      "outputs": [
        {
          "output_type": "execute_result",
          "data": {
            "text/html": [
              "<div>\n",
              "<style scoped>\n",
              "    .dataframe tbody tr th:only-of-type {\n",
              "        vertical-align: middle;\n",
              "    }\n",
              "\n",
              "    .dataframe tbody tr th {\n",
              "        vertical-align: top;\n",
              "    }\n",
              "\n",
              "    .dataframe thead th {\n",
              "        text-align: right;\n",
              "    }\n",
              "</style>\n",
              "<table border=\"1\" class=\"dataframe\">\n",
              "  <thead>\n",
              "    <tr style=\"text-align: right;\">\n",
              "      <th>test_recurring</th>\n",
              "      <th>FALSE</th>\n",
              "      <th>TRUE</th>\n",
              "      <th>Unknown</th>\n",
              "    </tr>\n",
              "    <tr>\n",
              "      <th>test_initial</th>\n",
              "      <th></th>\n",
              "      <th></th>\n",
              "      <th></th>\n",
              "    </tr>\n",
              "  </thead>\n",
              "  <tbody>\n",
              "    <tr>\n",
              "      <th>FALSE</th>\n",
              "      <td>59.281437</td>\n",
              "      <td>1.996008</td>\n",
              "      <td>1.397206</td>\n",
              "    </tr>\n",
              "    <tr>\n",
              "      <th>TRUE</th>\n",
              "      <td>5.788423</td>\n",
              "      <td>17.165669</td>\n",
              "      <td>3.792415</td>\n",
              "    </tr>\n",
              "    <tr>\n",
              "      <th>Unknown</th>\n",
              "      <td>0.598802</td>\n",
              "      <td>0.598802</td>\n",
              "      <td>9.381238</td>\n",
              "    </tr>\n",
              "  </tbody>\n",
              "</table>\n",
              "</div>"
            ],
            "text/plain": [
              "test_recurring      FALSE       TRUE   Unknown\n",
              "test_initial                                  \n",
              "FALSE           59.281437   1.996008  1.397206\n",
              "TRUE             5.788423  17.165669  3.792415\n",
              "Unknown          0.598802   0.598802  9.381238"
            ]
          },
          "metadata": {
            "tags": []
          },
          "execution_count": 11
        }
      ]
    },
    {
      "cell_type": "code",
      "metadata": {
        "id": "Unzd7tKCZUm8",
        "colab_type": "code",
        "colab": {
          "base_uri": "https://localhost:8080/",
          "height": 138
        },
        "outputId": "873c67fb-fbaf-41e5-f177-a7b25c40de7a"
      },
      "source": [
        "# Testing based on school type\n",
        "v = df.groupby(['school_type', 'testing']).size().unstack(fill_value=0).sort_values(by=\"FALSE\", ascending=False)\n",
        "v/v.values.sum(axis=1)[:,None]*100"
      ],
      "execution_count": 12,
      "outputs": [
        {
          "output_type": "execute_result",
          "data": {
            "text/html": [
              "<div>\n",
              "<style scoped>\n",
              "    .dataframe tbody tr th:only-of-type {\n",
              "        vertical-align: middle;\n",
              "    }\n",
              "\n",
              "    .dataframe tbody tr th {\n",
              "        vertical-align: top;\n",
              "    }\n",
              "\n",
              "    .dataframe thead th {\n",
              "        text-align: right;\n",
              "    }\n",
              "</style>\n",
              "<table border=\"1\" class=\"dataframe\">\n",
              "  <thead>\n",
              "    <tr style=\"text-align: right;\">\n",
              "      <th>testing</th>\n",
              "      <th>FALSE</th>\n",
              "      <th>TRUE</th>\n",
              "      <th>Unknown</th>\n",
              "    </tr>\n",
              "    <tr>\n",
              "      <th>school_type</th>\n",
              "      <th></th>\n",
              "      <th></th>\n",
              "      <th></th>\n",
              "    </tr>\n",
              "  </thead>\n",
              "  <tbody>\n",
              "    <tr>\n",
              "      <th>Public</th>\n",
              "      <td>42.796610</td>\n",
              "      <td>51.271186</td>\n",
              "      <td>5.932203</td>\n",
              "    </tr>\n",
              "    <tr>\n",
              "      <th>Private</th>\n",
              "      <td>32.209738</td>\n",
              "      <td>56.554307</td>\n",
              "      <td>11.235955</td>\n",
              "    </tr>\n",
              "  </tbody>\n",
              "</table>\n",
              "</div>"
            ],
            "text/plain": [
              "testing          FALSE       TRUE    Unknown\n",
              "school_type                                 \n",
              "Public       42.796610  51.271186   5.932203\n",
              "Private      32.209738  56.554307  11.235955"
            ]
          },
          "metadata": {
            "tags": []
          },
          "execution_count": 12
        }
      ]
    },
    {
      "cell_type": "code",
      "metadata": {
        "id": "XkGBeOJjZ8xu",
        "colab_type": "code",
        "colab": {
          "base_uri": "https://localhost:8080/",
          "height": 258
        },
        "outputId": "5b6a8e76-4560-483a-c325-0e0577d240b9"
      },
      "source": [
        "v = df.groupby(['rtc_model', 'testing']).size().unstack(fill_value=0).sort_values(by=\"FALSE\", ascending=False)\n",
        "\n",
        "v/v.values.sum(axis=1)[:,None]*100"
      ],
      "execution_count": 13,
      "outputs": [
        {
          "output_type": "execute_result",
          "data": {
            "text/html": [
              "<div>\n",
              "<style scoped>\n",
              "    .dataframe tbody tr th:only-of-type {\n",
              "        vertical-align: middle;\n",
              "    }\n",
              "\n",
              "    .dataframe tbody tr th {\n",
              "        vertical-align: top;\n",
              "    }\n",
              "\n",
              "    .dataframe thead th {\n",
              "        text-align: right;\n",
              "    }\n",
              "</style>\n",
              "<table border=\"1\" class=\"dataframe\">\n",
              "  <thead>\n",
              "    <tr style=\"text-align: right;\">\n",
              "      <th>testing</th>\n",
              "      <th>FALSE</th>\n",
              "      <th>TRUE</th>\n",
              "      <th>Unknown</th>\n",
              "    </tr>\n",
              "    <tr>\n",
              "      <th>rtc_model</th>\n",
              "      <th></th>\n",
              "      <th></th>\n",
              "      <th></th>\n",
              "    </tr>\n",
              "  </thead>\n",
              "  <tbody>\n",
              "    <tr>\n",
              "      <th>Planning for in-person</th>\n",
              "      <td>44.852941</td>\n",
              "      <td>47.794118</td>\n",
              "      <td>7.352941</td>\n",
              "    </tr>\n",
              "    <tr>\n",
              "      <th>Proposing a hybrid model</th>\n",
              "      <td>23.497268</td>\n",
              "      <td>67.213115</td>\n",
              "      <td>9.289617</td>\n",
              "    </tr>\n",
              "    <tr>\n",
              "      <th>Planning for online</th>\n",
              "      <td>52.500000</td>\n",
              "      <td>32.500000</td>\n",
              "      <td>15.000000</td>\n",
              "    </tr>\n",
              "    <tr>\n",
              "      <th>Considering a range of scenarios</th>\n",
              "      <td>25.000000</td>\n",
              "      <td>50.000000</td>\n",
              "      <td>25.000000</td>\n",
              "    </tr>\n",
              "    <tr>\n",
              "      <th>All classes online, but many students will live on campus</th>\n",
              "      <td>0.000000</td>\n",
              "      <td>100.000000</td>\n",
              "      <td>0.000000</td>\n",
              "    </tr>\n",
              "    <tr>\n",
              "      <th>Proposing a hybrid model (all students on campus)</th>\n",
              "      <td>0.000000</td>\n",
              "      <td>100.000000</td>\n",
              "      <td>0.000000</td>\n",
              "    </tr>\n",
              "  </tbody>\n",
              "</table>\n",
              "</div>"
            ],
            "text/plain": [
              "testing                                                 FALSE  ...    Unknown\n",
              "rtc_model                                                      ...           \n",
              "Planning for in-person                              44.852941  ...   7.352941\n",
              "Proposing a hybrid model                            23.497268  ...   9.289617\n",
              "Planning for online                                 52.500000  ...  15.000000\n",
              "Considering a range of scenarios                    25.000000  ...  25.000000\n",
              "All classes online, but many students will live...   0.000000  ...   0.000000\n",
              "Proposing a hybrid model (all students on campus)    0.000000  ...   0.000000\n",
              "\n",
              "[6 rows x 3 columns]"
            ]
          },
          "metadata": {
            "tags": []
          },
          "execution_count": 13
        }
      ]
    },
    {
      "cell_type": "code",
      "metadata": {
        "id": "6fC_-X7DaPT0",
        "colab_type": "code",
        "colab": {
          "base_uri": "https://localhost:8080/",
          "height": 462
        },
        "outputId": "98be33c3-bd37-46ff-cf94-bfbeecef499f"
      },
      "source": [
        "fig, ax = plt.subplots(figsize=(14,7))\n",
        "x = df[df.test_freq.notna()].query(\"test_freq>0\").test_freq.values\n",
        "\n",
        "mean = x.mean()\n",
        "median = np.median(x)\n",
        "ax.hist(x, color=\"k\")\n",
        "ax.axvline(mean, label=f\"mean: {mean:,.2f}\", color=\"green\", linestyle=\"--\")\n",
        "ax.axvline(median, label=f\"median: {median:,.2f}\", color=\"red\", linestyle=\"--\")\n",
        "kwd = {\n",
        "    \"xlabel\": \"Testing frequency\",\n",
        "    \"ylabel\": \"# Universities\"\n",
        "}\n",
        "ax.set(**kwd)\n",
        "ax.legend()\n",
        "\n",
        "fig.show()"
      ],
      "execution_count": 14,
      "outputs": [
        {
          "output_type": "display_data",
          "data": {
            "image/png": "[encoded data removed]",
            "text/plain": [
              "<Figure size 1008x504 with 1 Axes>"
            ]
          },
          "metadata": {
            "tags": [],
            "image/png": {
              "width": 852,
              "height": 445
            },
            "needs_background": "light"
          }
        }
      ]
    },
    {
      "cell_type": "markdown",
      "metadata": {
        "id": "xOBvfiGrab8V",
        "colab_type": "text"
      },
      "source": [
        "# Top 5 states by number of universities"
      ]
    },
    {
      "cell_type": "code",
      "metadata": {
        "id": "7LYymExT-2qm",
        "colab_type": "code",
        "colab": {
          "base_uri": "https://localhost:8080/",
          "height": 636
        },
        "outputId": "1e64d035-e1ee-475b-9ea2-606819463de0"
      },
      "source": [
        "v = df.groupby(['state', 'test_initial']).size().unstack(fill_value=0).sort_values(by=\"TRUE\", ascending=False)\n",
        "vp = v/v.values.sum(axis=1)[:,None]*100\n",
        "\n",
        "fig, ax = plt.subplots(figsize=(15,10))\n",
        "\n",
        "vp  = vp.loc[top_states].sort_values(by=\"TRUE\", ascending=False)\n",
        "ind = np.arange(vp.shape[0])    # the x locations for the groups\n",
        "labels = vp.index.values\n",
        "\n",
        "\n",
        "x = vp.TRUE.values\n",
        "y = vp.FALSE.values\n",
        "z = vp.Unknown.values\n",
        "width = 0.5     # the width of the bars: can also be len(x) sequence\n",
        "\n",
        "ax.bar(ind, x, width,label=\"True\", color=\"green\")\n",
        "ax.bar(ind, y, width, bottom=x, label=\"False\", color=\"red\")\n",
        "ax.bar(ind, z, width, bottom=x+y, label=\"Unknown\", color=\"black\")\n",
        "\n",
        "kwd = {\n",
        "    \"xticks\" : ind,\n",
        "    \"xticklabels\": labels,\n",
        "    \"xlabel\": \"State\",\n",
        "    \"ylabel\": \"% Universities testing initial\"\n",
        "}\n",
        "ax.set(**kwd)\n",
        "ax.set_xticklabels(labels, rotation=90)\n",
        "ax.legend()\n",
        "\n",
        "\n",
        "fig.show()"
      ],
      "execution_count": 15,
      "outputs": [
        {
          "output_type": "display_data",
          "data": {
            "image/png": "[encoded data removed]",
            "text/plain": [
              "<Figure size 1080x720 with 1 Axes>"
            ]
          },
          "metadata": {
            "tags": [],
            "image/png": {
              "width": 920,
              "height": 619
            },
            "needs_background": "light"
          }
        }
      ]
    },
    {
      "cell_type": "code",
      "metadata": {
        "id": "QH9e8N3vZQ-e",
        "colab_type": "code",
        "colab": {
          "base_uri": "https://localhost:8080/",
          "height": 636
        },
        "outputId": "1e34b96e-08b8-4bf5-812d-8f36ad243a73"
      },
      "source": [
        "v = df.groupby(['state', 'test_recurring']).size().unstack(fill_value=0).sort_values(by=\"TRUE\", ascending=False)\n",
        "vp = v/v.values.sum(axis=1)[:,None]*100\n",
        "\n",
        "fig, ax = plt.subplots(figsize=(15,10))\n",
        "\n",
        "vp  = vp.loc[top_states].sort_values(by=\"TRUE\", ascending=False)\n",
        "ind = np.arange(vp.shape[0])    # the x locations for the groups\n",
        "labels = vp.index.values\n",
        "\n",
        "\n",
        "x = vp.TRUE.values\n",
        "y = vp.FALSE.values\n",
        "z = vp.Unknown.values\n",
        "\n",
        "width = 0.5     # the width of the bars: can also be len(x) sequence\n",
        "\n",
        "ax.bar(ind, x, width,label=\"True\", color=\"green\")\n",
        "ax.bar(ind, y, width, bottom=x, label=\"False\", color=\"red\")\n",
        "ax.bar(ind, z, width, bottom=x+y, label=\"Unknown\", color=\"black\")\n",
        "\n",
        "kwd = {\n",
        "    \"xticks\" : ind,\n",
        "    \"xticklabels\": labels,\n",
        "    \"xlabel\": \"State\",\n",
        "    \"ylabel\": \"% Universities testing recurrently\"\n",
        "}\n",
        "ax.set(**kwd)\n",
        "ax.set_xticklabels(labels, rotation=90)\n",
        "ax.legend()\n",
        "\n",
        "\n",
        "fig.show()"
      ],
      "execution_count": 16,
      "outputs": [
        {
          "output_type": "display_data",
          "data": {
            "image/png": "[encoded data removed]",
            "text/plain": [
              "<Figure size 1080x720 with 1 Axes>"
            ]
          },
          "metadata": {
            "tags": [],
            "image/png": {
              "width": 920,
              "height": 619
            },
            "needs_background": "light"
          }
        }
      ]
    },
    {
      "cell_type": "code",
      "metadata": {
        "id": "QSkMl2hOZ90G",
        "colab_type": "code",
        "colab": {
          "base_uri": "https://localhost:8080/",
          "height": 464
        },
        "outputId": "594b82f6-a6f0-4888-b0c6-54239ed04c55"
      },
      "source": [
        "v = df.groupby(['state', 'test_initial']).size().unstack(fill_value=0).sort_values(by=\"TRUE\", ascending=False)\n",
        "initial = v/v.values.sum(axis=1)[:,None]*100\n",
        "\n",
        "v = df.groupby(['state', 'test_recurring']).size().unstack(fill_value=0).sort_values(by=\"TRUE\", ascending=False)\n",
        "recurrent = v/v.values.sum(axis=1)[:,None]*100\n",
        "\n",
        "initial = initial.loc[top_states]\n",
        "recurrent = recurrent.loc[top_states]\n",
        "\n",
        "fig, ax = plt.subplots(figsize=(7,7))\n",
        "\n",
        "x = initial.TRUE.values\n",
        "y = recurrent.TRUE.values\n",
        "\n",
        "ax.scatter(x, y, s=100, color=\"k\")\n",
        "yex(ax)\n",
        "for (xx, yy, txt) in zip(x, y, top_states):\n",
        "  ax.annotate(txt, (xx, yy))\n",
        "\n",
        "kwd = {\n",
        "    \"xlabel\": \"% of universities testing initially\",\n",
        "    \"ylabel\": \"% of universities testing recurrently\"\n",
        "}\n",
        "ax.set(**kwd)\n",
        "\n",
        "fig.show()"
      ],
      "execution_count": 17,
      "outputs": [
        {
          "output_type": "display_data",
          "data": {
            "image/png": "[encoded data removed]",
            "text/plain": [
              "<Figure size 504x504 with 1 Axes>"
            ]
          },
          "metadata": {
            "tags": [],
            "image/png": {
              "width": 465,
              "height": 447
            },
            "needs_background": "light"
          }
        }
      ]
    },
    {
      "cell_type": "code",
      "metadata": {
        "id": "zA7gzezlcexX",
        "colab_type": "code",
        "colab": {}
      },
      "source": [
        ""
      ],
      "execution_count": 17,
      "outputs": []
    },
    {
      "cell_type": "code",
      "metadata": {
        "id": "-abES8gou31v",
        "colab_type": "code",
        "colab": {
          "base_uri": "https://localhost:8080/",
          "height": 462
        },
        "outputId": "db52a5b8-684c-406b-899b-dba298186ab1"
      },
      "source": [
        "# all states\n",
        "v = df.groupby(['state', 'test_initial']).size().unstack(fill_value=0)\n",
        "initial = v/v.values.sum(axis=1)[:,None]*100\n",
        "\n",
        "v = df.groupby(['state', 'test_recurring']).size().unstack(fill_value=0)\n",
        "recurrent = v/v.values.sum(axis=1)[:,None]*100\n",
        "\n",
        "fig, ax = plt.subplots(figsize=(7,7))\n",
        "\n",
        "\n",
        "x = initial.TRUE.values\n",
        "y = recurrent.TRUE.values\n",
        "\n",
        "ax.scatter(x, y)\n",
        "yex(ax)\n",
        "\n",
        "kwd = {\n",
        "    \"xlabel\": \"% of universities testing initially\",\n",
        "    \"ylabel\": \"% of universities testing recurrently\"\n",
        "}\n",
        "ax.set(**kwd)\n",
        "for (xx, yy, txt) in zip(x, y, initial.index.values):\n",
        "  ax.annotate(txt, (xx, yy))\n",
        "fig.show()"
      ],
      "execution_count": 18,
      "outputs": [
        {
          "output_type": "display_data",
          "data": {
            "image/png": "[encoded data removed]",
            "text/plain": [
              "<Figure size 504x504 with 1 Axes>"
            ]
          },
          "metadata": {
            "tags": [],
            "image/png": {
              "width": 476,
              "height": 445
            },
            "needs_background": "light"
          }
        }
      ]
    },
    {
      "cell_type": "markdown",
      "metadata": {
        "id": "NmXtwnAIazCP",
        "colab_type": "text"
      },
      "source": [
        "# Positivity rate per state"
      ]
    },
    {
      "cell_type": "code",
      "metadata": {
        "id": "sJ2lPZMZ6zxu",
        "colab_type": "code",
        "colab": {
          "base_uri": "https://localhost:8080/",
          "height": 227
        },
        "outputId": "729eef72-582d-49ed-85e7-5b07d829e573"
      },
      "source": [
        "!wget https://covidtracking.com/api/v1/states/current.csv -O daily.csv"
      ],
      "execution_count": 19,
      "outputs": [
        {
          "output_type": "stream",
          "text": [
            "--2020-08-03 18:40:04--  https://covidtracking.com/api/v1/states/current.csv\n",
            "Resolving covidtracking.com (covidtracking.com)... 104.248.78.24, 167.172.221.254, 2604:a880:2:d0::ddf:c001, ...\n",
            "Connecting to covidtracking.com (covidtracking.com)|104.248.78.24|:443... connected.\n",
            "HTTP request sent, awaiting response... 200 OK\n",
            "Length: 13910 (14K) [text/csv]\n",
            "Saving to: ‘daily.csv’\n",
            "\n",
            "\rdaily.csv             0%[                    ]       0  --.-KB/s               \rdaily.csv           100%[===================>]  13.58K  --.-KB/s    in 0.003s  \n",
            "\n",
            "2020-08-03 18:40:04 (4.63 MB/s) - ‘daily.csv’ saved [13910/13910]\n",
            "\n"
          ],
          "name": "stdout"
        }
      ]
    },
    {
      "cell_type": "code",
      "metadata": {
        "id": "w_je81Kknx7Q",
        "colab_type": "code",
        "colab": {
          "base_uri": "https://localhost:8080/",
          "height": 155
        },
        "outputId": "dc4abd0f-15ec-4137-b9d0-e85630784184"
      },
      "source": [
        "!git clone https://github.com/CSSEGISandData/COVID-19.git"
      ],
      "execution_count": 24,
      "outputs": [
        {
          "output_type": "stream",
          "text": [
            "Cloning into 'COVID-19'...\n",
            "remote: Enumerating objects: 28, done.\u001b[K\n",
            "remote: Counting objects:   3% (1/28)\u001b[K\rremote: Counting objects:   7% (2/28)\u001b[K\rremote: Counting objects:  10% (3/28)\u001b[K\rremote: Counting objects:  14% (4/28)\u001b[K\rremote: Counting objects:  17% (5/28)\u001b[K\rremote: Counting objects:  21% (6/28)\u001b[K\rremote: Counting objects:  25% (7/28)\u001b[K\rremote: Counting objects:  28% (8/28)\u001b[K\rremote: Counting objects:  32% (9/28)\u001b[K\rremote: Counting objects:  35% (10/28)\u001b[K\rremote: Counting objects:  39% (11/28)\u001b[K\rremote: Counting objects:  42% (12/28)\u001b[K\rremote: Counting objects:  46% (13/28)\u001b[K\rremote: Counting objects:  50% (14/28)\u001b[K\rremote: Counting objects:  53% (15/28)\u001b[K\rremote: Counting objects:  57% (16/28)\u001b[K\rremote: Counting objects:  60% (17/28)\u001b[K\rremote: Counting objects:  64% (18/28)\u001b[K\rremote: Counting objects:  67% (19/28)\u001b[K\rremote: Counting objects:  71% (20/28)\u001b[K\rremote: Counting objects:  75% (21/28)\u001b[K\rremote: Counting objects:  78% (22/28)\u001b[K\rremote: Counting objects:  82% (23/28)\u001b[K\rremote: Counting objects:  85% (24/28)\u001b[K\rremote: Counting objects:  89% (25/28)\u001b[K\rremote: Counting objects:  92% (26/28)\u001b[K\rremote: Counting objects:  96% (27/28)\u001b[K\rremote: Counting objects: 100% (28/28)\u001b[K\rremote: Counting objects: 100% (28/28), done.\n",
            "remote: Compressing objects: 100% (15/15), done.\u001b[K\n",
            "remote: Total 43765 (delta 15), reused 22 (delta 13), pack-reused 43737\u001b[K\n",
            "Receiving objects: 100% (43765/43765), 331.17 MiB | 29.28 MiB/s, done.\n",
            "Resolving deltas: 100% (27072/27072), done.\n",
            "Checking out files: 100% (536/536), done.\n"
          ],
          "name": "stdout"
        }
      ]
    },
    {
      "cell_type": "code",
      "metadata": {
        "id": "AG3jjqKSvekX",
        "colab_type": "code",
        "colab": {}
      },
      "source": [
        "daily = pd.read_csv(\"COVID-19/csse_covid_19_data/csse_covid_19_daily_reports_us/08-02-2020.csv\")"
      ],
      "execution_count": 25,
      "outputs": []
    },
    {
      "cell_type": "code",
      "metadata": {
        "id": "2mG21Y5jZCt_",
        "colab_type": "code",
        "colab": {}
      },
      "source": [
        "s2a = {\n",
        "    \"Alabama\" : \"AL\",\n",
        "\"Alaska\" : \"AK\",\n",
        "\"Arizona\" : \"AZ\",\n",
        "\"Arkansas\" : \"AR\",\n",
        "\"California\" : \"CA\",\n",
        "\"Colorado\" : \"CO\",\n",
        "\"Connecticut\" : \"CT\",\n",
        "\"Delaware\" : \"DE\",\n",
        "\"Florida\" : \"FL\",\n",
        "\"Georgia\" : \"GA\",\n",
        "\"Hawaii\" : \"HI\",\n",
        "\"Idaho\" : \"ID\",\n",
        "\"Illinois\" : \"IL\",\n",
        "\"Indiana\" : \"IN\",\n",
        "\"Iowa\" : \"IA\",\n",
        "\"Kansas\" : \"KS\",\n",
        "\"Kentucky\" : \"KY\",\n",
        "\"Louisiana\" : \"LA\",\n",
        "\"Maine\" : \"ME\",\n",
        "\"Maryland\" : \"MD\",\n",
        "\"Massachusetts\" : \"MA\",\n",
        "\"Michigan\" : \"MI\",\n",
        "\"Minnesota\" : \"MN\",\n",
        "\"Mississippi\" : \"MS\",\n",
        "\"Missouri\" : \"MO\",\n",
        "\"Montana\" : \"MT\",\n",
        "\"Nebraska\" : \"NE\",\n",
        "\"Nevada\" : \"NV\",\n",
        "\"New Hampshire\" : \"NH\",\n",
        "\"New Jersey\" : \"NJ\",\n",
        "\"New Mexico\" : \"NM\",\n",
        "\"New York\" : \"NY\",\n",
        "\"North Carolina\" : \"NC\",\n",
        "\"North Dakota\" : \"ND\",\n",
        "\"Ohio\" : \"OH\",\n",
        "\"Oklahoma\" : \"OK\",\n",
        "\"Oregon\" : \"OR\",\n",
        "\"Pennsylvania\" : \"PA\",\n",
        "\"Rhode Island\" : \"RI\",\n",
        "\"South Carolina\" : \"SC\",\n",
        "\"South Dakota\" : \"SD\",\n",
        "\"Tennessee\" : \"TN\",\n",
        "\"Texas\" : \"TX\",\n",
        "\"Utah\" : \"UT\",\n",
        "\"Vermont\" : \"VT\",\n",
        "\"Virginia\" : \"VA\",\n",
        "\"Washington\" : \"WA\",\n",
        "\"West Virginia\" : \"WV\",\n",
        "\"Wisconsin\" : \"WI\",\n",
        "\"Wyoming\" : \"WY\"\n",
        "}"
      ],
      "execution_count": 31,
      "outputs": []
    },
    {
      "cell_type": "code",
      "metadata": {
        "id": "0jKaT3vPpahT",
        "colab_type": "code",
        "colab": {}
      },
      "source": [
        "daily.index = daily.Province_State.apply(lambda x: s2a.get(x, x))"
      ],
      "execution_count": 34,
      "outputs": []
    },
    {
      "cell_type": "code",
      "metadata": {
        "id": "bsuwQ8sPpxAA",
        "colab_type": "code",
        "colab": {
          "base_uri": "https://localhost:8080/",
          "height": 335
        },
        "outputId": "d3825316-2e65-4ad8-fd6e-9b3e0e2bf9fc"
      },
      "source": [
        "daily.loc[top_states]"
      ],
      "execution_count": 36,
      "outputs": [
        {
          "output_type": "execute_result",
          "data": {
            "text/html": [
              "<div>\n",
              "<style scoped>\n",
              "    .dataframe tbody tr th:only-of-type {\n",
              "        vertical-align: middle;\n",
              "    }\n",
              "\n",
              "    .dataframe tbody tr th {\n",
              "        vertical-align: top;\n",
              "    }\n",
              "\n",
              "    .dataframe thead th {\n",
              "        text-align: right;\n",
              "    }\n",
              "</style>\n",
              "<table border=\"1\" class=\"dataframe\">\n",
              "  <thead>\n",
              "    <tr style=\"text-align: right;\">\n",
              "      <th></th>\n",
              "      <th>Province_State</th>\n",
              "      <th>Country_Region</th>\n",
              "      <th>Last_Update</th>\n",
              "      <th>Lat</th>\n",
              "      <th>Long_</th>\n",
              "      <th>Confirmed</th>\n",
              "      <th>Deaths</th>\n",
              "      <th>Recovered</th>\n",
              "      <th>Active</th>\n",
              "      <th>FIPS</th>\n",
              "      <th>Incident_Rate</th>\n",
              "      <th>People_Tested</th>\n",
              "      <th>People_Hospitalized</th>\n",
              "      <th>Mortality_Rate</th>\n",
              "      <th>UID</th>\n",
              "      <th>ISO3</th>\n",
              "      <th>Testing_Rate</th>\n",
              "      <th>Hospitalization_Rate</th>\n",
              "    </tr>\n",
              "    <tr>\n",
              "      <th>Province_State</th>\n",
              "      <th></th>\n",
              "      <th></th>\n",
              "      <th></th>\n",
              "      <th></th>\n",
              "      <th></th>\n",
              "      <th></th>\n",
              "      <th></th>\n",
              "      <th></th>\n",
              "      <th></th>\n",
              "      <th></th>\n",
              "      <th></th>\n",
              "      <th></th>\n",
              "      <th></th>\n",
              "      <th></th>\n",
              "      <th></th>\n",
              "      <th></th>\n",
              "      <th></th>\n",
              "      <th></th>\n",
              "    </tr>\n",
              "  </thead>\n",
              "  <tbody>\n",
              "    <tr>\n",
              "      <th>CA</th>\n",
              "      <td>California</td>\n",
              "      <td>US</td>\n",
              "      <td>2020-08-03 04:34:47</td>\n",
              "      <td>36.1162</td>\n",
              "      <td>-119.6816</td>\n",
              "      <td>512175</td>\n",
              "      <td>9396</td>\n",
              "      <td>NaN</td>\n",
              "      <td>502779.0</td>\n",
              "      <td>6</td>\n",
              "      <td>1296.244456</td>\n",
              "      <td>8035975.0</td>\n",
              "      <td>NaN</td>\n",
              "      <td>1.834529</td>\n",
              "      <td>84000006</td>\n",
              "      <td>USA</td>\n",
              "      <td>20337.947070</td>\n",
              "      <td>NaN</td>\n",
              "    </tr>\n",
              "    <tr>\n",
              "      <th>NY</th>\n",
              "      <td>New York</td>\n",
              "      <td>US</td>\n",
              "      <td>2020-08-03 04:34:47</td>\n",
              "      <td>42.1657</td>\n",
              "      <td>-74.9481</td>\n",
              "      <td>416298</td>\n",
              "      <td>32710</td>\n",
              "      <td>73222.0</td>\n",
              "      <td>310366.0</td>\n",
              "      <td>36</td>\n",
              "      <td>2139.957821</td>\n",
              "      <td>6030935.0</td>\n",
              "      <td>89995.0</td>\n",
              "      <td>7.857352</td>\n",
              "      <td>84000036</td>\n",
              "      <td>USA</td>\n",
              "      <td>31001.701951</td>\n",
              "      <td>21.617928</td>\n",
              "    </tr>\n",
              "    <tr>\n",
              "      <th>PA</th>\n",
              "      <td>Pennsylvania</td>\n",
              "      <td>US</td>\n",
              "      <td>2020-08-03 04:34:47</td>\n",
              "      <td>40.5908</td>\n",
              "      <td>-77.2098</td>\n",
              "      <td>118033</td>\n",
              "      <td>7223</td>\n",
              "      <td>86328.0</td>\n",
              "      <td>24482.0</td>\n",
              "      <td>42</td>\n",
              "      <td>921.989544</td>\n",
              "      <td>1244569.0</td>\n",
              "      <td>NaN</td>\n",
              "      <td>6.119475</td>\n",
              "      <td>84000042</td>\n",
              "      <td>USA</td>\n",
              "      <td>9721.684654</td>\n",
              "      <td>NaN</td>\n",
              "    </tr>\n",
              "    <tr>\n",
              "      <th>TX</th>\n",
              "      <td>Texas</td>\n",
              "      <td>US</td>\n",
              "      <td>2020-08-03 04:34:47</td>\n",
              "      <td>31.0545</td>\n",
              "      <td>-97.5635</td>\n",
              "      <td>448145</td>\n",
              "      <td>6878</td>\n",
              "      <td>282604.0</td>\n",
              "      <td>158663.0</td>\n",
              "      <td>48</td>\n",
              "      <td>1545.547107</td>\n",
              "      <td>3747779.0</td>\n",
              "      <td>NaN</td>\n",
              "      <td>1.534771</td>\n",
              "      <td>84000048</td>\n",
              "      <td>USA</td>\n",
              "      <td>12925.211688</td>\n",
              "      <td>NaN</td>\n",
              "    </tr>\n",
              "    <tr>\n",
              "      <th>MA</th>\n",
              "      <td>Massachusetts</td>\n",
              "      <td>US</td>\n",
              "      <td>2020-08-03 04:34:47</td>\n",
              "      <td>42.2302</td>\n",
              "      <td>-71.5301</td>\n",
              "      <td>118458</td>\n",
              "      <td>8638</td>\n",
              "      <td>97595.0</td>\n",
              "      <td>12225.0</td>\n",
              "      <td>25</td>\n",
              "      <td>1718.649959</td>\n",
              "      <td>1214540.0</td>\n",
              "      <td>11936.0</td>\n",
              "      <td>7.292036</td>\n",
              "      <td>84000025</td>\n",
              "      <td>USA</td>\n",
              "      <td>17621.174775</td>\n",
              "      <td>10.076145</td>\n",
              "    </tr>\n",
              "  </tbody>\n",
              "</table>\n",
              "</div>"
            ],
            "text/plain": [
              "               Province_State  ... Hospitalization_Rate\n",
              "Province_State                 ...                     \n",
              "CA                 California  ...                  NaN\n",
              "NY                   New York  ...            21.617928\n",
              "PA               Pennsylvania  ...                  NaN\n",
              "TX                      Texas  ...                  NaN\n",
              "MA              Massachusetts  ...            10.076145\n",
              "\n",
              "[5 rows x 18 columns]"
            ]
          },
          "metadata": {
            "tags": []
          },
          "execution_count": 36
        }
      ]
    },
    {
      "cell_type": "code",
      "metadata": {
        "id": "b1yg1GqCVYlh",
        "colab_type": "code",
        "colab": {
          "base_uri": "https://localhost:8080/",
          "height": 366
        },
        "outputId": "a223f019-2400-461a-bd32-e92a691b535c"
      },
      "source": [
        "fig, ax = plt.subplots(figsize=(5,5))\n",
        "\n",
        "x = daily.loc[top_states].Testing_Rate/100000*1000\n",
        "y = initial.loc[top_states].TRUE.values\n",
        "\n",
        "ax.scatter(x, y)\n",
        "\n",
        "for (xx, yy, txt) in zip(x, y, top_states):\n",
        "  ax.annotate(txt, (xx, yy))\n",
        "\n",
        "kwd = {\n",
        "    \"xlabel\": \"Positivity Rate [%]\",\n",
        "    \"ylabel\": \"% universities testing initially\",\n",
        "    \"ylim\": (0, 100),\n",
        "    \"xlim\": (0, 15)\n",
        "}\n",
        "\n",
        "ax.set(**kwd)\n",
        "fig.show()"
      ],
      "execution_count": 38,
      "outputs": [
        {
          "output_type": "display_data",
          "data": {
            "image/png": "[encoded data removed]",
            "text/plain": [
              "<Figure size 360x360 with 1 Axes>"
            ]
          },
          "metadata": {
            "tags": [],
            "image/png": {
              "width": 5877,
              "height": 349
            },
            "needs_background": "light"
          }
        }
      ]
    },
    {
      "cell_type": "code",
      "metadata": {
        "id": "yUu3s1rAZ6Z3",
        "colab_type": "code",
        "colab": {
          "base_uri": "https://localhost:8080/",
          "height": 384
        },
        "outputId": "e19549df-44bd-4589-8274-cd90cfbc34ee"
      },
      "source": [
        "fig, ax = plt.subplots(figsize=(5,5))\n",
        "x = rate\n",
        "y = recurrent.loc[top_states].TRUE.values\n",
        "ax.scatter(x, y)\n",
        "\n",
        "for (xx, yy, txt) in zip(x, y, top_states):\n",
        "  ax.annotate(txt, (xx, yy))\n",
        "\n",
        "kwd = {\n",
        "    \"xlabel\": \"Positivity Rate [%]\",\n",
        "    \"ylabel\": \"% universities testing recurrently\",\n",
        "    \"ylim\": (0, 100),\n",
        "    \"xlim\": (0, 15)\n",
        "}\n",
        "\n",
        "ax.set(**kwd)\n",
        "fig.show()"
      ],
      "execution_count": 135,
      "outputs": [
        {
          "output_type": "display_data",
          "data": {
            "image/png": "[encoded data removed]",
            "text/plain": [
              "<Figure size 360x360 with 1 Axes>"
            ]
          },
          "metadata": {
            "tags": [],
            "image/png": {
              "width": 375,
              "height": 367
            },
            "needs_background": "light"
          }
        }
      ]
    },
    {
      "cell_type": "markdown",
      "metadata": {
        "id": "wM8Jivo4bLPE",
        "colab_type": "text"
      },
      "source": [
        "# US News top universities"
      ]
    },
    {
      "cell_type": "code",
      "metadata": {
        "id": "KtEpsd7azjQu",
        "colab_type": "code",
        "colab": {}
      },
      "source": [
        "usnr = pd.read_excel(\"http://andyreiter.com/wp-content/uploads/2019/09/US-News-Rankings-Universities-Through-2020.xlsx\", header=1)"
      ],
      "execution_count": 18,
      "outputs": []
    },
    {
      "cell_type": "code",
      "metadata": {
        "id": "6WVkM5ks3DsI",
        "colab_type": "code",
        "colab": {
          "base_uri": "https://localhost:8080/",
          "height": 276
        },
        "outputId": "c6d8a4d9-e8f1-4eb7-e384-eb287fe30a2a"
      },
      "source": [
        "np.setdiff1d(usnr[\"University Name\"], df.institution.values)"
      ],
      "execution_count": 19,
      "outputs": [
        {
          "output_type": "execute_result",
          "data": {
            "text/plain": [
              "array(['College of William and Mary', 'Georgia Institute of Technology',\n",
              "       'Pennsylvania State University-University Park',\n",
              "       'Rutgers University-New Brunswick',\n",
              "       'Texas A&M University-College Station',\n",
              "       'University of California-Berkeley',\n",
              "       'University of California-Davis',\n",
              "       'University of California-Irvine',\n",
              "       'University of California-Los Angeles',\n",
              "       'University of California-San Diego',\n",
              "       'University of California-Santa Barbara', 'University of Georgia',\n",
              "       'University of Illinois-Urbana-Champaign',\n",
              "       'University of Michigan-Ann Arbor',\n",
              "       'University of North Carolina-Chapel Hill',\n",
              "       'University of Texas-Austin', 'University of Wisconsin-Madison'],\n",
              "      dtype=object)"
            ]
          },
          "metadata": {
            "tags": []
          },
          "execution_count": 19
        }
      ]
    },
    {
      "cell_type": "code",
      "metadata": {
        "id": "byVD77nU3NGV",
        "colab_type": "code",
        "colab": {}
      },
      "source": [
        "top_map = {\n",
        "  'College of William and Mary':\"College of William & Mary\", \n",
        "  'Georgia Institute of Technology': \"University System of Georgia — Georgia Institute of Technology\",\n",
        "  'Pennsylvania State University-University Park': \"Pennsylvania State University\",\n",
        "  'Rutgers University-New Brunswick': \"Rutgers University\",\n",
        "  'Texas A&M University-College Station': \"Texas A&M University system — College Station\",\n",
        "  'University of California-Berkeley': \"University of California at Berkeley\",\n",
        "  'University of California-Davis':\"University of California at Davis\",\n",
        "  'University of California-Irvine':\"University of California at Irvine\",\n",
        "  'University of California-Los Angeles': \"University of California at Los Angeles\",\n",
        "  'University of California-San Diego': \"University of California at San Diego\",\n",
        "  'University of California-Santa Barbara': \"University of California at Santa Barbara\", \n",
        "  'University of Georgia': \"University System of Georgia — University of Georgia\",\n",
        "  'University of Illinois-Urbana-Champaign': \"University of Illinois at Urbana-Champaign\",\n",
        "  'University of Michigan-Ann Arbor': \"University of Michigan at Ann Arbor\",\n",
        "  'University of North Carolina-Chapel Hill': \"University of North Carolina at Chapel Hill\",\n",
        "  'University of Texas-Austin':\"University of Texas at Austin\", \n",
        "  'University of Wisconsin-Madison': \"University of Wisconsin at Madison\"\n",
        "}"
      ],
      "execution_count": 20,
      "outputs": []
    },
    {
      "cell_type": "code",
      "metadata": {
        "id": "pZuwxOVJ3diy",
        "colab_type": "code",
        "colab": {}
      },
      "source": [
        "usnr[\"University Name\"] = usnr[\"University Name\"].apply(lambda x: top_map.get(x, x))"
      ],
      "execution_count": 21,
      "outputs": []
    },
    {
      "cell_type": "code",
      "metadata": {
        "id": "QZzEHu-kNYCh",
        "colab_type": "code",
        "colab": {}
      },
      "source": [
        "usnr = usnr[usnr[2020].notna()].sort_values(2020).head(50)"
      ],
      "execution_count": 66,
      "outputs": []
    },
    {
      "cell_type": "code",
      "metadata": {
        "id": "l8NxJlRp5Y-j",
        "colab_type": "code",
        "colab": {}
      },
      "source": [
        "top_uni = df[df.institution.isin(usnr[\"University Name\"].values)]"
      ],
      "execution_count": 67,
      "outputs": []
    },
    {
      "cell_type": "code",
      "metadata": {
        "id": "vktjQdSRN0Jx",
        "colab_type": "code",
        "colab": {
          "base_uri": "https://localhost:8080/",
          "height": 35
        },
        "outputId": "a648df51-77dc-473c-d90e-96c4ee9e0320"
      },
      "source": [
        "top_uni.shape"
      ],
      "execution_count": 69,
      "outputs": [
        {
          "output_type": "execute_result",
          "data": {
            "text/plain": [
              "(50, 14)"
            ]
          },
          "metadata": {
            "tags": []
          },
          "execution_count": 69
        }
      ]
    },
    {
      "cell_type": "code",
      "metadata": {
        "id": "TiUsBBls5kES",
        "colab_type": "code",
        "colab": {
          "base_uri": "https://localhost:8080/",
          "height": 228
        },
        "outputId": "d996e93c-f0fb-4594-d9ff-c6ed88ff3af5"
      },
      "source": [
        "top_uni.groupby([\"rtc_model\", \"testing\"]).size().unstack(fill_value=0)"
      ],
      "execution_count": 70,
      "outputs": [
        {
          "output_type": "execute_result",
          "data": {
            "text/html": [
              "<div>\n",
              "<style scoped>\n",
              "    .dataframe tbody tr th:only-of-type {\n",
              "        vertical-align: middle;\n",
              "    }\n",
              "\n",
              "    .dataframe tbody tr th {\n",
              "        vertical-align: top;\n",
              "    }\n",
              "\n",
              "    .dataframe thead th {\n",
              "        text-align: right;\n",
              "    }\n",
              "</style>\n",
              "<table border=\"1\" class=\"dataframe\">\n",
              "  <thead>\n",
              "    <tr style=\"text-align: right;\">\n",
              "      <th>testing</th>\n",
              "      <th>FALSE</th>\n",
              "      <th>TRUE</th>\n",
              "      <th>Unknown</th>\n",
              "    </tr>\n",
              "    <tr>\n",
              "      <th>rtc_model</th>\n",
              "      <th></th>\n",
              "      <th></th>\n",
              "      <th></th>\n",
              "    </tr>\n",
              "  </thead>\n",
              "  <tbody>\n",
              "    <tr>\n",
              "      <th>All classes online, but many students will live on campus</th>\n",
              "      <td>0</td>\n",
              "      <td>1</td>\n",
              "      <td>0</td>\n",
              "    </tr>\n",
              "    <tr>\n",
              "      <th>Considering a range of scenarios</th>\n",
              "      <td>0</td>\n",
              "      <td>1</td>\n",
              "      <td>0</td>\n",
              "    </tr>\n",
              "    <tr>\n",
              "      <th>Planning for in-person</th>\n",
              "      <td>0</td>\n",
              "      <td>8</td>\n",
              "      <td>0</td>\n",
              "    </tr>\n",
              "    <tr>\n",
              "      <th>Planning for online</th>\n",
              "      <td>0</td>\n",
              "      <td>5</td>\n",
              "      <td>0</td>\n",
              "    </tr>\n",
              "    <tr>\n",
              "      <th>Proposing a hybrid model</th>\n",
              "      <td>1</td>\n",
              "      <td>32</td>\n",
              "      <td>2</td>\n",
              "    </tr>\n",
              "  </tbody>\n",
              "</table>\n",
              "</div>"
            ],
            "text/plain": [
              "testing                                             FALSE  TRUE  Unknown\n",
              "rtc_model                                                               \n",
              "All classes online, but many students will live...      0     1        0\n",
              "Considering a range of scenarios                        0     1        0\n",
              "Planning for in-person                                  0     8        0\n",
              "Planning for online                                     0     5        0\n",
              "Proposing a hybrid model                                1    32        2"
            ]
          },
          "metadata": {
            "tags": []
          },
          "execution_count": 70
        }
      ]
    },
    {
      "cell_type": "code",
      "metadata": {
        "id": "Sq95J2NiN88n",
        "colab_type": "code",
        "colab": {
          "base_uri": "https://localhost:8080/",
          "height": 150
        },
        "outputId": "741ff10a-b172-4e3e-ce65-cfe0adcef995"
      },
      "source": [
        "top_uni.query(\"testing=='FALSE'\")"
      ],
      "execution_count": 73,
      "outputs": [
        {
          "output_type": "execute_result",
          "data": {
            "text/html": [
              "<div>\n",
              "<style scoped>\n",
              "    .dataframe tbody tr th:only-of-type {\n",
              "        vertical-align: middle;\n",
              "    }\n",
              "\n",
              "    .dataframe tbody tr th {\n",
              "        vertical-align: top;\n",
              "    }\n",
              "\n",
              "    .dataframe thead th {\n",
              "        text-align: right;\n",
              "    }\n",
              "</style>\n",
              "<table border=\"1\" class=\"dataframe\">\n",
              "  <thead>\n",
              "    <tr style=\"text-align: right;\">\n",
              "      <th></th>\n",
              "      <th>institution</th>\n",
              "      <th>school_type</th>\n",
              "      <th>state</th>\n",
              "      <th>testing_info_link</th>\n",
              "      <th>rtc_model</th>\n",
              "      <th>last_updated</th>\n",
              "      <th>testing</th>\n",
              "      <th>testing_type</th>\n",
              "      <th>test_initial</th>\n",
              "      <th>test_recurring</th>\n",
              "      <th>test_freq</th>\n",
              "      <th>test_vendor</th>\n",
              "      <th>test_pool</th>\n",
              "      <th>comments</th>\n",
              "    </tr>\n",
              "  </thead>\n",
              "  <tbody>\n",
              "    <tr>\n",
              "      <th>Case Western Reserve University</th>\n",
              "      <td>Case Western Reserve University</td>\n",
              "      <td>Private</td>\n",
              "      <td>OH</td>\n",
              "      <td>https://case.edu/studentlife/healthcounseling/...</td>\n",
              "      <td>Proposing a hybrid model</td>\n",
              "      <td>7/28/2020</td>\n",
              "      <td>FALSE</td>\n",
              "      <td>No voluntary testing</td>\n",
              "      <td>FALSE</td>\n",
              "      <td>FALSE</td>\n",
              "      <td>0.0</td>\n",
              "      <td>NaN</td>\n",
              "      <td>NaN</td>\n",
              "      <td>NaN</td>\n",
              "    </tr>\n",
              "  </tbody>\n",
              "</table>\n",
              "</div>"
            ],
            "text/plain": [
              "                                                     institution  ... comments\n",
              "Case Western Reserve University  Case Western Reserve University  ...      NaN\n",
              "\n",
              "[1 rows x 14 columns]"
            ]
          },
          "metadata": {
            "tags": []
          },
          "execution_count": 73
        }
      ]
    },
    {
      "cell_type": "code",
      "metadata": {
        "id": "-6GdLMQGbfJX",
        "colab_type": "code",
        "colab": {
          "base_uri": "https://localhost:8080/",
          "height": 228
        },
        "outputId": "bf99b3e0-f1ed-42c6-b85e-490cf97843ae"
      },
      "source": [
        "top_uni.groupby([\"rtc_model\", \"test_initial\"]).size().unstack(fill_value=0)"
      ],
      "execution_count": 71,
      "outputs": [
        {
          "output_type": "execute_result",
          "data": {
            "text/html": [
              "<div>\n",
              "<style scoped>\n",
              "    .dataframe tbody tr th:only-of-type {\n",
              "        vertical-align: middle;\n",
              "    }\n",
              "\n",
              "    .dataframe tbody tr th {\n",
              "        vertical-align: top;\n",
              "    }\n",
              "\n",
              "    .dataframe thead th {\n",
              "        text-align: right;\n",
              "    }\n",
              "</style>\n",
              "<table border=\"1\" class=\"dataframe\">\n",
              "  <thead>\n",
              "    <tr style=\"text-align: right;\">\n",
              "      <th>test_initial</th>\n",
              "      <th>FALSE</th>\n",
              "      <th>TRUE</th>\n",
              "      <th>Unknown</th>\n",
              "    </tr>\n",
              "    <tr>\n",
              "      <th>rtc_model</th>\n",
              "      <th></th>\n",
              "      <th></th>\n",
              "      <th></th>\n",
              "    </tr>\n",
              "  </thead>\n",
              "  <tbody>\n",
              "    <tr>\n",
              "      <th>All classes online, but many students will live on campus</th>\n",
              "      <td>0</td>\n",
              "      <td>1</td>\n",
              "      <td>0</td>\n",
              "    </tr>\n",
              "    <tr>\n",
              "      <th>Considering a range of scenarios</th>\n",
              "      <td>0</td>\n",
              "      <td>1</td>\n",
              "      <td>0</td>\n",
              "    </tr>\n",
              "    <tr>\n",
              "      <th>Planning for in-person</th>\n",
              "      <td>2</td>\n",
              "      <td>5</td>\n",
              "      <td>1</td>\n",
              "    </tr>\n",
              "    <tr>\n",
              "      <th>Planning for online</th>\n",
              "      <td>4</td>\n",
              "      <td>1</td>\n",
              "      <td>0</td>\n",
              "    </tr>\n",
              "    <tr>\n",
              "      <th>Proposing a hybrid model</th>\n",
              "      <td>7</td>\n",
              "      <td>25</td>\n",
              "      <td>3</td>\n",
              "    </tr>\n",
              "  </tbody>\n",
              "</table>\n",
              "</div>"
            ],
            "text/plain": [
              "test_initial                                        FALSE  TRUE  Unknown\n",
              "rtc_model                                                               \n",
              "All classes online, but many students will live...      0     1        0\n",
              "Considering a range of scenarios                        0     1        0\n",
              "Planning for in-person                                  2     5        1\n",
              "Planning for online                                     4     1        0\n",
              "Proposing a hybrid model                                7    25        3"
            ]
          },
          "metadata": {
            "tags": []
          },
          "execution_count": 71
        }
      ]
    },
    {
      "cell_type": "code",
      "metadata": {
        "id": "Rb00Up3AOlXM",
        "colab_type": "code",
        "colab": {
          "base_uri": "https://localhost:8080/",
          "height": 138
        },
        "outputId": "330b4839-0955-4ec1-d4b6-9f72704afdc7"
      },
      "source": [
        "top_uni.groupby([\"school_type\", \"test_initial\"]).size().unstack(fill_value=0)"
      ],
      "execution_count": 78,
      "outputs": [
        {
          "output_type": "execute_result",
          "data": {
            "text/html": [
              "<div>\n",
              "<style scoped>\n",
              "    .dataframe tbody tr th:only-of-type {\n",
              "        vertical-align: middle;\n",
              "    }\n",
              "\n",
              "    .dataframe tbody tr th {\n",
              "        vertical-align: top;\n",
              "    }\n",
              "\n",
              "    .dataframe thead th {\n",
              "        text-align: right;\n",
              "    }\n",
              "</style>\n",
              "<table border=\"1\" class=\"dataframe\">\n",
              "  <thead>\n",
              "    <tr style=\"text-align: right;\">\n",
              "      <th>test_initial</th>\n",
              "      <th>FALSE</th>\n",
              "      <th>TRUE</th>\n",
              "      <th>Unknown</th>\n",
              "    </tr>\n",
              "    <tr>\n",
              "      <th>school_type</th>\n",
              "      <th></th>\n",
              "      <th></th>\n",
              "      <th></th>\n",
              "    </tr>\n",
              "  </thead>\n",
              "  <tbody>\n",
              "    <tr>\n",
              "      <th>Private</th>\n",
              "      <td>4</td>\n",
              "      <td>28</td>\n",
              "      <td>3</td>\n",
              "    </tr>\n",
              "    <tr>\n",
              "      <th>Public</th>\n",
              "      <td>9</td>\n",
              "      <td>5</td>\n",
              "      <td>1</td>\n",
              "    </tr>\n",
              "  </tbody>\n",
              "</table>\n",
              "</div>"
            ],
            "text/plain": [
              "test_initial  FALSE  TRUE  Unknown\n",
              "school_type                       \n",
              "Private           4    28        3\n",
              "Public            9     5        1"
            ]
          },
          "metadata": {
            "tags": []
          },
          "execution_count": 78
        }
      ]
    },
    {
      "cell_type": "code",
      "metadata": {
        "id": "_L7gg0J-TRQP",
        "colab_type": "code",
        "colab": {
          "base_uri": "https://localhost:8080/",
          "height": 138
        },
        "outputId": "81c5fb4a-8e9b-4701-b8f2-9e1c43de3f33"
      },
      "source": [
        "top_uni.groupby([\"school_type\", \"test_recurring\"]).size().unstack(fill_value=0)"
      ],
      "execution_count": 96,
      "outputs": [
        {
          "output_type": "execute_result",
          "data": {
            "text/html": [
              "<div>\n",
              "<style scoped>\n",
              "    .dataframe tbody tr th:only-of-type {\n",
              "        vertical-align: middle;\n",
              "    }\n",
              "\n",
              "    .dataframe tbody tr th {\n",
              "        vertical-align: top;\n",
              "    }\n",
              "\n",
              "    .dataframe thead th {\n",
              "        text-align: right;\n",
              "    }\n",
              "</style>\n",
              "<table border=\"1\" class=\"dataframe\">\n",
              "  <thead>\n",
              "    <tr style=\"text-align: right;\">\n",
              "      <th>test_recurring</th>\n",
              "      <th>FALSE</th>\n",
              "      <th>TRUE</th>\n",
              "      <th>Unknown</th>\n",
              "    </tr>\n",
              "    <tr>\n",
              "      <th>school_type</th>\n",
              "      <th></th>\n",
              "      <th></th>\n",
              "      <th></th>\n",
              "    </tr>\n",
              "  </thead>\n",
              "  <tbody>\n",
              "    <tr>\n",
              "      <th>Private</th>\n",
              "      <td>8</td>\n",
              "      <td>22</td>\n",
              "      <td>5</td>\n",
              "    </tr>\n",
              "    <tr>\n",
              "      <th>Public</th>\n",
              "      <td>10</td>\n",
              "      <td>4</td>\n",
              "      <td>1</td>\n",
              "    </tr>\n",
              "  </tbody>\n",
              "</table>\n",
              "</div>"
            ],
            "text/plain": [
              "test_recurring  FALSE  TRUE  Unknown\n",
              "school_type                         \n",
              "Private             8    22        5\n",
              "Public             10     4        1"
            ]
          },
          "metadata": {
            "tags": []
          },
          "execution_count": 96
        }
      ]
    },
    {
      "cell_type": "code",
      "metadata": {
        "id": "dgBm0TgwO0hb",
        "colab_type": "code",
        "colab": {
          "base_uri": "https://localhost:8080/",
          "height": 138
        },
        "outputId": "a380c519-7979-433d-f636-d21f20007c42"
      },
      "source": [
        "df[~df.institution.isin(top_uni.institution.values)].groupby([\"school_type\", \"test_initial\"]).size().unstack(fill_value=0)"
      ],
      "execution_count": 97,
      "outputs": [
        {
          "output_type": "execute_result",
          "data": {
            "text/html": [
              "<div>\n",
              "<style scoped>\n",
              "    .dataframe tbody tr th:only-of-type {\n",
              "        vertical-align: middle;\n",
              "    }\n",
              "\n",
              "    .dataframe tbody tr th {\n",
              "        vertical-align: top;\n",
              "    }\n",
              "\n",
              "    .dataframe thead th {\n",
              "        text-align: right;\n",
              "    }\n",
              "</style>\n",
              "<table border=\"1\" class=\"dataframe\">\n",
              "  <thead>\n",
              "    <tr style=\"text-align: right;\">\n",
              "      <th>test_initial</th>\n",
              "      <th>FALSE</th>\n",
              "      <th>TRUE</th>\n",
              "      <th>Unknown</th>\n",
              "    </tr>\n",
              "    <tr>\n",
              "      <th>school_type</th>\n",
              "      <th></th>\n",
              "      <th></th>\n",
              "      <th></th>\n",
              "    </tr>\n",
              "  </thead>\n",
              "  <tbody>\n",
              "    <tr>\n",
              "      <th>Private</th>\n",
              "      <td>124</td>\n",
              "      <td>67</td>\n",
              "      <td>27</td>\n",
              "    </tr>\n",
              "    <tr>\n",
              "      <th>Public</th>\n",
              "      <td>165</td>\n",
              "      <td>29</td>\n",
              "      <td>22</td>\n",
              "    </tr>\n",
              "  </tbody>\n",
              "</table>\n",
              "</div>"
            ],
            "text/plain": [
              "test_initial  FALSE  TRUE  Unknown\n",
              "school_type                       \n",
              "Private         124    67       27\n",
              "Public          165    29       22"
            ]
          },
          "metadata": {
            "tags": []
          },
          "execution_count": 97
        }
      ]
    },
    {
      "cell_type": "code",
      "metadata": {
        "id": "2AE_HLWLUXKy",
        "colab_type": "code",
        "colab": {
          "base_uri": "https://localhost:8080/",
          "height": 138
        },
        "outputId": "21dea6c3-32fa-453f-bf6e-3c2c9163ea2f"
      },
      "source": [
        "df[~df.institution.isin(top_uni.institution.values)].groupby([\"school_type\", \"test_recurring\"]).size().unstack(fill_value=0)"
      ],
      "execution_count": 98,
      "outputs": [
        {
          "output_type": "execute_result",
          "data": {
            "text/html": [
              "<div>\n",
              "<style scoped>\n",
              "    .dataframe tbody tr th:only-of-type {\n",
              "        vertical-align: middle;\n",
              "    }\n",
              "\n",
              "    .dataframe tbody tr th {\n",
              "        vertical-align: top;\n",
              "    }\n",
              "\n",
              "    .dataframe thead th {\n",
              "        text-align: right;\n",
              "    }\n",
              "</style>\n",
              "<table border=\"1\" class=\"dataframe\">\n",
              "  <thead>\n",
              "    <tr style=\"text-align: right;\">\n",
              "      <th>test_recurring</th>\n",
              "      <th>FALSE</th>\n",
              "      <th>TRUE</th>\n",
              "      <th>Unknown</th>\n",
              "    </tr>\n",
              "    <tr>\n",
              "      <th>school_type</th>\n",
              "      <th></th>\n",
              "      <th></th>\n",
              "      <th></th>\n",
              "    </tr>\n",
              "  </thead>\n",
              "  <tbody>\n",
              "    <tr>\n",
              "      <th>Private</th>\n",
              "      <td>132</td>\n",
              "      <td>51</td>\n",
              "      <td>35</td>\n",
              "    </tr>\n",
              "    <tr>\n",
              "      <th>Public</th>\n",
              "      <td>164</td>\n",
              "      <td>20</td>\n",
              "      <td>29</td>\n",
              "    </tr>\n",
              "  </tbody>\n",
              "</table>\n",
              "</div>"
            ],
            "text/plain": [
              "test_recurring  FALSE  TRUE  Unknown\n",
              "school_type                         \n",
              "Private           132    51       35\n",
              "Public            164    20       29"
            ]
          },
          "metadata": {
            "tags": []
          },
          "execution_count": 98
        }
      ]
    },
    {
      "cell_type": "code",
      "metadata": {
        "id": "8kkzIiQ6Uejv",
        "colab_type": "code",
        "colab": {}
      },
      "source": [
        ""
      ],
      "execution_count": null,
      "outputs": []
    },
    {
      "cell_type": "code",
      "metadata": {
        "id": "R8J67ng3UeWq",
        "colab_type": "code",
        "colab": {}
      },
      "source": [
        ""
      ],
      "execution_count": null,
      "outputs": []
    },
    {
      "cell_type": "code",
      "metadata": {
        "id": "esoHTHbpOOFb",
        "colab_type": "code",
        "colab": {
          "base_uri": "https://localhost:8080/",
          "height": 225
        },
        "outputId": "7940195b-a745-44b2-9619-e64257122919"
      },
      "source": [
        "top_uni.query(\"test_initial=='FALSE'\").institution.values"
      ],
      "execution_count": 75,
      "outputs": [
        {
          "output_type": "execute_result",
          "data": {
            "text/plain": [
              "array(['Carnegie Mellon University', 'Case Western Reserve University',\n",
              "       'Pepperdine University', 'University of California at Davis',\n",
              "       'University of California at Irvine',\n",
              "       'University of California at Los Angeles',\n",
              "       'University of California at Santa Barbara',\n",
              "       'University of Michigan at Ann Arbor',\n",
              "       'University of North Carolina at Chapel Hill',\n",
              "       'University of Southern California',\n",
              "       'University of Texas at Austin',\n",
              "       'University of Wisconsin at Madison',\n",
              "       'University System of Georgia — Georgia Institute of Technology'],\n",
              "      dtype=object)"
            ]
          },
          "metadata": {
            "tags": []
          },
          "execution_count": 75
        }
      ]
    },
    {
      "cell_type": "code",
      "metadata": {
        "id": "7x7ndj3pOYLn",
        "colab_type": "code",
        "colab": {
          "base_uri": "https://localhost:8080/",
          "height": 167
        },
        "outputId": "ff1dbd8e-0d03-416d-e71e-304719d06224"
      },
      "source": [
        "top_uni[top_uni.institution.str.contains(\"Berkeley\")]"
      ],
      "execution_count": 77,
      "outputs": [
        {
          "output_type": "execute_result",
          "data": {
            "text/html": [
              "<div>\n",
              "<style scoped>\n",
              "    .dataframe tbody tr th:only-of-type {\n",
              "        vertical-align: middle;\n",
              "    }\n",
              "\n",
              "    .dataframe tbody tr th {\n",
              "        vertical-align: top;\n",
              "    }\n",
              "\n",
              "    .dataframe thead th {\n",
              "        text-align: right;\n",
              "    }\n",
              "</style>\n",
              "<table border=\"1\" class=\"dataframe\">\n",
              "  <thead>\n",
              "    <tr style=\"text-align: right;\">\n",
              "      <th></th>\n",
              "      <th>institution</th>\n",
              "      <th>school_type</th>\n",
              "      <th>state</th>\n",
              "      <th>testing_info_link</th>\n",
              "      <th>rtc_model</th>\n",
              "      <th>last_updated</th>\n",
              "      <th>testing</th>\n",
              "      <th>testing_type</th>\n",
              "      <th>test_initial</th>\n",
              "      <th>test_recurring</th>\n",
              "      <th>test_freq</th>\n",
              "      <th>test_vendor</th>\n",
              "      <th>test_pool</th>\n",
              "      <th>comments</th>\n",
              "    </tr>\n",
              "  </thead>\n",
              "  <tbody>\n",
              "    <tr>\n",
              "      <th>University of California at Berkeley</th>\n",
              "      <td>University of California at Berkeley</td>\n",
              "      <td>Public</td>\n",
              "      <td>CA</td>\n",
              "      <td>https://sa.berkeley.edu/covid19/Fall2020</td>\n",
              "      <td>Planning for in-person</td>\n",
              "      <td>7/25/2020</td>\n",
              "      <td>TRUE</td>\n",
              "      <td>Symptomatic</td>\n",
              "      <td>Unknown</td>\n",
              "      <td>Unknown</td>\n",
              "      <td>NaN</td>\n",
              "      <td>University Health Services, Innovative Genomic...</td>\n",
              "      <td>NaN</td>\n",
              "      <td>Surveillance screening planned but constrained...</td>\n",
              "    </tr>\n",
              "  </tbody>\n",
              "</table>\n",
              "</div>"
            ],
            "text/plain": [
              "                                                               institution  ...                                           comments\n",
              "University of California at Berkeley  University of California at Berkeley  ...  Surveillance screening planned but constrained...\n",
              "\n",
              "[1 rows x 14 columns]"
            ]
          },
          "metadata": {
            "tags": []
          },
          "execution_count": 77
        }
      ]
    },
    {
      "cell_type": "code",
      "metadata": {
        "id": "iTObuS4ob4bn",
        "colab_type": "code",
        "colab": {
          "base_uri": "https://localhost:8080/",
          "height": 228
        },
        "outputId": "41df2367-7e98-4494-86b0-e969c5d3f64f"
      },
      "source": [
        "top_uni.groupby([\"rtc_model\", \"test_recurring\"]).size().unstack(fill_value=0)"
      ],
      "execution_count": 72,
      "outputs": [
        {
          "output_type": "execute_result",
          "data": {
            "text/html": [
              "<div>\n",
              "<style scoped>\n",
              "    .dataframe tbody tr th:only-of-type {\n",
              "        vertical-align: middle;\n",
              "    }\n",
              "\n",
              "    .dataframe tbody tr th {\n",
              "        vertical-align: top;\n",
              "    }\n",
              "\n",
              "    .dataframe thead th {\n",
              "        text-align: right;\n",
              "    }\n",
              "</style>\n",
              "<table border=\"1\" class=\"dataframe\">\n",
              "  <thead>\n",
              "    <tr style=\"text-align: right;\">\n",
              "      <th>test_recurring</th>\n",
              "      <th>FALSE</th>\n",
              "      <th>TRUE</th>\n",
              "      <th>Unknown</th>\n",
              "    </tr>\n",
              "    <tr>\n",
              "      <th>rtc_model</th>\n",
              "      <th></th>\n",
              "      <th></th>\n",
              "      <th></th>\n",
              "    </tr>\n",
              "  </thead>\n",
              "  <tbody>\n",
              "    <tr>\n",
              "      <th>All classes online, but many students will live on campus</th>\n",
              "      <td>0</td>\n",
              "      <td>0</td>\n",
              "      <td>1</td>\n",
              "    </tr>\n",
              "    <tr>\n",
              "      <th>Considering a range of scenarios</th>\n",
              "      <td>0</td>\n",
              "      <td>1</td>\n",
              "      <td>0</td>\n",
              "    </tr>\n",
              "    <tr>\n",
              "      <th>Planning for in-person</th>\n",
              "      <td>4</td>\n",
              "      <td>3</td>\n",
              "      <td>1</td>\n",
              "    </tr>\n",
              "    <tr>\n",
              "      <th>Planning for online</th>\n",
              "      <td>3</td>\n",
              "      <td>2</td>\n",
              "      <td>0</td>\n",
              "    </tr>\n",
              "    <tr>\n",
              "      <th>Proposing a hybrid model</th>\n",
              "      <td>11</td>\n",
              "      <td>20</td>\n",
              "      <td>4</td>\n",
              "    </tr>\n",
              "  </tbody>\n",
              "</table>\n",
              "</div>"
            ],
            "text/plain": [
              "test_recurring                                      FALSE  TRUE  Unknown\n",
              "rtc_model                                                               \n",
              "All classes online, but many students will live...      0     0        1\n",
              "Considering a range of scenarios                        0     1        0\n",
              "Planning for in-person                                  4     3        1\n",
              "Planning for online                                     3     2        0\n",
              "Proposing a hybrid model                               11    20        4"
            ]
          },
          "metadata": {
            "tags": []
          },
          "execution_count": 72
        }
      ]
    },
    {
      "cell_type": "code",
      "metadata": {
        "id": "zHfreq9Db7TX",
        "colab_type": "code",
        "colab": {
          "base_uri": "https://localhost:8080/",
          "height": 168
        },
        "outputId": "608e50dc-50db-4c25-e41d-0ec0e8d5e6cb"
      },
      "source": [
        "v = top_uni.groupby(['test_initial', 'test_recurring']).size().unstack(fill_value=0).sort_values(by=\"FALSE\", ascending=False)\n",
        "v"
      ],
      "execution_count": 26,
      "outputs": [
        {
          "output_type": "execute_result",
          "data": {
            "text/html": [
              "<div>\n",
              "<style scoped>\n",
              "    .dataframe tbody tr th:only-of-type {\n",
              "        vertical-align: middle;\n",
              "    }\n",
              "\n",
              "    .dataframe tbody tr th {\n",
              "        vertical-align: top;\n",
              "    }\n",
              "\n",
              "    .dataframe thead th {\n",
              "        text-align: right;\n",
              "    }\n",
              "</style>\n",
              "<table border=\"1\" class=\"dataframe\">\n",
              "  <thead>\n",
              "    <tr style=\"text-align: right;\">\n",
              "      <th>test_recurring</th>\n",
              "      <th>FALSE</th>\n",
              "      <th>TRUE</th>\n",
              "      <th>Unknown</th>\n",
              "    </tr>\n",
              "    <tr>\n",
              "      <th>test_initial</th>\n",
              "      <th></th>\n",
              "      <th></th>\n",
              "      <th></th>\n",
              "    </tr>\n",
              "  </thead>\n",
              "  <tbody>\n",
              "    <tr>\n",
              "      <th>FALSE</th>\n",
              "      <td>14</td>\n",
              "      <td>2</td>\n",
              "      <td>0</td>\n",
              "    </tr>\n",
              "    <tr>\n",
              "      <th>TRUE</th>\n",
              "      <td>6</td>\n",
              "      <td>29</td>\n",
              "      <td>4</td>\n",
              "    </tr>\n",
              "    <tr>\n",
              "      <th>Unknown</th>\n",
              "      <td>1</td>\n",
              "      <td>1</td>\n",
              "      <td>4</td>\n",
              "    </tr>\n",
              "  </tbody>\n",
              "</table>\n",
              "</div>"
            ],
            "text/plain": [
              "test_recurring  FALSE  TRUE  Unknown\n",
              "test_initial                        \n",
              "FALSE              14     2        0\n",
              "TRUE                6    29        4\n",
              "Unknown             1     1        4"
            ]
          },
          "metadata": {
            "tags": []
          },
          "execution_count": 26
        }
      ]
    },
    {
      "cell_type": "code",
      "metadata": {
        "id": "Yrgp1QNLJjYo",
        "colab_type": "code",
        "colab": {}
      },
      "source": [
        ""
      ],
      "execution_count": null,
      "outputs": []
    },
    {
      "cell_type": "markdown",
      "metadata": {
        "id": "17Ni4tHVjNJe",
        "colab_type": "text"
      },
      "source": [
        "# Scraping college case data from the NYT"
      ]
    },
    {
      "cell_type": "code",
      "metadata": {
        "id": "SzIwMb4gjYNb",
        "colab_type": "code",
        "colab": {}
      },
      "source": [
        "from bs4 import BeautifulSoup "
      ],
      "execution_count": 27,
      "outputs": []
    },
    {
      "cell_type": "code",
      "metadata": {
        "id": "mKEtETh2lFCv",
        "colab_type": "code",
        "colab": {}
      },
      "source": [
        "with open(\"/content/COVID-19-testing-database/data/nyt.txt\", \"r\", encoding='utf-8') as f:\n",
        "    text = f.read()"
      ],
      "execution_count": 28,
      "outputs": []
    },
    {
      "cell_type": "code",
      "metadata": {
        "id": "xNrkIBuAlQFZ",
        "colab_type": "code",
        "colab": {}
      },
      "source": [
        "s = BeautifulSoup(text)"
      ],
      "execution_count": 29,
      "outputs": []
    },
    {
      "cell_type": "code",
      "metadata": {
        "id": "PEAIVdrwlVMp",
        "colab_type": "code",
        "colab": {
          "base_uri": "https://localhost:8080/",
          "height": 415
        },
        "outputId": "04719f50-efce-4bc9-be58-4e3b14e8f6a4"
      },
      "source": [
        "schoolname = []\n",
        "schoolcases = []\n",
        "schoolloc = []\n",
        "\n",
        "sn = s.find(\"div\", {\"id\":\"schoolList\"}).findAll(\"div\", {\"class\":\"schoolname\"})\n",
        "sc = s.find(\"div\", {\"id\":\"schoolList\"}).findAll(\"div\", {\"class\":\"schoolcases\"})\n",
        "sl = s.find(\"div\", {\"id\":\"schoolList\"}).findAll(\"div\", {\"class\":\"schoolloc\"})\n",
        "for (n, c, l) in zip(sn, sc, sl):\n",
        "  name = n.text.strip()\n",
        "  casenum = int(c.text.strip())\n",
        "  loc = l.text.strip()\n",
        "  if \"*\" in name:\n",
        "    name = name.replace(\"*\", \"\")\n",
        "  if \",\" in name:\n",
        "    name = name.replace(\",\", \" at\")\n",
        "    print(name)\n",
        "  schoolname.append(name)\n",
        "  schoolcases.append(casenum)\n",
        "  schoolloc.append(loc)"
      ],
      "execution_count": 30,
      "outputs": [
        {
          "output_type": "stream",
          "text": [
            "University of California at Berkeley\n",
            "University of California at Los Angeles\n",
            "University of California at Irvine\n",
            "University of California at Davis\n",
            "California State University at Long Beach\n",
            "University of Nevada at Reno\n",
            "University of Nevada at Las Vegas\n",
            "University of Maryland at College Park\n",
            "California Polytechnic State University at San Luis Obispo\n",
            "University of California at Riverside\n",
            "California State University at Northridge\n",
            "University of Maryland at Baltimore County\n",
            "University of California at Santa Cruz\n",
            "California State University at East Bay\n",
            "University of South Florida at St. Petersburg\n",
            "University of California at Santa Barbara\n",
            "California State University at Dominguez Hills\n",
            "California State University at San Marcos\n",
            "California State University at San Bernardino\n",
            "California State Polytechnic University at Pomona\n",
            "California State University at Chico\n",
            "California State University at Channel Islands\n",
            "University of Tennessee at Knoxville\n"
          ],
          "name": "stdout"
        }
      ]
    },
    {
      "cell_type": "code",
      "metadata": {
        "id": "Q9iQJZaelngl",
        "colab_type": "code",
        "colab": {}
      },
      "source": [
        "cases = pd.DataFrame({\"institution\": schoolname, \"cases\":schoolcases, \"location\":schoolloc})\n",
        "cases.index = cases[\"institution\"].values"
      ],
      "execution_count": 47,
      "outputs": []
    },
    {
      "cell_type": "code",
      "metadata": {
        "id": "-efiUpovv4Zb",
        "colab_type": "code",
        "colab": {
          "base_uri": "https://localhost:8080/",
          "height": 35
        },
        "outputId": "3e3fbd8e-1fac-4c05-b0a2-8756fba5135d"
      },
      "source": [
        "np.intersect1d(top_uni.institution.values, cases.institution.values).shape"
      ],
      "execution_count": 32,
      "outputs": [
        {
          "output_type": "execute_result",
          "data": {
            "text/plain": [
              "(27,)"
            ]
          },
          "metadata": {
            "tags": []
          },
          "execution_count": 32
        }
      ]
    },
    {
      "cell_type": "code",
      "metadata": {
        "id": "pYfeQ_tCuwst",
        "colab_type": "code",
        "colab": {
          "base_uri": "https://localhost:8080/",
          "height": 345
        },
        "outputId": "63fe15b0-5398-4b0f-ea31-20f03a500256"
      },
      "source": [
        "np.setdiff1d(top_uni.institution.values, cases.institution.values)"
      ],
      "execution_count": 33,
      "outputs": [
        {
          "output_type": "execute_result",
          "data": {
            "text/plain": [
              "array(['Boston University', 'Brandeis University', 'Brown University',\n",
              "       'Case Western Reserve University', 'College of William & Mary',\n",
              "       'Cornell University', 'Duke University', 'Emory University',\n",
              "       'George Washington University', 'Harvard University',\n",
              "       'Johns Hopkins University', 'Lehigh University',\n",
              "       'Massachusetts Institute of Technology', 'New York University',\n",
              "       'Northeastern University', 'Pennsylvania State University',\n",
              "       'Rensselaer Polytechnic Institute', 'Rutgers University',\n",
              "       'Syracuse University',\n",
              "       'Texas A&M University system — College Station',\n",
              "       'Tufts University', 'Tulane University',\n",
              "       'University System of Georgia — Georgia Institute of Technology',\n",
              "       'University System of Georgia — University of Georgia',\n",
              "       'University of California at San Diego',\n",
              "       'University of Illinois at Urbana-Champaign',\n",
              "       'University of Miami', 'University of Michigan at Ann Arbor',\n",
              "       'University of Wisconsin at Madison', 'Vanderbilt University',\n",
              "       'Villanova University', 'Wake Forest University',\n",
              "       'Worcester Polytechnic Institute', 'Yale University'], dtype=object)"
            ]
          },
          "metadata": {
            "tags": []
          },
          "execution_count": 33
        }
      ]
    },
    {
      "cell_type": "code",
      "metadata": {
        "id": "j1S9XXKUSO9E",
        "colab_type": "code",
        "colab": {
          "base_uri": "https://localhost:8080/",
          "height": 407
        },
        "outputId": "8a0658e8-7f3f-46e5-9743-ffa3fa5cf8b7"
      },
      "source": [
        "cases"
      ],
      "execution_count": 94,
      "outputs": [
        {
          "output_type": "execute_result",
          "data": {
            "text/html": [
              "<div>\n",
              "<style scoped>\n",
              "    .dataframe tbody tr th:only-of-type {\n",
              "        vertical-align: middle;\n",
              "    }\n",
              "\n",
              "    .dataframe tbody tr th {\n",
              "        vertical-align: top;\n",
              "    }\n",
              "\n",
              "    .dataframe thead th {\n",
              "        text-align: right;\n",
              "    }\n",
              "</style>\n",
              "<table border=\"1\" class=\"dataframe\">\n",
              "  <thead>\n",
              "    <tr style=\"text-align: right;\">\n",
              "      <th></th>\n",
              "      <th>institution</th>\n",
              "      <th>cases</th>\n",
              "      <th>location</th>\n",
              "    </tr>\n",
              "  </thead>\n",
              "  <tbody>\n",
              "    <tr>\n",
              "      <th>University of Texas at Austin</th>\n",
              "      <td>University of Texas at Austin</td>\n",
              "      <td>449</td>\n",
              "      <td>Austin, Texas</td>\n",
              "    </tr>\n",
              "    <tr>\n",
              "      <th>University of Central Florida</th>\n",
              "      <td>University of Central Florida</td>\n",
              "      <td>438</td>\n",
              "      <td>Orlando, Fla.</td>\n",
              "    </tr>\n",
              "    <tr>\n",
              "      <th>University of Georgia</th>\n",
              "      <td>University of Georgia</td>\n",
              "      <td>390</td>\n",
              "      <td>Athens, Ga.</td>\n",
              "    </tr>\n",
              "    <tr>\n",
              "      <th>Texas A&amp;M University</th>\n",
              "      <td>Texas A&amp;M University</td>\n",
              "      <td>302</td>\n",
              "      <td>College Station, Texas</td>\n",
              "    </tr>\n",
              "    <tr>\n",
              "      <th>University of Washington</th>\n",
              "      <td>University of Washington</td>\n",
              "      <td>249</td>\n",
              "      <td>Seattle</td>\n",
              "    </tr>\n",
              "    <tr>\n",
              "      <th>...</th>\n",
              "      <td>...</td>\n",
              "      <td>...</td>\n",
              "      <td>...</td>\n",
              "    </tr>\n",
              "    <tr>\n",
              "      <th>William Paterson University</th>\n",
              "      <td>William Paterson University</td>\n",
              "      <td>1</td>\n",
              "      <td>Wayne, N.J.</td>\n",
              "    </tr>\n",
              "    <tr>\n",
              "      <th>Carnegie Mellon University</th>\n",
              "      <td>Carnegie Mellon University</td>\n",
              "      <td>1</td>\n",
              "      <td>Pittsburgh</td>\n",
              "    </tr>\n",
              "    <tr>\n",
              "      <th>Barnard College</th>\n",
              "      <td>Barnard College</td>\n",
              "      <td>1</td>\n",
              "      <td>New York City</td>\n",
              "    </tr>\n",
              "    <tr>\n",
              "      <th>Winthrop University</th>\n",
              "      <td>Winthrop University</td>\n",
              "      <td>1</td>\n",
              "      <td>Rock Hill, S.C.</td>\n",
              "    </tr>\n",
              "    <tr>\n",
              "      <th>University of Missouri-St. Louis</th>\n",
              "      <td>University of Missouri-St. Louis</td>\n",
              "      <td>1</td>\n",
              "      <td>Bellerive Acres, Mo.</td>\n",
              "    </tr>\n",
              "  </tbody>\n",
              "</table>\n",
              "<p>271 rows × 3 columns</p>\n",
              "</div>"
            ],
            "text/plain": [
              "                                                       institution  ...                location\n",
              "University of Texas at Austin        University of Texas at Austin  ...           Austin, Texas\n",
              "University of Central Florida        University of Central Florida  ...           Orlando, Fla.\n",
              "University of Georgia                        University of Georgia  ...             Athens, Ga.\n",
              "Texas A&M University                          Texas A&M University  ...  College Station, Texas\n",
              "University of Washington                  University of Washington  ...                 Seattle\n",
              "...                                                            ...  ...                     ...\n",
              "William Paterson University            William Paterson University  ...             Wayne, N.J.\n",
              "Carnegie Mellon University              Carnegie Mellon University  ...              Pittsburgh\n",
              "Barnard College                                    Barnard College  ...           New York City\n",
              "Winthrop University                            Winthrop University  ...         Rock Hill, S.C.\n",
              "University of Missouri-St. Louis  University of Missouri-St. Louis  ...    Bellerive Acres, Mo.\n",
              "\n",
              "[271 rows x 3 columns]"
            ]
          },
          "metadata": {
            "tags": []
          },
          "execution_count": 94
        }
      ]
    },
    {
      "cell_type": "code",
      "metadata": {
        "id": "sFXv4S26l_bg",
        "colab_type": "code",
        "colab": {
          "base_uri": "https://localhost:8080/",
          "height": 108
        },
        "outputId": "9427dd8f-720d-44c7-f979-85ddfce5c2fb"
      },
      "source": [
        "cases[cases.institution.str.contains(\"Mass\")]"
      ],
      "execution_count": 34,
      "outputs": [
        {
          "output_type": "execute_result",
          "data": {
            "text/html": [
              "<div>\n",
              "<style scoped>\n",
              "    .dataframe tbody tr th:only-of-type {\n",
              "        vertical-align: middle;\n",
              "    }\n",
              "\n",
              "    .dataframe tbody tr th {\n",
              "        vertical-align: top;\n",
              "    }\n",
              "\n",
              "    .dataframe thead th {\n",
              "        text-align: right;\n",
              "    }\n",
              "</style>\n",
              "<table border=\"1\" class=\"dataframe\">\n",
              "  <thead>\n",
              "    <tr style=\"text-align: right;\">\n",
              "      <th></th>\n",
              "      <th>institution</th>\n",
              "      <th>cases</th>\n",
              "      <th>location</th>\n",
              "    </tr>\n",
              "  </thead>\n",
              "  <tbody>\n",
              "    <tr>\n",
              "      <th>144</th>\n",
              "      <td>University of Massachusetts Amherst</td>\n",
              "      <td>6</td>\n",
              "      <td>Amherst, Mass.</td>\n",
              "    </tr>\n",
              "    <tr>\n",
              "      <th>171</th>\n",
              "      <td>University of Massachusetts Medical School</td>\n",
              "      <td>4</td>\n",
              "      <td>Worcester, Mass.</td>\n",
              "    </tr>\n",
              "  </tbody>\n",
              "</table>\n",
              "</div>"
            ],
            "text/plain": [
              "                                    institution  cases          location\n",
              "144         University of Massachusetts Amherst      6    Amherst, Mass.\n",
              "171  University of Massachusetts Medical School      4  Worcester, Mass."
            ]
          },
          "metadata": {
            "tags": []
          },
          "execution_count": 34
        }
      ]
    },
    {
      "cell_type": "code",
      "metadata": {
        "id": "3fE1WotjucfF",
        "colab_type": "code",
        "colab": {
          "base_uri": "https://localhost:8080/",
          "height": 121
        },
        "outputId": "fb3a13f3-3f0e-422a-a962-315ea22b67e9"
      },
      "source": [
        "top_uni[\"cases\"] = top_uni.institution.map(cases[\"cases\"])"
      ],
      "execution_count": 49,
      "outputs": [
        {
          "output_type": "stream",
          "text": [
            "/usr/local/lib/python3.6/dist-packages/ipykernel_launcher.py:1: SettingWithCopyWarning: \n",
            "A value is trying to be set on a copy of a slice from a DataFrame.\n",
            "Try using .loc[row_indexer,col_indexer] = value instead\n",
            "\n",
            "See the caveats in the documentation: https://pandas.pydata.org/pandas-docs/stable/user_guide/indexing.html#returning-a-view-versus-a-copy\n",
            "  \"\"\"Entry point for launching an IPython kernel.\n"
          ],
          "name": "stderr"
        }
      ]
    },
    {
      "cell_type": "code",
      "metadata": {
        "id": "BIYCcJ8z2RX5",
        "colab_type": "code",
        "colab": {
          "base_uri": "https://localhost:8080/",
          "height": 104
        },
        "outputId": "c10320f4-7991-4fd1-d450-57dfa0b3ee3b"
      },
      "source": [
        "top_uni[top_uni[\"cases\"].notna()].groupby(\"test_initial\")[\"cases\"].sum()"
      ],
      "execution_count": 54,
      "outputs": [
        {
          "output_type": "execute_result",
          "data": {
            "text/plain": [
              "test_initial\n",
              "FALSE      764.0\n",
              "TRUE       762.0\n",
              "Unknown    388.0\n",
              "Name: cases, dtype: float64"
            ]
          },
          "metadata": {
            "tags": []
          },
          "execution_count": 54
        }
      ]
    },
    {
      "cell_type": "code",
      "metadata": {
        "id": "OpOr8fxECOis",
        "colab_type": "code",
        "colab": {
          "base_uri": "https://localhost:8080/",
          "height": 104
        },
        "outputId": "bd5c8d4d-9dae-469e-b387-4ea18a35d8b7"
      },
      "source": [
        "top_uni[top_uni[\"cases\"].notna()].groupby(\"test_recurring\")[\"cases\"].sum()"
      ],
      "execution_count": 55,
      "outputs": [
        {
          "output_type": "execute_result",
          "data": {
            "text/plain": [
              "test_recurring\n",
              "FALSE      970.0\n",
              "TRUE       401.0\n",
              "Unknown    543.0\n",
              "Name: cases, dtype: float64"
            ]
          },
          "metadata": {
            "tags": []
          },
          "execution_count": 55
        }
      ]
    },
    {
      "cell_type": "code",
      "metadata": {
        "id": "WZOiPxJ1CXrh",
        "colab_type": "code",
        "colab": {}
      },
      "source": [
        ""
      ],
      "execution_count": null,
      "outputs": []
    }
  ]
}