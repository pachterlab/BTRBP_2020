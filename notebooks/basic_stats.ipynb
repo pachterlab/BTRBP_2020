{
  "nbformat": 4,
  "nbformat_minor": 0,
  "metadata": {
    "colab": {
      "name": "basic_stats",
      "provenance": [],
      "authorship_tag": "ABX9TyP+k1f91C8Ff0rA5uFlJ8wf",
      "include_colab_link": true
    },
    "kernelspec": {
      "name": "python3",
      "display_name": "Python 3"
    }
  },
  "cells": [
    {
      "cell_type": "markdown",
      "metadata": {
        "id": "view-in-github",
        "colab_type": "text"
      },
      "source": [
        "<a href=\"https://colab.research.google.com/github/pachterlab/COVID-19-testing-database/blob/master/notebooks/basic_stats.ipynb\" target=\"_parent\"><img src=\"https://colab.research.google.com/assets/colab-badge.svg\" alt=\"Open In Colab\"/></a>"
      ]
    },
    {
      "cell_type": "code",
      "metadata": {
        "id": "wSw5SdtvH8t6",
        "colab_type": "code",
        "colab": {}
      },
      "source": [
        "!wget --output-file=\"logs.csv\" \"https://docs.google.com/spreadsheets/d/10I8bVkLzvrmXJsb5N-8JSFpWw5vBwDKYzyOVAI4viKo/export?format=csv&gid=1514440859\" -O \"sheet.csv\""
      ],
      "execution_count": 1,
      "outputs": []
    },
    {
      "cell_type": "code",
      "metadata": {
        "id": "ta9Ds8btII6x",
        "colab_type": "code",
        "colab": {}
      },
      "source": [
        "!awk 'NR>4' sheet.csv > data.csv"
      ],
      "execution_count": 2,
      "outputs": []
    },
    {
      "cell_type": "code",
      "metadata": {
        "id": "SJnhI5hkINGB",
        "colab_type": "code",
        "colab": {}
      },
      "source": [
        "import pandas as pd\n",
        "import numpy as np\n",
        "import matplotlib.pyplot as plt\n",
        "import matplotlib as mpl\n",
        "\n",
        "def nd(arr):\n",
        "  return np.asarray(arr).reshape(-1)\n",
        "\n",
        "def yex(ax):\n",
        "    lims = [\n",
        "        np.min([ax.get_xlim(), ax.get_ylim()]),  # min of both axes\n",
        "        np.max([ax.get_xlim(), ax.get_ylim()]),  # max of both axes\n",
        "    ]\n",
        "    \n",
        "    # now plot both limits against eachother\n",
        "    ax.plot(lims, lims, 'k-', alpha=0.75, zorder=0)\n",
        "    ax.set_aspect('equal')\n",
        "    ax.set_xlim(lims)\n",
        "    ax.set_ylim(lims)\n",
        "    return ax\n",
        "\n",
        "fsize=20\n",
        "\n",
        "plt.rcParams.update({'font.size': fsize})\n",
        "%config InlineBackend.figure_format = 'retina'"
      ],
      "execution_count": 3,
      "outputs": []
    },
    {
      "cell_type": "code",
      "metadata": {
        "id": "UMsYtSCMIrpO",
        "colab_type": "code",
        "colab": {}
      },
      "source": [
        "df = pd.read_csv(\"data.csv\")\n",
        "df.index = df.institution.values\n",
        "df[\"testing_num\"] = df.testing.map(lambda x: {\"FALSE\": 0, \"TRUE\": 1}.get(x, 0))"
      ],
      "execution_count": 4,
      "outputs": []
    },
    {
      "cell_type": "code",
      "metadata": {
        "id": "07CIHTkx9JWa",
        "colab_type": "code",
        "colab": {
          "base_uri": "https://localhost:8080/",
          "height": 493
        },
        "outputId": "fa571d1f-e1f9-4ee1-d9ea-d4526f1b9413"
      },
      "source": [
        "df.head()"
      ],
      "execution_count": 5,
      "outputs": [
        {
          "output_type": "execute_result",
          "data": {
            "text/html": [
              "<div>\n",
              "<style scoped>\n",
              "    .dataframe tbody tr th:only-of-type {\n",
              "        vertical-align: middle;\n",
              "    }\n",
              "\n",
              "    .dataframe tbody tr th {\n",
              "        vertical-align: top;\n",
              "    }\n",
              "\n",
              "    .dataframe thead th {\n",
              "        text-align: right;\n",
              "    }\n",
              "</style>\n",
              "<table border=\"1\" class=\"dataframe\">\n",
              "  <thead>\n",
              "    <tr style=\"text-align: right;\">\n",
              "      <th></th>\n",
              "      <th>institution</th>\n",
              "      <th>type</th>\n",
              "      <th>state</th>\n",
              "      <th>testing_info_link</th>\n",
              "      <th>rtc_model</th>\n",
              "      <th>last_updated</th>\n",
              "      <th>testing</th>\n",
              "      <th>testing_type</th>\n",
              "      <th>test_initial (True/False)</th>\n",
              "      <th>test_recurring</th>\n",
              "      <th>test_freq (times/week)</th>\n",
              "      <th>test_vendor</th>\n",
              "      <th>test_pool</th>\n",
              "      <th>comments</th>\n",
              "      <th>testing_num</th>\n",
              "    </tr>\n",
              "  </thead>\n",
              "  <tbody>\n",
              "    <tr>\n",
              "      <th>Abilene Christian University</th>\n",
              "      <td>Abilene Christian University</td>\n",
              "      <td>Private</td>\n",
              "      <td>TX</td>\n",
              "      <td>https://www.acu.edu/coronavirus/july-17-2020-c...</td>\n",
              "      <td>Planning for in-person</td>\n",
              "      <td>7/22/2020</td>\n",
              "      <td>TRUE</td>\n",
              "      <td>Both asymptomatic and symptomatic</td>\n",
              "      <td>FALSE</td>\n",
              "      <td>FALSE</td>\n",
              "      <td>0.00</td>\n",
              "      <td>NaN</td>\n",
              "      <td>NaN</td>\n",
              "      <td>Our plan includes testing any faculty, staff a...</td>\n",
              "      <td>1</td>\n",
              "    </tr>\n",
              "    <tr>\n",
              "      <th>Academy of Art University</th>\n",
              "      <td>Academy of Art University</td>\n",
              "      <td>Private</td>\n",
              "      <td>CA</td>\n",
              "      <td>https://www.academyart.edu/academy-of-art-univ...</td>\n",
              "      <td>Proposing a hybrid model</td>\n",
              "      <td>7/27/2020</td>\n",
              "      <td>Unknown</td>\n",
              "      <td>Unknown</td>\n",
              "      <td>Unknown</td>\n",
              "      <td>Unknown</td>\n",
              "      <td>NaN</td>\n",
              "      <td>NaN</td>\n",
              "      <td>NaN</td>\n",
              "      <td>NaN</td>\n",
              "      <td>0</td>\n",
              "    </tr>\n",
              "    <tr>\n",
              "      <th>Adelphi University</th>\n",
              "      <td>Adelphi University</td>\n",
              "      <td>Private</td>\n",
              "      <td>NY</td>\n",
              "      <td>https://www.adelphi.edu/restart/wp-content/upl...</td>\n",
              "      <td>Proposing a hybrid model</td>\n",
              "      <td>7/27/2020</td>\n",
              "      <td>TRUE</td>\n",
              "      <td>Symptomatic</td>\n",
              "      <td>TRUE</td>\n",
              "      <td>TRUE</td>\n",
              "      <td>0.33</td>\n",
              "      <td>Vault Health</td>\n",
              "      <td>NaN</td>\n",
              "      <td>Re-entry testing of residential students, inte...</td>\n",
              "      <td>1</td>\n",
              "    </tr>\n",
              "    <tr>\n",
              "      <th>Adrian College</th>\n",
              "      <td>Adrian College</td>\n",
              "      <td>Private</td>\n",
              "      <td>MI</td>\n",
              "      <td>http://adrian.edu/news/ac-president-docking-sa...</td>\n",
              "      <td>Planning for in-person</td>\n",
              "      <td>7/27/2020</td>\n",
              "      <td>FALSE</td>\n",
              "      <td>No voluntary testing</td>\n",
              "      <td>FALSE</td>\n",
              "      <td>FALSE</td>\n",
              "      <td>0.00</td>\n",
              "      <td>NaN</td>\n",
              "      <td>NaN</td>\n",
              "      <td>Students are required to have a negative test ...</td>\n",
              "      <td>0</td>\n",
              "    </tr>\n",
              "    <tr>\n",
              "      <th>Agnes Scott College</th>\n",
              "      <td>Agnes Scott College</td>\n",
              "      <td>Private</td>\n",
              "      <td>GA</td>\n",
              "      <td>https://www.agnesscott.edu/coronavirus/updates...</td>\n",
              "      <td>Planning for in-person</td>\n",
              "      <td>7/22/2020</td>\n",
              "      <td>TRUE</td>\n",
              "      <td>Unknown</td>\n",
              "      <td>TRUE</td>\n",
              "      <td>Unknown</td>\n",
              "      <td>0.00</td>\n",
              "      <td>Unknown</td>\n",
              "      <td>NaN</td>\n",
              "      <td>Athletes will be tested upon arrival, students...</td>\n",
              "      <td>1</td>\n",
              "    </tr>\n",
              "  </tbody>\n",
              "</table>\n",
              "</div>"
            ],
            "text/plain": [
              "                                               institution  ... testing_num\n",
              "Abilene Christian University  Abilene Christian University  ...           1\n",
              "Academy of Art University        Academy of Art University  ...           0\n",
              "Adelphi University                      Adelphi University  ...           1\n",
              "Adrian College                              Adrian College  ...           0\n",
              "Agnes Scott College                    Agnes Scott College  ...           1\n",
              "\n",
              "[5 rows x 15 columns]"
            ]
          },
          "metadata": {
            "tags": []
          },
          "execution_count": 5
        }
      ]
    },
    {
      "cell_type": "code",
      "metadata": {
        "id": "dX7GUGFoJvuZ",
        "colab_type": "code",
        "colab": {
          "base_uri": "https://localhost:8080/",
          "height": 102
        },
        "outputId": "3f714774-9e6f-4278-f65a-e3b6dd957d2f"
      },
      "source": [
        "df.columns"
      ],
      "execution_count": 6,
      "outputs": [
        {
          "output_type": "execute_result",
          "data": {
            "text/plain": [
              "Index(['institution', 'type', 'state', 'testing_info_link', 'rtc_model',\n",
              "       'last_updated', 'testing', 'testing_type', 'test_initial (True/False)',\n",
              "       'test_recurring', 'test_freq (times/week)', 'test_vendor', 'test_pool',\n",
              "       'comments', 'testing_num'],\n",
              "      dtype='object')"
            ]
          },
          "metadata": {
            "tags": []
          },
          "execution_count": 6
        }
      ]
    },
    {
      "cell_type": "code",
      "metadata": {
        "id": "4qWCc6cLMedc",
        "colab_type": "code",
        "colab": {
          "base_uri": "https://localhost:8080/",
          "height": 323
        },
        "outputId": "d2f37ca4-acef-4e57-c5ae-92e0135f2049"
      },
      "source": [
        "df.groupby([\"type\", \"test_initial (True/False)\", \"test_recurring\"])[\"testing\"].count().sort_values()\n"
      ],
      "execution_count": 7,
      "outputs": [
        {
          "output_type": "execute_result",
          "data": {
            "text/plain": [
              "type     test_initial (True/False)  test_recurring\n",
              "Private  Unknown                    TRUE                1\n",
              "         FALSE                      Unknown             2\n",
              "         Unknown                    FALSE               3\n",
              "Public   FALSE                      TRUE                3\n",
              "         TRUE                       Unknown             3\n",
              "         FALSE                      Unknown             4\n",
              "Private  FALSE                      TRUE                5\n",
              "Public   TRUE                       FALSE               9\n",
              "Private  TRUE                       Unknown            12\n",
              "                                    FALSE              13\n",
              "Public   TRUE                       TRUE               16\n",
              "         Unknown                    Unknown            18\n",
              "Private  Unknown                    Unknown            24\n",
              "         TRUE                       TRUE               54\n",
              "         FALSE                      FALSE             110\n",
              "Public   FALSE                      FALSE             124\n",
              "Name: testing, dtype: int64"
            ]
          },
          "metadata": {
            "tags": []
          },
          "execution_count": 7
        }
      ]
    },
    {
      "cell_type": "code",
      "metadata": {
        "id": "QZeAEzr7KWe3",
        "colab_type": "code",
        "colab": {
          "base_uri": "https://localhost:8080/",
          "height": 359
        },
        "outputId": "4a62cb7e-3d72-4179-d1ea-e63f9befd9d8"
      },
      "source": [
        "pd.DataFrame(df.test_vendor.value_counts()).head(10)"
      ],
      "execution_count": 9,
      "outputs": [
        {
          "output_type": "execute_result",
          "data": {
            "text/html": [
              "<div>\n",
              "<style scoped>\n",
              "    .dataframe tbody tr th:only-of-type {\n",
              "        vertical-align: middle;\n",
              "    }\n",
              "\n",
              "    .dataframe tbody tr th {\n",
              "        vertical-align: top;\n",
              "    }\n",
              "\n",
              "    .dataframe thead th {\n",
              "        text-align: right;\n",
              "    }\n",
              "</style>\n",
              "<table border=\"1\" class=\"dataframe\">\n",
              "  <thead>\n",
              "    <tr style=\"text-align: right;\">\n",
              "      <th></th>\n",
              "      <th>test_vendor</th>\n",
              "    </tr>\n",
              "  </thead>\n",
              "  <tbody>\n",
              "    <tr>\n",
              "      <th>Broad Institute</th>\n",
              "      <td>16</td>\n",
              "    </tr>\n",
              "    <tr>\n",
              "      <th>Student Health</th>\n",
              "      <td>4</td>\n",
              "    </tr>\n",
              "    <tr>\n",
              "      <th>Vault Health</th>\n",
              "      <td>2</td>\n",
              "    </tr>\n",
              "    <tr>\n",
              "      <th>Quest</th>\n",
              "      <td>2</td>\n",
              "    </tr>\n",
              "    <tr>\n",
              "      <th>LabCorp</th>\n",
              "      <td>2</td>\n",
              "    </tr>\n",
              "    <tr>\n",
              "      <th>unlisted</th>\n",
              "      <td>2</td>\n",
              "    </tr>\n",
              "    <tr>\n",
              "      <th>In house lab</th>\n",
              "      <td>2</td>\n",
              "    </tr>\n",
              "    <tr>\n",
              "      <th>University Health Center</th>\n",
              "      <td>2</td>\n",
              "    </tr>\n",
              "    <tr>\n",
              "      <th>Student Health Services</th>\n",
              "      <td>2</td>\n",
              "    </tr>\n",
              "    <tr>\n",
              "      <th>University of Alabama at Birmingham</th>\n",
              "      <td>1</td>\n",
              "    </tr>\n",
              "  </tbody>\n",
              "</table>\n",
              "</div>"
            ],
            "text/plain": [
              "                                     test_vendor\n",
              "Broad Institute                               16\n",
              "Student Health                                 4\n",
              "Vault Health                                   2\n",
              "Quest                                          2\n",
              "LabCorp                                        2\n",
              "unlisted                                       2\n",
              "In house lab                                   2\n",
              "University Health Center                       2\n",
              "Student Health Services                        2\n",
              "University of Alabama at Birmingham            1"
            ]
          },
          "metadata": {
            "tags": []
          },
          "execution_count": 9
        }
      ]
    },
    {
      "cell_type": "code",
      "metadata": {
        "id": "-PRGQll6KpAp",
        "colab_type": "code",
        "colab": {}
      },
      "source": [
        ""
      ],
      "execution_count": null,
      "outputs": []
    }
  ]
}